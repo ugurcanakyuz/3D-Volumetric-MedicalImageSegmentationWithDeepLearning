{
 "cells": [
  {
   "cell_type": "code",
   "execution_count": 1,
   "id": "0f987312",
   "metadata": {},
   "outputs": [],
   "source": [
    "from utils.Config import Config"
   ]
  },
  {
   "cell_type": "code",
   "execution_count": 4,
   "id": "8a04b82c",
   "metadata": {},
   "outputs": [],
   "source": [
    "cfg = Config(\"config.yaml\")"
   ]
  },
  {
   "cell_type": "code",
   "execution_count": 5,
   "id": "d9b7b8a3",
   "metadata": {},
   "outputs": [
    {
     "data": {
      "text/plain": [
       "namespace(data=namespace(train_path='Data/feta_processed2',\n",
       "                         val_path='Data/feta_processed2',\n",
       "                         batch_size=1,\n",
       "                         patch_size=[128, 128, 128]),\n",
       "          optimizer=namespace(SGD=namespace(lr=1e-05,\n",
       "                                            momentum=0.9,\n",
       "                                            nesterov=True)),\n",
       "          ES=namespace(patience=20, min_delta=0.001),\n",
       "          lr_scheduler=namespace(CLR=namespace(base=1e-05,\n",
       "                                               max=0.01,\n",
       "                                               up=3,\n",
       "                                               down=5,\n",
       "                                               mode='triangular2')))"
      ]
     },
     "execution_count": 5,
     "metadata": {},
     "output_type": "execute_result"
    }
   ],
   "source": [
    "cfg"
   ]
  },
  {
   "cell_type": "code",
   "execution_count": 6,
   "id": "3456bce5",
   "metadata": {},
   "outputs": [
    {
     "data": {
      "text/plain": [
       "'Data/feta_processed2'"
      ]
     },
     "execution_count": 6,
     "metadata": {},
     "output_type": "execute_result"
    }
   ],
   "source": [
    "cfg.data.train_path"
   ]
  },
  {
   "cell_type": "code",
   "execution_count": 7,
   "id": "4966a2cb",
   "metadata": {},
   "outputs": [
    {
     "data": {
      "text/plain": [
       "namespace(lr=1e-05, momentum=0.9, nesterov=True)"
      ]
     },
     "execution_count": 7,
     "metadata": {},
     "output_type": "execute_result"
    }
   ],
   "source": [
    "cfg.optimizer.SGD"
   ]
  }
 ],
 "metadata": {
  "kernelspec": {
   "display_name": "Python 3 (ipykernel)",
   "language": "python",
   "name": "python3"
  },
  "language_info": {
   "codemirror_mode": {
    "name": "ipython",
    "version": 3
   },
   "file_extension": ".py",
   "mimetype": "text/x-python",
   "name": "python",
   "nbconvert_exporter": "python",
   "pygments_lexer": "ipython3",
   "version": "3.10.8"
  },
  "varInspector": {
   "cols": {
    "lenName": 16,
    "lenType": 16,
    "lenVar": 40
   },
   "kernels_config": {
    "python": {
     "delete_cmd_postfix": "",
     "delete_cmd_prefix": "del ",
     "library": "var_list.py",
     "varRefreshCmd": "print(var_dic_list())"
    },
    "r": {
     "delete_cmd_postfix": ") ",
     "delete_cmd_prefix": "rm(",
     "library": "var_list.r",
     "varRefreshCmd": "cat(var_dic_list()) "
    }
   },
   "types_to_exclude": [
    "module",
    "function",
    "builtin_function_or_method",
    "instance",
    "_Feature"
   ],
   "window_display": false
  }
 },
 "nbformat": 4,
 "nbformat_minor": 5
}
