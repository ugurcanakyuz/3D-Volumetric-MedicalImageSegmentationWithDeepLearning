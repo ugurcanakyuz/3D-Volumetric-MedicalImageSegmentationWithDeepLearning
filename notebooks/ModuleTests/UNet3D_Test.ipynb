{
 "cells": [
  {
   "cell_type": "code",
   "execution_count": 1,
   "id": "8155d28f",
   "metadata": {},
   "outputs": [],
   "source": [
    "import torch\n",
    "import torch.nn as nn\n",
    "import torchsummary\n",
    "\n",
    "\n",
    "import models.models as models"
   ]
  },
  {
   "cell_type": "code",
   "execution_count": 2,
   "id": "b62eb348",
   "metadata": {},
   "outputs": [],
   "source": [
    "data = torch.rand(1, 1, 128, 128, 128)\n",
    "model = models.UNet3D()\n",
    "out = model(data)\n",
    "assert torch.any(out)"
   ]
  },
  {
   "cell_type": "code",
   "execution_count": 3,
   "id": "5fa56a06",
   "metadata": {},
   "outputs": [
    {
     "data": {
      "text/plain": [
       "UNet3D(\n",
       "  (max_pool_2x2x2): MaxPool3d(kernel_size=(2, 2, 2), stride=(2, 2, 2), padding=0, dilation=1, ceil_mode=False)\n",
       "  (down_conv1): Sequential(\n",
       "    (0): Conv3d(1, 32, kernel_size=(3, 3, 3), stride=(1, 1, 1), padding=same)\n",
       "    (1): GroupNorm(8, 32, eps=1e-05, affine=True)\n",
       "    (2): ReLU(inplace=True)\n",
       "    (3): Conv3d(32, 64, kernel_size=(3, 3, 3), stride=(1, 1, 1), padding=same)\n",
       "    (4): GroupNorm(8, 64, eps=1e-05, affine=True)\n",
       "    (5): ReLU(inplace=True)\n",
       "  )\n",
       "  (down_conv2): Sequential(\n",
       "    (0): Conv3d(64, 64, kernel_size=(3, 3, 3), stride=(1, 1, 1), padding=same)\n",
       "    (1): GroupNorm(8, 64, eps=1e-05, affine=True)\n",
       "    (2): ReLU(inplace=True)\n",
       "    (3): Conv3d(64, 128, kernel_size=(3, 3, 3), stride=(1, 1, 1), padding=same)\n",
       "    (4): GroupNorm(8, 128, eps=1e-05, affine=True)\n",
       "    (5): ReLU(inplace=True)\n",
       "  )\n",
       "  (down_conv3): Sequential(\n",
       "    (0): Conv3d(128, 128, kernel_size=(3, 3, 3), stride=(1, 1, 1), padding=same)\n",
       "    (1): GroupNorm(8, 128, eps=1e-05, affine=True)\n",
       "    (2): ReLU(inplace=True)\n",
       "    (3): Conv3d(128, 256, kernel_size=(3, 3, 3), stride=(1, 1, 1), padding=same)\n",
       "    (4): GroupNorm(8, 256, eps=1e-05, affine=True)\n",
       "    (5): ReLU(inplace=True)\n",
       "  )\n",
       "  (down_conv4): Sequential(\n",
       "    (0): Conv3d(256, 256, kernel_size=(3, 3, 3), stride=(1, 1, 1), padding=same)\n",
       "    (1): GroupNorm(8, 256, eps=1e-05, affine=True)\n",
       "    (2): ReLU(inplace=True)\n",
       "    (3): Conv3d(256, 512, kernel_size=(3, 3, 3), stride=(1, 1, 1), padding=same)\n",
       "    (4): GroupNorm(8, 512, eps=1e-05, affine=True)\n",
       "    (5): ReLU(inplace=True)\n",
       "  )\n",
       "  (up_trans1): ConvTranspose3d(512, 512, kernel_size=(2, 2, 2), stride=(2, 2, 2))\n",
       "  (up_conv1): Sequential(\n",
       "    (0): Conv3d(768, 256, kernel_size=(3, 3, 3), stride=(1, 1, 1), padding=same)\n",
       "    (1): GroupNorm(8, 256, eps=1e-05, affine=True)\n",
       "    (2): ReLU(inplace=True)\n",
       "    (3): Conv3d(256, 256, kernel_size=(3, 3, 3), stride=(1, 1, 1), padding=same)\n",
       "    (4): GroupNorm(8, 256, eps=1e-05, affine=True)\n",
       "    (5): ReLU(inplace=True)\n",
       "  )\n",
       "  (up_trans2): ConvTranspose3d(256, 256, kernel_size=(2, 2, 2), stride=(2, 2, 2))\n",
       "  (up_conv2): Sequential(\n",
       "    (0): Conv3d(384, 128, kernel_size=(3, 3, 3), stride=(1, 1, 1), padding=same)\n",
       "    (1): GroupNorm(8, 128, eps=1e-05, affine=True)\n",
       "    (2): ReLU(inplace=True)\n",
       "    (3): Conv3d(128, 128, kernel_size=(3, 3, 3), stride=(1, 1, 1), padding=same)\n",
       "    (4): GroupNorm(8, 128, eps=1e-05, affine=True)\n",
       "    (5): ReLU(inplace=True)\n",
       "  )\n",
       "  (up_trans3): ConvTranspose3d(128, 128, kernel_size=(2, 2, 2), stride=(2, 2, 2))\n",
       "  (up_conv3): Sequential(\n",
       "    (0): Conv3d(192, 64, kernel_size=(3, 3, 3), stride=(1, 1, 1), padding=same)\n",
       "    (1): GroupNorm(8, 64, eps=1e-05, affine=True)\n",
       "    (2): ReLU(inplace=True)\n",
       "    (3): Conv3d(64, 64, kernel_size=(3, 3, 3), stride=(1, 1, 1), padding=same)\n",
       "    (4): GroupNorm(8, 64, eps=1e-05, affine=True)\n",
       "    (5): ReLU(inplace=True)\n",
       "  )\n",
       "  (out): Conv3d(64, 8, kernel_size=(1, 1, 1), stride=(1, 1, 1))\n",
       ")"
      ]
     },
     "execution_count": 3,
     "metadata": {},
     "output_type": "execute_result"
    }
   ],
   "source": [
    "model"
   ]
  },
  {
   "cell_type": "code",
   "execution_count": 4,
   "id": "4ec5fd37",
   "metadata": {},
   "outputs": [
    {
     "name": "stdout",
     "output_type": "stream",
     "text": [
      "----------------------------------------------------------------\n",
      "        Layer (type)               Output Shape         Param #\n",
      "================================================================\n",
      "            Conv3d-1    [-1, 32, 128, 128, 128]             896\n",
      "         GroupNorm-2    [-1, 32, 128, 128, 128]              64\n",
      "              ReLU-3    [-1, 32, 128, 128, 128]               0\n",
      "            Conv3d-4    [-1, 64, 128, 128, 128]          55,360\n",
      "         GroupNorm-5    [-1, 64, 128, 128, 128]             128\n",
      "              ReLU-6    [-1, 64, 128, 128, 128]               0\n",
      "         MaxPool3d-7       [-1, 64, 64, 64, 64]               0\n",
      "            Conv3d-8       [-1, 64, 64, 64, 64]         110,656\n",
      "         GroupNorm-9       [-1, 64, 64, 64, 64]             128\n",
      "             ReLU-10       [-1, 64, 64, 64, 64]               0\n",
      "           Conv3d-11      [-1, 128, 64, 64, 64]         221,312\n",
      "        GroupNorm-12      [-1, 128, 64, 64, 64]             256\n",
      "             ReLU-13      [-1, 128, 64, 64, 64]               0\n",
      "        MaxPool3d-14      [-1, 128, 32, 32, 32]               0\n",
      "           Conv3d-15      [-1, 128, 32, 32, 32]         442,496\n",
      "        GroupNorm-16      [-1, 128, 32, 32, 32]             256\n",
      "             ReLU-17      [-1, 128, 32, 32, 32]               0\n",
      "           Conv3d-18      [-1, 256, 32, 32, 32]         884,992\n",
      "        GroupNorm-19      [-1, 256, 32, 32, 32]             512\n",
      "             ReLU-20      [-1, 256, 32, 32, 32]               0\n",
      "        MaxPool3d-21      [-1, 256, 16, 16, 16]               0\n",
      "           Conv3d-22      [-1, 256, 16, 16, 16]       1,769,728\n",
      "        GroupNorm-23      [-1, 256, 16, 16, 16]             512\n",
      "             ReLU-24      [-1, 256, 16, 16, 16]               0\n",
      "           Conv3d-25      [-1, 512, 16, 16, 16]       3,539,456\n",
      "        GroupNorm-26      [-1, 512, 16, 16, 16]           1,024\n",
      "             ReLU-27      [-1, 512, 16, 16, 16]               0\n",
      "  ConvTranspose3d-28      [-1, 512, 32, 32, 32]       2,097,664\n",
      "           Conv3d-29      [-1, 256, 32, 32, 32]       5,308,672\n",
      "        GroupNorm-30      [-1, 256, 32, 32, 32]             512\n",
      "             ReLU-31      [-1, 256, 32, 32, 32]               0\n",
      "           Conv3d-32      [-1, 256, 32, 32, 32]       1,769,728\n",
      "        GroupNorm-33      [-1, 256, 32, 32, 32]             512\n",
      "             ReLU-34      [-1, 256, 32, 32, 32]               0\n",
      "  ConvTranspose3d-35      [-1, 256, 64, 64, 64]         524,544\n",
      "           Conv3d-36      [-1, 128, 64, 64, 64]       1,327,232\n",
      "        GroupNorm-37      [-1, 128, 64, 64, 64]             256\n",
      "             ReLU-38      [-1, 128, 64, 64, 64]               0\n",
      "           Conv3d-39      [-1, 128, 64, 64, 64]         442,496\n",
      "        GroupNorm-40      [-1, 128, 64, 64, 64]             256\n",
      "             ReLU-41      [-1, 128, 64, 64, 64]               0\n",
      "  ConvTranspose3d-42   [-1, 128, 128, 128, 128]         131,200\n",
      "           Conv3d-43    [-1, 64, 128, 128, 128]         331,840\n",
      "        GroupNorm-44    [-1, 64, 128, 128, 128]             128\n",
      "             ReLU-45    [-1, 64, 128, 128, 128]               0\n",
      "           Conv3d-46    [-1, 64, 128, 128, 128]         110,656\n",
      "        GroupNorm-47    [-1, 64, 128, 128, 128]             128\n",
      "             ReLU-48    [-1, 64, 128, 128, 128]               0\n",
      "           Conv3d-49     [-1, 8, 128, 128, 128]             520\n",
      "================================================================\n",
      "Total params: 19,074,120\n",
      "Trainable params: 19,074,120\n",
      "Non-trainable params: 0\n",
      "----------------------------------------------------------------\n",
      "Input size (MB): 8.00\n",
      "Forward/backward pass size (MB): 17168.00\n",
      "Params size (MB): 72.76\n",
      "Estimated Total Size (MB): 17248.76\n",
      "----------------------------------------------------------------\n"
     ]
    }
   ],
   "source": [
    "torchsummary.summary(model.to('cuda'), input_size=(1, 128, 128, 128))"
   ]
  }
 ],
 "metadata": {
  "kernelspec": {
   "display_name": "Python 3 (ipykernel)",
   "language": "python",
   "name": "python3"
  },
  "language_info": {
   "codemirror_mode": {
    "name": "ipython",
    "version": 3
   },
   "file_extension": ".py",
   "mimetype": "text/x-python",
   "name": "python",
   "nbconvert_exporter": "python",
   "pygments_lexer": "ipython3",
   "version": "3.10.8"
  }
 },
 "nbformat": 4,
 "nbformat_minor": 5
}
