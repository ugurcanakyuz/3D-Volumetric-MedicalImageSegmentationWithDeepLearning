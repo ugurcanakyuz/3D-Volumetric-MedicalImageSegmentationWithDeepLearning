{
 "cells": [
  {
   "cell_type": "code",
   "execution_count": 1,
   "id": "8155d28f",
   "metadata": {},
   "outputs": [],
   "source": [
    "import sys\n",
    "sys.path.append('../')\n",
    "\n",
    "import torch\n",
    "import torch.nn as nn\n",
    "import torchsummary\n",
    "\n",
    "\n",
    "import modules.models as models"
   ]
  },
  {
   "cell_type": "code",
   "execution_count": 2,
   "id": "b62eb348",
   "metadata": {},
   "outputs": [],
   "source": [
    "data = torch.rand(1, 1, 128, 128, 128)\n",
    "model = models.UNet3D()\n",
    "out = model(data)\n",
    "assert torch.any(out)"
   ]
  },
  {
   "cell_type": "code",
   "execution_count": 3,
   "id": "5fa56a06",
   "metadata": {},
   "outputs": [
    {
     "data": {
      "text/plain": [
       "UNet3D(\n",
       "  (max_pool_2x2x2): MaxPool3d(kernel_size=(2, 2, 2), stride=(2, 2, 2), padding=0, dilation=1, ceil_mode=False)\n",
       "  (down_conv_input): Conv3d(1, 8, kernel_size=(3, 3, 3), stride=(1, 1, 1), padding=same)\n",
       "  (down_conv1): Sequential(\n",
       "    (0): Conv3d(8, 32, kernel_size=(3, 3, 3), stride=(1, 1, 1), padding=same)\n",
       "    (1): GroupNorm(8, 32, eps=1e-05, affine=True)\n",
       "    (2): ReLU(inplace=True)\n",
       "    (3): Conv3d(32, 64, kernel_size=(3, 3, 3), stride=(1, 1, 1), padding=same)\n",
       "    (4): GroupNorm(8, 64, eps=1e-05, affine=True)\n",
       "    (5): ReLU(inplace=True)\n",
       "  )\n",
       "  (down_conv2): Sequential(\n",
       "    (0): Conv3d(64, 64, kernel_size=(3, 3, 3), stride=(1, 1, 1), padding=same)\n",
       "    (1): GroupNorm(8, 64, eps=1e-05, affine=True)\n",
       "    (2): ReLU(inplace=True)\n",
       "    (3): Conv3d(64, 128, kernel_size=(3, 3, 3), stride=(1, 1, 1), padding=same)\n",
       "    (4): GroupNorm(8, 128, eps=1e-05, affine=True)\n",
       "    (5): ReLU(inplace=True)\n",
       "  )\n",
       "  (down_conv3): Sequential(\n",
       "    (0): Conv3d(128, 128, kernel_size=(3, 3, 3), stride=(1, 1, 1), padding=same)\n",
       "    (1): GroupNorm(8, 128, eps=1e-05, affine=True)\n",
       "    (2): ReLU(inplace=True)\n",
       "    (3): Conv3d(128, 256, kernel_size=(3, 3, 3), stride=(1, 1, 1), padding=same)\n",
       "    (4): GroupNorm(8, 256, eps=1e-05, affine=True)\n",
       "    (5): ReLU(inplace=True)\n",
       "  )\n",
       "  (down_conv4): Sequential(\n",
       "    (0): Conv3d(256, 256, kernel_size=(3, 3, 3), stride=(1, 1, 1), padding=same)\n",
       "    (1): GroupNorm(8, 256, eps=1e-05, affine=True)\n",
       "    (2): ReLU(inplace=True)\n",
       "    (3): Conv3d(256, 512, kernel_size=(3, 3, 3), stride=(1, 1, 1), padding=same)\n",
       "    (4): GroupNorm(8, 512, eps=1e-05, affine=True)\n",
       "    (5): ReLU(inplace=True)\n",
       "  )\n",
       "  (up_trans1): ConvTranspose3d(512, 512, kernel_size=(2, 2, 2), stride=(2, 2, 2))\n",
       "  (up_conv1): Sequential(\n",
       "    (0): Conv3d(768, 256, kernel_size=(3, 3, 3), stride=(1, 1, 1), padding=same)\n",
       "    (1): GroupNorm(8, 256, eps=1e-05, affine=True)\n",
       "    (2): ReLU(inplace=True)\n",
       "    (3): Conv3d(256, 256, kernel_size=(3, 3, 3), stride=(1, 1, 1), padding=same)\n",
       "    (4): GroupNorm(8, 256, eps=1e-05, affine=True)\n",
       "    (5): ReLU(inplace=True)\n",
       "  )\n",
       "  (up_trans2): ConvTranspose3d(256, 256, kernel_size=(2, 2, 2), stride=(2, 2, 2))\n",
       "  (up_conv2): Sequential(\n",
       "    (0): Conv3d(384, 128, kernel_size=(3, 3, 3), stride=(1, 1, 1), padding=same)\n",
       "    (1): GroupNorm(8, 128, eps=1e-05, affine=True)\n",
       "    (2): ReLU(inplace=True)\n",
       "    (3): Conv3d(128, 128, kernel_size=(3, 3, 3), stride=(1, 1, 1), padding=same)\n",
       "    (4): GroupNorm(8, 128, eps=1e-05, affine=True)\n",
       "    (5): ReLU(inplace=True)\n",
       "  )\n",
       "  (up_trans3): ConvTranspose3d(128, 128, kernel_size=(2, 2, 2), stride=(2, 2, 2))\n",
       "  (up_conv3): Sequential(\n",
       "    (0): Conv3d(192, 64, kernel_size=(3, 3, 3), stride=(1, 1, 1), padding=same)\n",
       "    (1): GroupNorm(8, 64, eps=1e-05, affine=True)\n",
       "    (2): ReLU(inplace=True)\n",
       "    (3): Conv3d(64, 64, kernel_size=(3, 3, 3), stride=(1, 1, 1), padding=same)\n",
       "    (4): GroupNorm(8, 64, eps=1e-05, affine=True)\n",
       "    (5): ReLU(inplace=True)\n",
       "  )\n",
       "  (out): Conv3d(64, 8, kernel_size=(1, 1, 1), stride=(1, 1, 1))\n",
       ")"
      ]
     },
     "execution_count": 3,
     "metadata": {},
     "output_type": "execute_result"
    }
   ],
   "source": [
    "model"
   ]
  },
  {
   "cell_type": "code",
   "execution_count": 4,
   "id": "4ec5fd37",
   "metadata": {},
   "outputs": [
    {
     "name": "stdout",
     "output_type": "stream",
     "text": [
      "----------------------------------------------------------------\n",
      "        Layer (type)               Output Shape         Param #\n",
      "================================================================\n",
      "            Conv3d-1     [-1, 8, 128, 128, 128]             224\n",
      "            Conv3d-2    [-1, 32, 128, 128, 128]           6,944\n",
      "         GroupNorm-3    [-1, 32, 128, 128, 128]              64\n",
      "              ReLU-4    [-1, 32, 128, 128, 128]               0\n",
      "            Conv3d-5    [-1, 64, 128, 128, 128]          55,360\n",
      "         GroupNorm-6    [-1, 64, 128, 128, 128]             128\n",
      "              ReLU-7    [-1, 64, 128, 128, 128]               0\n",
      "         MaxPool3d-8       [-1, 64, 64, 64, 64]               0\n",
      "            Conv3d-9       [-1, 64, 64, 64, 64]         110,656\n",
      "        GroupNorm-10       [-1, 64, 64, 64, 64]             128\n",
      "             ReLU-11       [-1, 64, 64, 64, 64]               0\n",
      "           Conv3d-12      [-1, 128, 64, 64, 64]         221,312\n",
      "        GroupNorm-13      [-1, 128, 64, 64, 64]             256\n",
      "             ReLU-14      [-1, 128, 64, 64, 64]               0\n",
      "        MaxPool3d-15      [-1, 128, 32, 32, 32]               0\n",
      "           Conv3d-16      [-1, 128, 32, 32, 32]         442,496\n",
      "        GroupNorm-17      [-1, 128, 32, 32, 32]             256\n",
      "             ReLU-18      [-1, 128, 32, 32, 32]               0\n",
      "           Conv3d-19      [-1, 256, 32, 32, 32]         884,992\n",
      "        GroupNorm-20      [-1, 256, 32, 32, 32]             512\n",
      "             ReLU-21      [-1, 256, 32, 32, 32]               0\n",
      "        MaxPool3d-22      [-1, 256, 16, 16, 16]               0\n",
      "           Conv3d-23      [-1, 256, 16, 16, 16]       1,769,728\n",
      "        GroupNorm-24      [-1, 256, 16, 16, 16]             512\n",
      "             ReLU-25      [-1, 256, 16, 16, 16]               0\n",
      "           Conv3d-26      [-1, 512, 16, 16, 16]       3,539,456\n",
      "        GroupNorm-27      [-1, 512, 16, 16, 16]           1,024\n",
      "             ReLU-28      [-1, 512, 16, 16, 16]               0\n",
      "  ConvTranspose3d-29      [-1, 512, 32, 32, 32]       2,097,664\n",
      "           Conv3d-30      [-1, 256, 32, 32, 32]       5,308,672\n",
      "        GroupNorm-31      [-1, 256, 32, 32, 32]             512\n",
      "             ReLU-32      [-1, 256, 32, 32, 32]               0\n",
      "           Conv3d-33      [-1, 256, 32, 32, 32]       1,769,728\n",
      "        GroupNorm-34      [-1, 256, 32, 32, 32]             512\n",
      "             ReLU-35      [-1, 256, 32, 32, 32]               0\n",
      "  ConvTranspose3d-36      [-1, 256, 64, 64, 64]         524,544\n",
      "           Conv3d-37      [-1, 128, 64, 64, 64]       1,327,232\n",
      "        GroupNorm-38      [-1, 128, 64, 64, 64]             256\n",
      "             ReLU-39      [-1, 128, 64, 64, 64]               0\n",
      "           Conv3d-40      [-1, 128, 64, 64, 64]         442,496\n",
      "        GroupNorm-41      [-1, 128, 64, 64, 64]             256\n",
      "             ReLU-42      [-1, 128, 64, 64, 64]               0\n",
      "  ConvTranspose3d-43   [-1, 128, 128, 128, 128]         131,200\n",
      "           Conv3d-44    [-1, 64, 128, 128, 128]         331,840\n",
      "        GroupNorm-45    [-1, 64, 128, 128, 128]             128\n",
      "             ReLU-46    [-1, 64, 128, 128, 128]               0\n",
      "           Conv3d-47    [-1, 64, 128, 128, 128]         110,656\n",
      "        GroupNorm-48    [-1, 64, 128, 128, 128]             128\n",
      "             ReLU-49    [-1, 64, 128, 128, 128]               0\n",
      "           Conv3d-50     [-1, 8, 128, 128, 128]             520\n",
      "================================================================\n",
      "Total params: 19,080,392\n",
      "Trainable params: 19,080,392\n",
      "Non-trainable params: 0\n",
      "----------------------------------------------------------------\n",
      "Input size (MB): 8.00\n",
      "Forward/backward pass size (MB): 15472.00\n",
      "Params size (MB): 72.79\n",
      "Estimated Total Size (MB): 15552.79\n",
      "----------------------------------------------------------------\n"
     ]
    },
    {
     "name": "stderr",
     "output_type": "stream",
     "text": [
      "C:\\Users\\UgurcanAkyuz\\Envs\\pytorch\\lib\\site-packages\\torchsummary\\torchsummary.py:93: RuntimeWarning: overflow encountered in long_scalars\n",
      "  total_output += np.prod(summary[layer][\"output_shape\"])\n"
     ]
    }
   ],
   "source": [
    "torchsummary.summary(model.to('cuda'), input_size=(1, 128, 128, 128))"
   ]
  },
  {
   "cell_type": "code",
   "execution_count": null,
   "id": "4e266ae1",
   "metadata": {},
   "outputs": [],
   "source": []
  },
  {
   "cell_type": "code",
   "execution_count": null,
   "id": "5e569f5e",
   "metadata": {},
   "outputs": [],
   "source": []
  },
  {
   "cell_type": "code",
   "execution_count": null,
   "id": "3d751d16",
   "metadata": {},
   "outputs": [],
   "source": []
  }
 ],
 "metadata": {
  "kernelspec": {
   "display_name": "pytorch",
   "language": "python",
   "name": "pytorch"
  },
  "language_info": {
   "codemirror_mode": {
    "name": "ipython",
    "version": 3
   },
   "file_extension": ".py",
   "mimetype": "text/x-python",
   "name": "python",
   "nbconvert_exporter": "python",
   "pygments_lexer": "ipython3",
   "version": "3.10.7"
  }
 },
 "nbformat": 4,
 "nbformat_minor": 5
}
