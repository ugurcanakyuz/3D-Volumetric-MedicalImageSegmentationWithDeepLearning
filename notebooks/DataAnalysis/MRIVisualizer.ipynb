{
 "cells": [
  {
   "cell_type": "markdown",
   "metadata": {
    "lang": "en"
   },
   "source": [
    "# Data\n",
    "\n",
    "This notebook was created for machine learning research on FeTA2.1 dataset. [\"The dataset facilitates the development of novel machine-learning and deep-learning based multi-class segmentation methods for the quantification of brain development on fetal MRI. The ultimate goal is to capture pathological developmental trajectories by the automated quantification of the prenatal development, for which automated approaches free of observer bias are indispensable.\"](http://neuroimaging.ch/feta) Some brief information about the labels can be found below. For more information, please follow the links in the notes.\n",
    "\n",
    "| dHCP label | Name | Notes |\n",
    "| :- | -: | :-: |\n",
    "| Label 1 | Intracranial space and extra-axial CSF spaces | Cerebrospinal fluid (CSF) is a clear, colorless body fluid found within the tissue that surrounds the brain and spinal cord of all vertebrates.[[1]](https://en.wikipedia.org/wiki/Cerebrospinal_fluid) \n",
    "| Label 2 | Gray Matter | Grey matter (or gray matter) is a major component of the central nervous system, consisting of neuronal cell bodies, neuropil (dendrites and unmyelinated axons), glial cells (astrocytes and oligodendrocytes), synapses, and capillaries.[[2]](https://en.wikipedia.org/wiki/Grey_matter) \n",
    "| Label 3 | White Matter | White matter refers to areas of the central nervous system (CNS) that are mainly made up of myelinated axons, also called tracts. [[3]](https://en.wikipedia.org/wiki/White_matter)\n",
    "| Label 4 | Ventricles | The ventricles are structures that produce cerebrospinal fluid, and transport it around the cranial cavity. [[4]](https://teachmeanatomy.info/neuroanatomy/vessels/ventricles/)\n",
    "| Label 5 | Cerebellum | The cerebellum (which is Latin for “little brain”) is a major structure of the hindbrain that is located near the brainstem. This part of the brain is responsible for coordinating voluntary movements. It is also responsible for a number of functions including motor skills such as balance, coordination, and posture. [[5]](https://www.verywellmind.com/what-is-the-cerebellum-2794964)\n",
    "| Label 6 | Deep gray matter | Grey matter is classed as either superficial or deep. The superficial grey matter, also called brain cortex, is on the outside of the brain. The deep grey matter is made up of neurons from which originate deep nerve fibres. These neurons tend to form clumps of basal nuclei.[[6]](https://www.msif.org/news/2014/12/16/role-deep-grey-matter-brain-plays-ms/)\n",
    "| Label 7 | Brainstem and spinal cord| The brainstem (or brain stem) is the posterior stalk-like part of the brain that connects the cerebrum with the spinal cord. [[7]](https://en.wikipedia.org/wiki/Brainstem)\n",
    "\n",
    "<br><br>\n",
    "\n",
    "![Structure of the brain](notebook_images/brain2.jpg \"Structure of the brain 1.\")\n",
    "<br><p><center>Structure of the brain 1.<a href=\"https://www.kenhub.com/en/library/learning-strategies/parts-of-the-brain-learn-with-diagrams-and-quizzes\">[8]</a></center></p>\n",
    "<br><br>\n",
    "\n",
    "![Structure of the brain](notebook_images/brain3.jpg \"Structure of the brain 2.\")\n",
    "<br><p><center>Structure of the brain 2.<a href=\"https://www.researchgate.net/publication/224283818_Patientoriented_simulation_based_on_Monte_Carlo_algorithm_by_using_MRI_data\">[9]</a></center></p>\n",
    "<br><br>\n",
    "<font> sub-007 and sub-008 in FeTA dataset are spina bifida cases. [See reference.](https://arxiv.org/abs/2111.02408)</font> <font color=\"red\" size=\"3\"> !</font>\n",
    "<br><br>\n",
    "<p>* dHCP dataset has been added and new details will be added.</p>\n",
    "<br><br>"
   ]
  },
  {
   "cell_type": "code",
   "execution_count": 7,
   "metadata": {
    "ExecuteTime": {
     "end_time": "2021-12-01T07:57:29.929850Z",
     "start_time": "2021-12-01T07:57:29.923373Z"
    }
   },
   "outputs": [],
   "source": [
    "import os\n",
    "\n",
    "from ipywidgets import fixed, interactive\n",
    "import pandas as pd\n",
    "\n",
    "from utils.Utils import create_patch_indexes, get_file_names\n",
    "from visualization.Visualization import Visualization"
   ]
  },
  {
   "cell_type": "code",
   "execution_count": 8,
   "metadata": {},
   "outputs": [],
   "source": [
    "def show_data(folder, meta_data, subject):\n",
    "    \"\"\"Shows the data with interactive IPython widgets.\n",
    "    \n",
    "    Parameters\n",
    "    ------------\n",
    "    subject: str\n",
    "        Name (number) of the subject like sub-040.\n",
    "    meta_data: pandas.core.frame.DataFrame\n",
    "        Meta data of the subject.\n",
    "        \n",
    "    Returns\n",
    "    -------\n",
    "    None\n",
    "    \"\"\"\n",
    "    \n",
    "    visualization = Visualization(folder)\n",
    "    interactive_plot = interactive(visualization.draw_layout,\n",
    "                                   index=(0, 255),\n",
    "                                   sub_name = fixed(subject),\n",
    "                                   orientation=[\"axial\", \"coronal\", \"sagittal\"])\n",
    "    \n",
    "    #output = interactive_plot.children[-1]\n",
    "    display(meta_data)\n",
    "    display(interactive_plot)"
   ]
  },
  {
   "cell_type": "code",
   "execution_count": 12,
   "metadata": {
    "ExecuteTime": {
     "end_time": "2021-12-01T07:59:53.610063Z",
     "start_time": "2021-12-01T07:59:53.606696Z"
    }
   },
   "outputs": [],
   "source": [
    "dhcp = '../../data/raw/rel3_dhcp_anat_pipeline/'\n",
    "lucas = '../../data/raw/FeTA2021_Release1and2Corrected_v2/'\n",
    "feta = '../../data/raw/feta_2.1/'\n",
    "\n",
    "feta1 = '../../data/processed/feta_pro2/'\n",
    "lucas1 = '../../data/processed/lucas/'\n",
    "\n",
    "folder = feta1\n",
    "meta_file = 'participants.tsv'\n",
    "\n",
    "subjects_meta = pd.read_csv(os.path.join(folder, meta_file), sep='\\t')\n",
    "subjects = subjects_meta.participant_id.to_list()"
   ]
  },
  {
   "cell_type": "code",
   "execution_count": 13,
   "metadata": {
    "scrolled": false
   },
   "outputs": [
    {
     "data": {
      "text/html": [
       "<div>\n",
       "<style scoped>\n",
       "    .dataframe tbody tr th:only-of-type {\n",
       "        vertical-align: middle;\n",
       "    }\n",
       "\n",
       "    .dataframe tbody tr th {\n",
       "        vertical-align: top;\n",
       "    }\n",
       "\n",
       "    .dataframe thead th {\n",
       "        text-align: right;\n",
       "    }\n",
       "</style>\n",
       "<table border=\"1\" class=\"dataframe\">\n",
       "  <thead>\n",
       "    <tr style=\"text-align: right;\">\n",
       "      <th></th>\n",
       "      <th>participant_id</th>\n",
       "      <th>Pathology</th>\n",
       "      <th>Gestational age</th>\n",
       "    </tr>\n",
       "  </thead>\n",
       "  <tbody>\n",
       "    <tr>\n",
       "      <th>75</th>\n",
       "      <td>sub-076</td>\n",
       "      <td>Neurotypical</td>\n",
       "      <td>23.2</td>\n",
       "    </tr>\n",
       "  </tbody>\n",
       "</table>\n",
       "</div>"
      ],
      "text/plain": [
       "   participant_id     Pathology  Gestational age\n",
       "75        sub-076  Neurotypical             23.2"
      ]
     },
     "metadata": {},
     "output_type": "display_data"
    },
    {
     "data": {
      "application/vnd.jupyter.widget-view+json": {
       "model_id": "a4b719ee7adf40c09db96ae21e551236",
       "version_major": 2,
       "version_minor": 0
      },
      "text/plain": [
       "interactive(children=(IntSlider(value=127, description='index', max=255), Dropdown(description='orientation', …"
      ]
     },
     "metadata": {},
     "output_type": "display_data"
    }
   ],
   "source": [
    "# There are 80 subjects.\n",
    "# 3, 7, 14, 15, 16, 19, 20 and 21\n",
    "subject = subjects[75]\n",
    "meta_data = subjects_meta[subjects_meta[\"participant_id\"] == subject]\n",
    "show_data(folder, meta_data, subject)"
   ]
  },
  {
   "cell_type": "code",
   "execution_count": null,
   "metadata": {
    "scrolled": false
   },
   "outputs": [],
   "source": []
  },
  {
   "cell_type": "code",
   "execution_count": null,
   "metadata": {},
   "outputs": [],
   "source": []
  },
  {
   "cell_type": "code",
   "execution_count": null,
   "metadata": {},
   "outputs": [],
   "source": []
  }
 ],
 "metadata": {
  "kernelspec": {
   "display_name": "Python 3 (ipykernel)",
   "language": "python",
   "name": "python3"
  },
  "language_info": {
   "codemirror_mode": {
    "name": "ipython",
    "version": 3
   },
   "file_extension": ".py",
   "mimetype": "text/x-python",
   "name": "python",
   "nbconvert_exporter": "python",
   "pygments_lexer": "ipython3",
   "version": "3.10.8"
  },
  "nbTranslate": {
   "displayLangs": [
    "tr"
   ],
   "hotkey": "alt-t",
   "langInMainMenu": true,
   "sourceLang": "en",
   "targetLang": "tr",
   "useGoogleTranslate": true
  },
  "toc": {
   "base_numbering": 1,
   "nav_menu": {},
   "number_sections": true,
   "sideBar": true,
   "skip_h1_title": false,
   "title_cell": "Table of Contents",
   "title_sidebar": "Contents",
   "toc_cell": false,
   "toc_position": {},
   "toc_section_display": true,
   "toc_window_display": false
  },
  "varInspector": {
   "cols": {
    "lenName": 16,
    "lenType": 16,
    "lenVar": 40
   },
   "kernels_config": {
    "python": {
     "delete_cmd_postfix": "",
     "delete_cmd_prefix": "del ",
     "library": "var_list.py",
     "varRefreshCmd": "print(var_dic_list())"
    },
    "r": {
     "delete_cmd_postfix": ") ",
     "delete_cmd_prefix": "rm(",
     "library": "var_list.r",
     "varRefreshCmd": "cat(var_dic_list()) "
    }
   },
   "oldHeight": 397.85,
   "position": {
    "height": "575.85px",
    "left": "609px",
    "right": "20px",
    "top": "136px",
    "width": "769px"
   },
   "types_to_exclude": [
    "module",
    "function",
    "builtin_function_or_method",
    "instance",
    "_Feature"
   ],
   "varInspector_section_display": "block",
   "window_display": false
  },
  "widgets": {
   "application/vnd.jupyter.widget-state+json": {
    "state": {
     "24108e120f4c41a4bc2de1516da0f46a": {
      "model_module": "@jupyter-widgets/controls",
      "model_module_version": "2.0.0",
      "model_name": "IntSliderModel",
      "state": {
       "behavior": "drag-tap",
       "description": "index",
       "layout": "IPY_MODEL_afe40a69cc3948aca0c2c6773ed9935e",
       "max": 255,
       "style": "IPY_MODEL_434d6966ed6646e1b9f9df94a70a93a6",
       "value": 127
      }
     },
     "330cde1ce90a4a6eb5fe26f8837c666d": {
      "model_module": "@jupyter-widgets/base",
      "model_module_version": "2.0.0",
      "model_name": "LayoutModel",
      "state": {}
     },
     "35cf9e99efe44fab8fae921ce66f3519": {
      "model_module": "@jupyter-widgets/controls",
      "model_module_version": "2.0.0",
      "model_name": "DescriptionStyleModel",
      "state": {
       "description_width": ""
      }
     },
     "4021292c5c514264af81f0495a981a62": {
      "model_module": "@jupyter-widgets/controls",
      "model_module_version": "2.0.0",
      "model_name": "DropdownModel",
      "state": {
       "_options_labels": [
        "axial",
        "coronal",
        "sagittal"
       ],
       "description": "orientation",
       "index": 0,
       "layout": "IPY_MODEL_aaddf5182c914b0f9065896d13857561",
       "style": "IPY_MODEL_35cf9e99efe44fab8fae921ce66f3519"
      }
     },
     "434d6966ed6646e1b9f9df94a70a93a6": {
      "model_module": "@jupyter-widgets/controls",
      "model_module_version": "2.0.0",
      "model_name": "SliderStyleModel",
      "state": {
       "description_width": ""
      }
     },
     "441e2a6dbbf44983bae8a0e1f61ae1c4": {
      "model_module": "@jupyter-widgets/base",
      "model_module_version": "2.0.0",
      "model_name": "LayoutModel",
      "state": {}
     },
     "509fb29bbadb4853acb885ea32641e20": {
      "model_module": "@jupyter-widgets/controls",
      "model_module_version": "2.0.0",
      "model_name": "DropdownModel",
      "state": {
       "_options_labels": [
        "axial",
        "coronal",
        "sagittal"
       ],
       "description": "orientation",
       "index": 1,
       "layout": "IPY_MODEL_776bf70fb1b74c1b96aafe9b1905ee83",
       "style": "IPY_MODEL_fbf7bdd3e93d4b008e78220a1803e3e0"
      }
     },
     "612bbc00432b4021a6ab795460f861da": {
      "model_module": "@jupyter-widgets/base",
      "model_module_version": "2.0.0",
      "model_name": "LayoutModel",
      "state": {}
     },
     "6d724ae02c5043eb8bcd8a76122c0300": {
      "model_module": "@jupyter-widgets/controls",
      "model_module_version": "2.0.0",
      "model_name": "IntSliderModel",
      "state": {
       "behavior": "drag-tap",
       "description": "index",
       "layout": "IPY_MODEL_fdb153cffb324f24aefd3a6e7097a561",
       "max": 255,
       "style": "IPY_MODEL_b1634ece72d14591bdb288d768ef98b1",
       "value": 127
      }
     },
     "776bf70fb1b74c1b96aafe9b1905ee83": {
      "model_module": "@jupyter-widgets/base",
      "model_module_version": "2.0.0",
      "model_name": "LayoutModel",
      "state": {}
     },
     "7fae764a2caf4b56a9dc3833dc7fa567": {
      "model_module": "@jupyter-widgets/controls",
      "model_module_version": "2.0.0",
      "model_name": "VBoxModel",
      "state": {
       "_dom_classes": [
        "widget-interact"
       ],
       "children": [
        "IPY_MODEL_24108e120f4c41a4bc2de1516da0f46a",
        "IPY_MODEL_4021292c5c514264af81f0495a981a62",
        "IPY_MODEL_aacd28cd8a38424992b2e1a4e2a4dab2"
       ],
       "layout": "IPY_MODEL_441e2a6dbbf44983bae8a0e1f61ae1c4"
      }
     },
     "a4b719ee7adf40c09db96ae21e551236": {
      "model_module": "@jupyter-widgets/controls",
      "model_module_version": "2.0.0",
      "model_name": "VBoxModel",
      "state": {
       "_dom_classes": [
        "widget-interact"
       ],
       "children": [
        "IPY_MODEL_6d724ae02c5043eb8bcd8a76122c0300",
        "IPY_MODEL_509fb29bbadb4853acb885ea32641e20",
        "IPY_MODEL_ccc4069898f04f4eaf0459f76a7f0698"
       ],
       "layout": "IPY_MODEL_ab0337c1f53744c0b3b102d31515e686"
      }
     },
     "aacd28cd8a38424992b2e1a4e2a4dab2": {
      "model_module": "@jupyter-widgets/output",
      "model_module_version": "1.0.0",
      "model_name": "OutputModel",
      "state": {
       "layout": "IPY_MODEL_612bbc00432b4021a6ab795460f861da",
       "outputs": [
        {
         "ename": "KeyError",
         "evalue": "'sub-076'",
         "output_type": "error",
         "traceback": [
          "\u001b[0;31m---------------------------------------------------------------------------\u001b[0m",
          "\u001b[0;31mKeyError\u001b[0m                                  Traceback (most recent call last)",
          "File \u001b[0;32m/opt/conda/lib/python3.10/site-packages/ipywidgets/widgets/interaction.py:239\u001b[0m, in \u001b[0;36minteractive.update\u001b[0;34m(self, *args)\u001b[0m\n\u001b[1;32m    237\u001b[0m     value \u001b[38;5;241m=\u001b[39m widget\u001b[38;5;241m.\u001b[39mget_interact_value()\n\u001b[1;32m    238\u001b[0m     \u001b[38;5;28mself\u001b[39m\u001b[38;5;241m.\u001b[39mkwargs[widget\u001b[38;5;241m.\u001b[39m_kwarg] \u001b[38;5;241m=\u001b[39m value\n\u001b[0;32m--> 239\u001b[0m \u001b[38;5;28mself\u001b[39m\u001b[38;5;241m.\u001b[39mresult \u001b[38;5;241m=\u001b[39m \u001b[38;5;28;43mself\u001b[39;49m\u001b[38;5;241;43m.\u001b[39;49m\u001b[43mf\u001b[49m\u001b[43m(\u001b[49m\u001b[38;5;241;43m*\u001b[39;49m\u001b[38;5;241;43m*\u001b[39;49m\u001b[38;5;28;43mself\u001b[39;49m\u001b[38;5;241;43m.\u001b[39;49m\u001b[43mkwargs\u001b[49m\u001b[43m)\u001b[49m\n\u001b[1;32m    240\u001b[0m show_inline_matplotlib_plots()\n\u001b[1;32m    241\u001b[0m \u001b[38;5;28;01mif\u001b[39;00m \u001b[38;5;28mself\u001b[39m\u001b[38;5;241m.\u001b[39mauto_display \u001b[38;5;129;01mand\u001b[39;00m \u001b[38;5;28mself\u001b[39m\u001b[38;5;241m.\u001b[39mresult \u001b[38;5;129;01mis\u001b[39;00m \u001b[38;5;129;01mnot\u001b[39;00m \u001b[38;5;28;01mNone\u001b[39;00m:\n",
          "File \u001b[0;32m/home/dev/3D-Volumetric-MedicalImageSegmentationWithDeepLearning/src/visualization/Visualization.py:158\u001b[0m, in \u001b[0;36mVisualization.draw_layout\u001b[0;34m(index, sub_name, orientation)\u001b[0m\n\u001b[1;32m    140\u001b[0m \u001b[38;5;124;03m\"\"\"Draws image, mask and colorbar.\u001b[39;00m\n\u001b[1;32m    141\u001b[0m \n\u001b[1;32m    142\u001b[0m \u001b[38;5;124;03mParameters\u001b[39;00m\n\u001b[0;32m   (...)\u001b[0m\n\u001b[1;32m    154\u001b[0m \u001b[38;5;124;03mNone\u001b[39;00m\n\u001b[1;32m    155\u001b[0m \u001b[38;5;124;03m\"\"\"\u001b[39;00m\n\u001b[1;32m    157\u001b[0m path \u001b[38;5;241m=\u001b[39m get_file_names(os\u001b[38;5;241m.\u001b[39mpath\u001b[38;5;241m.\u001b[39mjoin(Visualization\u001b[38;5;241m.\u001b[39mfolder, sub_name))\n\u001b[0;32m--> 158\u001b[0m path_image \u001b[38;5;241m=\u001b[39m \u001b[43mpath\u001b[49m\u001b[43m[\u001b[49m\u001b[43msub_name\u001b[49m\u001b[43m]\u001b[49m[\u001b[38;5;241m0\u001b[39m]\n\u001b[1;32m    159\u001b[0m path_mask \u001b[38;5;241m=\u001b[39m path[sub_name][\u001b[38;5;241m1\u001b[39m]\n\u001b[1;32m    161\u001b[0m image \u001b[38;5;241m=\u001b[39m nib\u001b[38;5;241m.\u001b[39mload(path_image)\u001b[38;5;241m.\u001b[39mget_fdata()\n",
          "\u001b[0;31mKeyError\u001b[0m: 'sub-076'"
         ]
        }
       ]
      }
     },
     "aaddf5182c914b0f9065896d13857561": {
      "model_module": "@jupyter-widgets/base",
      "model_module_version": "2.0.0",
      "model_name": "LayoutModel",
      "state": {}
     },
     "ab0337c1f53744c0b3b102d31515e686": {
      "model_module": "@jupyter-widgets/base",
      "model_module_version": "2.0.0",
      "model_name": "LayoutModel",
      "state": {}
     },
     "afe40a69cc3948aca0c2c6773ed9935e": {
      "model_module": "@jupyter-widgets/base",
      "model_module_version": "2.0.0",
      "model_name": "LayoutModel",
      "state": {}
     },
     "b1634ece72d14591bdb288d768ef98b1": {
      "model_module": "@jupyter-widgets/controls",
      "model_module_version": "2.0.0",
      "model_name": "SliderStyleModel",
      "state": {
       "description_width": ""
      }
     },
     "ccc4069898f04f4eaf0459f76a7f0698": {
      "model_module": "@jupyter-widgets/output",
      "model_module_version": "1.0.0",
      "model_name": "OutputModel",
      "state": {
       "layout": "IPY_MODEL_330cde1ce90a4a6eb5fe26f8837c666d",
       "outputs": [
        {
         "data": {
          "image/png": "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\n",
          "text/plain": "<Figure size 1500x1500 with 3 Axes>"
         },
         "metadata": {},
         "output_type": "display_data"
        }
       ]
      }
     },
     "fbf7bdd3e93d4b008e78220a1803e3e0": {
      "model_module": "@jupyter-widgets/controls",
      "model_module_version": "2.0.0",
      "model_name": "DescriptionStyleModel",
      "state": {
       "description_width": ""
      }
     },
     "fdb153cffb324f24aefd3a6e7097a561": {
      "model_module": "@jupyter-widgets/base",
      "model_module_version": "2.0.0",
      "model_name": "LayoutModel",
      "state": {}
     }
    },
    "version_major": 2,
    "version_minor": 0
   }
  }
 },
 "nbformat": 4,
 "nbformat_minor": 4
}
