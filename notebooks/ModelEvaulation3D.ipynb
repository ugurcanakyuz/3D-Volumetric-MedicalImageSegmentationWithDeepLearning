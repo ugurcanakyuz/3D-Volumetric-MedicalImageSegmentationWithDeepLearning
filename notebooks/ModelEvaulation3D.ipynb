{
 "cells": [
  {
   "cell_type": "code",
   "execution_count": null,
   "id": "100b7c48",
   "metadata": {},
   "outputs": [],
   "source": [
    "import matplotlib.pyplot as plt\n",
    "import pandas as pd\n",
    "import torch\n",
    "import torchio as tio\n",
    "import torchvision.transforms as transforms\n",
    "\n",
    "from modules.Dataset import *\n",
    "from modules import Evaluator3D, models\n",
    "from modules.LossFunctions import DC_and_CE_loss, GDiceLossV2\n",
    "from modules.Predictor import Predictor\n",
    "from modules.Transforms import *\n",
    "from modules.Utils import *"
   ]
  },
  {
   "cell_type": "code",
   "execution_count": null,
   "id": "92b26bf6",
   "metadata": {},
   "outputs": [],
   "source": [
    "device = torch.device('cuda' if torch.cuda.is_available() else 'cpu')\n",
    "\n",
    "# There are multiple data folders belong to same dataset. Each of them processed in different ways.\n",
    "# Therefore, path of the data and its name explicitly are defined.\n",
    "dataset_path = \"Data/rel3_dhcp_anat_pipeline//\"\n",
    "cv_ = \"cv3\" # 5-fold cross-validation. Folds [cv1-cv5]\n",
    "\n",
    "# Transformations.\n",
    "transform_eval = None #transforms.Compose([RandomMotion(), RandomAffine(degrees=[15])])\n",
    "\n",
    "\n",
    "# Split dataset.\n",
    "train = MRIDataset(LateWeeks, \"train\", dataset_path, transform=transform_eval)\n",
    "val = MRIDataset(LateWeeks, \"val\", dataset_path, transform=transform_eval)\n",
    "test = MRIDataset(LateWeeks, \"test\", dataset_path, transform=transform_eval)\n",
    "\n",
    "torch.manual_seed(0)\n",
    "val_loader = torch.utils.data.DataLoader(dataset=val, batch_size=1)\n",
    "test_loader = torch.utils.data.DataLoader(dataset=test, batch_size=1)"
   ]
  },
  {
   "cell_type": "code",
   "execution_count": null,
   "id": "50008fad",
   "metadata": {},
   "outputs": [],
   "source": [
    "model = models.UNet3D().to(device)\n",
    "criterion = DC_and_CE_loss({'batch_dice': True, 'smooth': 1e-5, 'do_bg': False, 'square': False}, {})\n",
    "model.load_state_dict(torch.load(\"output/UNet3D/Iteration_20222812/run_dHCP/weights/36_model.pth\"))"
   ]
  },
  {
   "cell_type": "code",
   "execution_count": null,
   "id": "f083b4a6",
   "metadata": {},
   "outputs": [],
   "source": [
    "for i in range(len(val)):\n",
    "    sub = val[i]\n",
    "    predictor = Predictor(model, (128, 128, 128))\n",
    "    output = predictor.predict(sub)\n",
    "    output = output.argmax(dim=1)\n",
    "    save_nii('Predictions/UNet3D/model_40/', \n",
    "             f'{sub.sub_id}_pred', \n",
    "             output.squeeze(0).numpy().astype(np.float64))"
   ]
  },
  {
   "cell_type": "code",
   "execution_count": null,
   "id": "d130fa97",
   "metadata": {},
   "outputs": [],
   "source": [
    "for i in range(len(test)):\n",
    "    sub = test[i]\n",
    "    predictor = Predictor(model, (128, 128, 128))\n",
    "    output = predictor.predict(sub)\n",
    "    output = output.argmax(dim=1)\n",
    "    save_nii('Predictions/UNet3D/model_40/', \n",
    "             f'{sub.sub_id}_pred', \n",
    "             output.squeeze(0).numpy().astype(np.float64))"
   ]
  },
  {
   "cell_type": "code",
   "execution_count": null,
   "id": "a01e4ad3",
   "metadata": {},
   "outputs": [],
   "source": [
    "train[6].sub_id"
   ]
  },
  {
   "cell_type": "code",
   "execution_count": null,
   "id": "7e1fa123",
   "metadata": {},
   "outputs": [],
   "source": [
    "sub = train[6]\n",
    "predictor = Predictor(model, (128, 128, 128))\n",
    "output = predictor.predict(sub)\n",
    "predictor.plot_slice(output, sub.mask.data, 'sagittal', 45)"
   ]
  },
  {
   "cell_type": "code",
   "execution_count": null,
   "id": "0ef609a4",
   "metadata": {},
   "outputs": [],
   "source": [
    "output = output.argmax(dim=1)"
   ]
  },
  {
   "cell_type": "code",
   "execution_count": null,
   "id": "bd13fe38",
   "metadata": {},
   "outputs": [],
   "source": [
    "save_nii('Predictions/UNet3D', \n",
    "         f'sub-049_pred', \n",
    "         output.squeeze(0).numpy().astype(np.float64), sub.mri.affine)"
   ]
  },
  {
   "cell_type": "code",
   "execution_count": null,
   "id": "b24d076e",
   "metadata": {},
   "outputs": [],
   "source": []
  },
  {
   "cell_type": "code",
   "execution_count": null,
   "id": "7636353d",
   "metadata": {},
   "outputs": [],
   "source": []
  },
  {
   "cell_type": "code",
   "execution_count": null,
   "id": "7ca8b643",
   "metadata": {},
   "outputs": [],
   "source": [
    "sub = train[13]\n",
    "predictor = Predictor(model, (128, 128, 128))\n",
    "output = predictor.predict(sub)\n",
    "output = output.argmax(dim=1)\n",
    "save_nii('Predictions/UNet3D', \n",
    "         f'iter11_20221106_1404_{sub.sub_id}_pred', \n",
    "         output.squeeze(0).numpy().astype(np.float64))"
   ]
  },
  {
   "cell_type": "code",
   "execution_count": null,
   "id": "eb15a63f",
   "metadata": {},
   "outputs": [],
   "source": [
    "sub = test[0]"
   ]
  },
  {
   "cell_type": "code",
   "execution_count": null,
   "id": "a23d6443",
   "metadata": {},
   "outputs": [],
   "source": [
    "sub_023 = nib.load('Predictions/UNet3D/model_40/sub-023_pred.nii.gz')"
   ]
  },
  {
   "cell_type": "code",
   "execution_count": null,
   "id": "d91775b8",
   "metadata": {},
   "outputs": [],
   "source": [
    "np.unique(sub_023.get_fdata())"
   ]
  },
  {
   "cell_type": "code",
   "execution_count": null,
   "id": "9118e87a",
   "metadata": {},
   "outputs": [],
   "source": [
    "sub.mask.data.unique()"
   ]
  },
  {
   "cell_type": "code",
   "execution_count": null,
   "id": "e6749290",
   "metadata": {},
   "outputs": [],
   "source": []
  }
 ],
 "metadata": {
  "kernelspec": {
   "display_name": "pytorch",
   "language": "python",
   "name": "pytorch"
  },
  "language_info": {
   "codemirror_mode": {
    "name": "ipython",
    "version": 3
   },
   "file_extension": ".py",
   "mimetype": "text/x-python",
   "name": "python",
   "nbconvert_exporter": "python",
   "pygments_lexer": "ipython3",
   "version": "3.8.10"
  },
  "toc": {
   "base_numbering": 1,
   "nav_menu": {},
   "number_sections": true,
   "sideBar": true,
   "skip_h1_title": false,
   "title_cell": "Table of Contents",
   "title_sidebar": "Contents",
   "toc_cell": false,
   "toc_position": {},
   "toc_section_display": true,
   "toc_window_display": false
  },
  "varInspector": {
   "cols": {
    "lenName": 16,
    "lenType": 16,
    "lenVar": 40
   },
   "kernels_config": {
    "python": {
     "delete_cmd_postfix": "",
     "delete_cmd_prefix": "del ",
     "library": "var_list.py",
     "varRefreshCmd": "print(var_dic_list())"
    },
    "r": {
     "delete_cmd_postfix": ") ",
     "delete_cmd_prefix": "rm(",
     "library": "var_list.r",
     "varRefreshCmd": "cat(var_dic_list()) "
    }
   },
   "types_to_exclude": [
    "module",
    "function",
    "builtin_function_or_method",
    "instance",
    "_Feature"
   ],
   "window_display": false
  }
 },
 "nbformat": 4,
 "nbformat_minor": 5
}
