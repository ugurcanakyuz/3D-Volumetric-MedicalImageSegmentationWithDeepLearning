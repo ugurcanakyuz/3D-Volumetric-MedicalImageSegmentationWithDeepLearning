{
 "cells": [
  {
   "cell_type": "code",
   "execution_count": 1,
   "id": "87486fb9",
   "metadata": {},
   "outputs": [],
   "source": [
    "import os\n",
    "import glob\n",
    "\n",
    "import nibabel as nib\n",
    "import numpy as np"
   ]
  },
  {
   "cell_type": "code",
   "execution_count": 41,
   "id": "7efa97aa",
   "metadata": {
    "scrolled": true
   },
   "outputs": [],
   "source": [
    "mri_paths = glob.glob('../../data/processed/lucas/*/*/*T2w.nii.gz')"
   ]
  },
  {
   "cell_type": "code",
   "execution_count": 46,
   "id": "69def81d",
   "metadata": {},
   "outputs": [],
   "source": [
    "for mri_path in mri_paths:\n",
    "    nii_file = nib.load(mri_path)\n",
    "    mri = nii_file.get_fdata()\n",
    "    mri[np.isnan(mri)] = 0\n",
    "    \n",
    "    mri = nib.Nifti1Image(mri, nii_file.affine)\n",
    "    os.remove(mri_path)\n",
    "    nib.save(mri, mri_path)"
   ]
  },
  {
   "cell_type": "code",
   "execution_count": null,
   "id": "e138caa7",
   "metadata": {},
   "outputs": [],
   "source": []
  }
 ],
 "metadata": {
  "kernelspec": {
   "display_name": "Python 3 (ipykernel)",
   "language": "python",
   "name": "python3"
  },
  "language_info": {
   "codemirror_mode": {
    "name": "ipython",
    "version": 3
   },
   "file_extension": ".py",
   "mimetype": "text/x-python",
   "name": "python",
   "nbconvert_exporter": "python",
   "pygments_lexer": "ipython3",
   "version": "3.10.8"
  }
 },
 "nbformat": 4,
 "nbformat_minor": 5
}
