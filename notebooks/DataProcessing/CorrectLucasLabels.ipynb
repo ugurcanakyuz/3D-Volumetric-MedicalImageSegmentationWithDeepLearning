{
 "cells": [
  {
   "cell_type": "code",
   "execution_count": 1,
   "id": "07499168",
   "metadata": {},
   "outputs": [],
   "source": [
    "import sys\n",
    "sys.path.append('../')"
   ]
  },
  {
   "cell_type": "code",
   "execution_count": 12,
   "id": "7b83016c",
   "metadata": {},
   "outputs": [],
   "source": [
    "import os\n",
    "import glob\n",
    "import nibabel as nib\n",
    "import numpy as np\n",
    "import shutil"
   ]
  },
  {
   "cell_type": "code",
   "execution_count": 8,
   "id": "e09ef96f",
   "metadata": {},
   "outputs": [],
   "source": [
    "mask_paths = glob.glob('../Data/lucas/*/*/*_dseg.nii.gz')"
   ]
  },
  {
   "cell_type": "code",
   "execution_count": 9,
   "id": "6bf3a0a8",
   "metadata": {},
   "outputs": [],
   "source": [
    "x = nib.load(mask_paths[0]).get_fdata()"
   ]
  },
  {
   "cell_type": "code",
   "execution_count": 14,
   "id": "40c7f18d",
   "metadata": {},
   "outputs": [
    {
     "data": {
      "text/plain": [
       "array([0., 1., 2., 3., 4., 5., 6., 7., 8.])"
      ]
     },
     "execution_count": 14,
     "metadata": {},
     "output_type": "execute_result"
    }
   ],
   "source": [
    "np.unique(x)"
   ]
  },
  {
   "cell_type": "code",
   "execution_count": 19,
   "id": "32e48f73",
   "metadata": {},
   "outputs": [
    {
     "name": "stdout",
     "output_type": "stream",
     "text": [
      "Done\n"
     ]
    }
   ],
   "source": [
    "for path in mask_paths:\n",
    "    mask = nib.load(path).get_fdata()\n",
    "\n",
    "    # Merge corpus collasum with white matter\n",
    "    mask[mask==8] = 1\n",
    "    \n",
    "    # Assign new label values to avoid create a conflict between label values.\n",
    "    mask[mask==1] = 11\n",
    "    mask[mask==2] = 12\n",
    "    mask[mask==3] = 13\n",
    "    mask[mask==4] = 14\n",
    "    mask[mask==5] = 15\n",
    "    \n",
    "    # Assign new label values that compatible with feta2.1.\n",
    "    mask[mask==11] = 3\n",
    "    mask[mask==12] = 4\n",
    "    mask[mask==13] = 5\n",
    "    mask[mask==14] = 1\n",
    "    mask[mask==15] = 2\n",
    "   \n",
    "    mask = nib.Nifti1Image(mask, mask.affine)\n",
    "    os.remove(path)\n",
    "    nib.save(mask, path)\n",
    "    \n",
    "print(\"Done\")"
   ]
  },
  {
   "cell_type": "code",
   "execution_count": 20,
   "id": "0fd27dac",
   "metadata": {},
   "outputs": [
    {
     "data": {
      "text/plain": [
       "array([0., 1., 2., 3., 4., 5., 6., 7.])"
      ]
     },
     "execution_count": 20,
     "metadata": {},
     "output_type": "execute_result"
    }
   ],
   "source": [
    "np.unique(nib.load(path).get_fdata())"
   ]
  },
  {
   "cell_type": "code",
   "execution_count": null,
   "id": "af243d2b",
   "metadata": {},
   "outputs": [],
   "source": []
  }
 ],
 "metadata": {
  "kernelspec": {
   "display_name": "pytorch",
   "language": "python",
   "name": "pytorch"
  },
  "language_info": {
   "codemirror_mode": {
    "name": "ipython",
    "version": 3
   },
   "file_extension": ".py",
   "mimetype": "text/x-python",
   "name": "python",
   "nbconvert_exporter": "python",
   "pygments_lexer": "ipython3",
   "version": "3.10.7"
  }
 },
 "nbformat": 4,
 "nbformat_minor": 5
}
