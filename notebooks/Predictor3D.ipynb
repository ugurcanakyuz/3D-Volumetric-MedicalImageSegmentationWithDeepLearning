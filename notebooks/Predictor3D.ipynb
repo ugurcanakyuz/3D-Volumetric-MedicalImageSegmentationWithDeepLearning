{
 "cells": [
  {
   "cell_type": "code",
   "execution_count": 1,
   "id": "100b7c48",
   "metadata": {},
   "outputs": [],
   "source": [
    "import matplotlib.pyplot as plt\n",
    "import pandas as pd\n",
    "import torch\n",
    "import torchio as tio\n",
    "import torchvision.transforms as transforms\n",
    "\n",
    "from data.Dataset import *\n",
    "from data.transforms.DataAugmentations import *\n",
    "from models import Evaluator, models\n",
    "from models.Predictor import Predictor\n",
    "from utils.LossFunctions import DC_and_CE_loss, GDiceLossV2\n",
    "from utils.Utils import *"
   ]
  },
  {
   "cell_type": "code",
   "execution_count": 2,
   "id": "92b26bf6",
   "metadata": {},
   "outputs": [],
   "source": [
    "device = torch.device('cuda' if torch.cuda.is_available() else 'cpu')\n",
    "\n",
    "# There are multiple data folders belong to same dataset. Each of them processed in different ways.\n",
    "# Therefore, path of the data and its name explicitly are defined.\n",
    "dataset_path = \"../data/processed/rel3_dhcp_anat_pipeline//\"\n",
    "cv_ = \"cv3\" # 5-fold cross-validation. Folds [cv1-cv5]\n",
    "\n",
    "# Transformations.\n",
    "transform_eval = None #transforms.Compose([RandomMotion(), RandomAffine(degrees=[15])])\n",
    "\n",
    "\n",
    "# Split dataset.\n",
    "train = MRIDataset(LateWeeks, \"train\", dataset_path, transform=transform_eval)\n",
    "val = MRIDataset(LateWeeks, \"val\", dataset_path, transform=transform_eval)\n",
    "test = MRIDataset(LateWeeks, \"test\", dataset_path, transform=transform_eval)\n",
    "\n",
    "torch.manual_seed(0)\n",
    "val_loader = torch.utils.data.DataLoader(dataset=val, batch_size=1)\n",
    "test_loader = torch.utils.data.DataLoader(dataset=test, batch_size=1)"
   ]
  },
  {
   "cell_type": "code",
   "execution_count": 3,
   "id": "50008fad",
   "metadata": {},
   "outputs": [
    {
     "data": {
      "text/plain": [
       "<All keys matched successfully>"
      ]
     },
     "execution_count": 3,
     "metadata": {},
     "output_type": "execute_result"
    }
   ],
   "source": [
    "model = models.UNet3D().to(device)\n",
    "criterion = DC_and_CE_loss({'batch_dice': True, 'smooth': 1e-5, 'do_bg': False, 'square': False}, {})\n",
    "model.load_state_dict(torch.load(\"../models/20221228/dHCP/weights/36_model.pth\"))"
   ]
  },
  {
   "cell_type": "code",
   "execution_count": 6,
   "id": "f083b4a6",
   "metadata": {},
   "outputs": [],
   "source": [
    "for i in range(len(val)):\n",
    "    sub = val[i]\n",
    "    predictor = Predictor(model, (128, 128, 128))\n",
    "    output = predictor.predict(sub)\n",
    "    output = output.argmax(dim=1)\n",
    "    save_nii('Predictions/UNet3D/model_40/', \n",
    "             f'{sub.sub_id}_pred', \n",
    "             output.squeeze(0).numpy().astype(np.float64), sub.mri.affine)"
   ]
  },
  {
   "cell_type": "code",
   "execution_count": null,
   "id": "d130fa97",
   "metadata": {},
   "outputs": [],
   "source": [
    "for i in range(len(test)):\n",
    "    sub = test[i]\n",
    "    predictor = Predictor(model, (128, 128, 128))\n",
    "    output = predictor.predict(sub)\n",
    "    output = output.argmax(dim=1)\n",
    "    save_nii('Predictions/UNet3D/model_40/', \n",
    "             f'{sub.sub_id}_pred', \n",
    "             output.squeeze(0).numpy().astype(np.float64), sub.mri.affine)"
   ]
  },
  {
   "cell_type": "code",
   "execution_count": null,
   "id": "e6749290",
   "metadata": {},
   "outputs": [],
   "source": []
  },
  {
   "cell_type": "code",
   "execution_count": null,
   "id": "0a461c63",
   "metadata": {},
   "outputs": [],
   "source": []
  }
 ],
 "metadata": {
  "kernelspec": {
   "display_name": "Python 3 (ipykernel)",
   "language": "python",
   "name": "python3"
  },
  "language_info": {
   "codemirror_mode": {
    "name": "ipython",
    "version": 3
   },
   "file_extension": ".py",
   "mimetype": "text/x-python",
   "name": "python",
   "nbconvert_exporter": "python",
   "pygments_lexer": "ipython3",
   "version": "3.10.8"
  },
  "toc": {
   "base_numbering": 1,
   "nav_menu": {},
   "number_sections": true,
   "sideBar": true,
   "skip_h1_title": false,
   "title_cell": "Table of Contents",
   "title_sidebar": "Contents",
   "toc_cell": false,
   "toc_position": {},
   "toc_section_display": true,
   "toc_window_display": false
  },
  "varInspector": {
   "cols": {
    "lenName": 16,
    "lenType": 16,
    "lenVar": 40
   },
   "kernels_config": {
    "python": {
     "delete_cmd_postfix": "",
     "delete_cmd_prefix": "del ",
     "library": "var_list.py",
     "varRefreshCmd": "print(var_dic_list())"
    },
    "r": {
     "delete_cmd_postfix": ") ",
     "delete_cmd_prefix": "rm(",
     "library": "var_list.r",
     "varRefreshCmd": "cat(var_dic_list()) "
    }
   },
   "types_to_exclude": [
    "module",
    "function",
    "builtin_function_or_method",
    "instance",
    "_Feature"
   ],
   "window_display": false
  }
 },
 "nbformat": 4,
 "nbformat_minor": 5
}
