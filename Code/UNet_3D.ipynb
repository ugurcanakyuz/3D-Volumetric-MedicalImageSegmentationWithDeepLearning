{
 "cells": [
  {
   "cell_type": "code",
   "execution_count": null,
   "metadata": {
    "id": "tAb77yZ9fzMG"
   },
   "outputs": [],
   "source": [
    "import os\n",
    "\n",
    "import matplotlib.pyplot as plt\n",
    "import numpy as np\n",
    "import pandas as pd\n",
    "import torch\n",
    "import torch.nn as nn\n",
    "import torch.nn.functional as F\n",
    "import torchio as tio\n",
    "from torchsummary import summary\n",
    "import torchvision\n",
    "import torchvision.transforms as transforms\n",
    "\n",
    "\n",
    "from modules.Dataset import FeTADataSet\n",
    "from modules.LossFunctions import GDiceLoss\n",
    "from modules.UNet import UNet3D\n",
    "from modules.Utils import create_patch_indexes, create_onehot_mask"
   ]
  },
  {
   "cell_type": "code",
   "execution_count": null,
   "metadata": {
    "id": "tAp5iDVkXVo5"
   },
   "outputs": [],
   "source": [
    "device = torch.device('cuda' if torch.cuda.is_available() else 'cpu')\n",
    "\n",
    "# Hyper-parameters \n",
    "num_epochs = 500\n",
    "batch_size_ = 1\n",
    "learning_rate = 0.001\n",
    "weight_path = \"weights\"\n",
    "shape = (256, 256, 256)\n",
    "patch_sizes = (128, 128, 128)"
   ]
  },
  {
   "cell_type": "code",
   "execution_count": null,
   "metadata": {
    "id": "5VWdtdClXW53"
   },
   "outputs": [],
   "source": [
    "labels = pd.read_csv(\"feta_2.1/dseg.tsv\", sep='\\t', index_col=\"index\")\n",
    "\n",
    "transform_ = transforms.Compose([tio.ZNormalization(masking_method=tio.ZNormalization.mean)])\n",
    "\n",
    "train = FeTADataSet(train=True, transform=transform_)\n",
    "test = FeTADataSet(train=False, transform=transform_)\n",
    "\n",
    "train_loader = torch.utils.data.DataLoader(dataset=train, batch_size=batch_size_)\n",
    "test_loader = torch.utils.data.DataLoader(dataset=test, batch_size=batch_size_)"
   ]
  },
  {
   "cell_type": "code",
   "execution_count": null,
   "metadata": {
    "id": "cHHDkEKkXYg_",
    "scrolled": false
   },
   "outputs": [],
   "source": [
    "model = UNet3D().to(device)\n",
    "#print(summary(model.cuda(), input_size=(1, 64, 64, 64)))\n",
    "\n",
    "criterion = GDiceLoss()#nn.CrossEntropyLoss()\n",
    "optimizer = torch.optim.SGD(model.parameters(), lr=learning_rate)\n",
    "\n",
    "n_total_steps = len(train_loader)"
   ]
  },
  {
   "cell_type": "code",
   "execution_count": null,
   "metadata": {
    "id": "r2tSNZTXXaCA"
   },
   "outputs": [],
   "source": [
    "patch_indexes = create_patch_indexes(shape, patch_sizes)\n",
    "\n",
    "for epoch in range(num_epochs):\n",
    "    for i, (image, mask) in enumerate(train_loader):\n",
    "        image = image.to(device) #[bs,x,y,z]\n",
    "        image = image.view(batch_size_, 1, shape[0], shape[1], shape[2]) #[bs,c,x,y,z]\n",
    "        \n",
    "        mask = mask.to(device) #[x,y,z]\n",
    "        mask = mask.view(batch_size_, 1, shape[0], shape[1], shape[2]) #[bs,1,x,y,z]\n",
    "        \n",
    "        \n",
    "        for coors in patch_indexes:\n",
    "            [sx, sy, sz] = coors[0]\n",
    "            [ex, ey, ez] = coors[1]            \n",
    "            patch_image = image[:, :, sx:ex, sy:ey, sz:ez]\n",
    "            patch_mask = mask[:, :, sx:ex, sy:ey, sz:ez]\n",
    "            \n",
    "            unique, counts = torch.unique(mask[sx:ex, sy:ey, sz:ez], return_counts=True) \n",
    "            \n",
    "            # if the label count below the 70 pixel don't train with it.            \n",
    "            if torch.any(counts[1:]>70):            \n",
    "                outputs = model(patch_image.float())\n",
    "                \n",
    "                one_hot_mask = create_onehot_mask(outputs.shape, patch_mask)\n",
    "                \n",
    "                loss = criterion(outputs, one_hot_mask)\n",
    "                print(loss.item())\n",
    "                optimizer.zero_grad()\n",
    "                loss.backward()\n",
    "                optimizer.step()\n",
    "        \n",
    "        print(f'Epoch [{epoch+1}/{num_epochs}], Step [{i+1}/{n_total_steps}], Loss: {loss.item():.4f}')\n",
    "        \n",
    "        if (i+1) % 5 == 0:            \n",
    "            torch.save(model.state_dict(), os.path.join(weight_path, \"model.pth\"))\n",
    "\n",
    "print('Finished Training')"
   ]
  },
  {
   "cell_type": "code",
   "execution_count": null,
   "metadata": {},
   "outputs": [],
   "source": []
  },
  {
   "cell_type": "code",
   "execution_count": null,
   "metadata": {},
   "outputs": [],
   "source": []
  }
 ],
 "metadata": {
  "accelerator": "TPU",
  "colab": {
   "collapsed_sections": [],
   "machine_shape": "hm",
   "name": "UNet_3D.ipynb",
   "provenance": []
  },
  "kernelspec": {
   "display_name": "pytorch",
   "language": "python",
   "name": "pytorch"
  },
  "language_info": {
   "codemirror_mode": {
    "name": "ipython",
    "version": 3
   },
   "file_extension": ".py",
   "mimetype": "text/x-python",
   "name": "python",
   "nbconvert_exporter": "python",
   "pygments_lexer": "ipython3",
   "version": "3.8.10"
  },
  "toc": {
   "base_numbering": 1,
   "nav_menu": {},
   "number_sections": true,
   "sideBar": true,
   "skip_h1_title": false,
   "title_cell": "Table of Contents",
   "title_sidebar": "Contents",
   "toc_cell": false,
   "toc_position": {},
   "toc_section_display": true,
   "toc_window_display": false
  },
  "varInspector": {
   "cols": {
    "lenName": 16,
    "lenType": 16,
    "lenVar": 40
   },
   "kernels_config": {
    "python": {
     "delete_cmd_postfix": "",
     "delete_cmd_prefix": "del ",
     "library": "var_list.py",
     "varRefreshCmd": "print(var_dic_list())"
    },
    "r": {
     "delete_cmd_postfix": ") ",
     "delete_cmd_prefix": "rm(",
     "library": "var_list.r",
     "varRefreshCmd": "cat(var_dic_list()) "
    }
   },
   "types_to_exclude": [
    "module",
    "function",
    "builtin_function_or_method",
    "instance",
    "_Feature"
   ],
   "window_display": false
  }
 },
 "nbformat": 4,
 "nbformat_minor": 1
}
