{
 "cells": [
  {
   "cell_type": "code",
   "execution_count": null,
   "metadata": {
    "id": "tAb77yZ9fzMG"
   },
   "outputs": [],
   "source": [
    "import os\n",
    "\n",
    "import matplotlib.pyplot as plt\n",
    "import numpy as np\n",
    "import pandas as pd\n",
    "import torch\n",
    "import torch.nn as nn\n",
    "import torch.nn.functional as F\n",
    "import torchio as tio\n",
    "from torchsummary import summary\n",
    "import torchvision\n",
    "import torchvision.transforms as transforms\n",
    "\n",
    "\n",
    "from modules.Dataset import FeTADataSet\n",
    "from modules.Evaluator import Evaluator3D\n",
    "from modules.LossFunctions import DC_and_CE_loss, GDiceLossV2\n",
    "from modules.UNet import UNet3D\n",
    "from modules.Utils import calculate_dice_score, create_onehot_mask, create_patch_indexes, init_weights_kaiming\n",
    "from modules.Utils import TensorboardModules "
   ]
  },
  {
   "cell_type": "code",
   "execution_count": null,
   "metadata": {
    "id": "tAp5iDVkXVo5"
   },
   "outputs": [],
   "source": [
    "device = torch.device('cuda' if torch.cuda.is_available() else 'cpu')\n",
    "\n",
    "# Hyper-parameters \n",
    "num_epochs = 250\n",
    "batch_size_ = 1\n",
    "lr_ = 0.01\n",
    "momentum_ = 0.9\n",
    "nesterov_ = True\n",
    "shape = (256, 256, 256)\n",
    "patch_sizes = (128, 128, 128)\n",
    "\n",
    "output_path = \"output/UNet3D/run1\"\n",
    "weight_path = os.path.join(output_path, \"weights/\")"
   ]
  },
  {
   "cell_type": "code",
   "execution_count": null,
   "metadata": {},
   "outputs": [],
   "source": [
    "# Create output and path if it is not exist.\n",
    "if not os.path.isdir(weight_path):\n",
    "    os.makedirs(weight_path)\n",
    "\n",
    "# Create patch indexes.\n",
    "patch_indexes = create_patch_indexes(shape, patch_sizes)\n",
    "\n",
    "tb = TensorboardModules(output_path)"
   ]
  },
  {
   "cell_type": "code",
   "execution_count": null,
   "metadata": {
    "id": "5VWdtdClXW53"
   },
   "outputs": [],
   "source": [
    "labels = pd.read_csv(\"feta_2.1/dseg.tsv\", sep='\\t', index_col=\"index\")\n",
    "\n",
    "transform_ = transforms.Compose([tio.ZNormalization(masking_method=tio.ZNormalization.mean)])\n",
    "\n",
    "train = FeTADataSet(\"train\", transform=transform_)\n",
    "val = FeTADataSet(\"val\", transform=transform_)\n",
    "\n",
    "train_loader = torch.utils.data.DataLoader(dataset=train, batch_size=batch_size_)\n",
    "val_loader = torch.utils.data.DataLoader(dataset=val, batch_size=batch_size_)"
   ]
  },
  {
   "cell_type": "code",
   "execution_count": null,
   "metadata": {},
   "outputs": [],
   "source": [
    "# Add some images and corresponding masks into Tensorboard.\n",
    "mri_image, mri_mask = val[8]\n",
    "slices = (80, 150, 10)\n",
    "tb.add_images(\"Fetal Brain Images\", mri_image, slices)\n",
    "tb.add_images(\"Fetal Brain Masks\", mri_mask, slices)"
   ]
  },
  {
   "cell_type": "code",
   "execution_count": null,
   "metadata": {
    "id": "cHHDkEKkXYg_",
    "scrolled": false
   },
   "outputs": [],
   "source": [
    "model = UNet3D().to(device)\n",
    "model.apply(init_weights_kaiming)\n",
    "\n",
    "# Add model graph to Tensorboard.\n",
    "tb.add_graph(model, patch_sizes, device)\n",
    "#print(summary(model, input_size=(1, 256, 256)))\n",
    "\n",
    "criterion = DC_and_CE_loss({'batch_dice': True, 'smooth': 1e-5, 'do_bg': False, 'square': False}, {})\n",
    "optimizer = torch.optim.SGD(model.parameters(), lr=lr_, momentum=momentum_, nesterov=nesterov_)\n",
    "\n",
    "# Initalize evaluator for validation.\n",
    "evaluator = Evaluator3D(model, patch_indexes, val_loader)"
   ]
  },
  {
   "cell_type": "code",
   "execution_count": null,
   "metadata": {
    "id": "r2tSNZTXXaCA",
    "scrolled": false
   },
   "outputs": [],
   "source": [
    "count_forward = 0\n",
    "n_total_steps = len(train_loader)\n",
    "running_loss = 0.0\n",
    "\n",
    "for epoch in range(num_epochs):\n",
    "    for i, (image, mask) in enumerate(train_loader):\n",
    "        image = image.to(device) #[bs,x,y,z]\n",
    "        image = image.view(batch_size_, 1, shape[0], shape[1], shape[2]) #[bs,c,x,y,z]\n",
    "        \n",
    "        mask = mask.to(device) #[x,y,z]\n",
    "        mask = mask.view(batch_size_, 1, shape[0], shape[1], shape[2]) #[bs,1,x,y,z]\n",
    "        \n",
    "        for coors in patch_indexes:\n",
    "            [sx, sy, sz] = coors[0]\n",
    "            [ex, ey, ez] = coors[1]            \n",
    "            patch_image = image[:, :, sx:ex, sy:ey, sz:ez]\n",
    "            patch_mask = mask[:, :, sx:ex, sy:ey, sz:ez]\n",
    "            \n",
    "            unique, counts = torch.unique(mask[sx:ex, sy:ey, sz:ez], return_counts=True) \n",
    "            \n",
    "            # If the label count below the 70 pixel don't train with it.            \n",
    "            if torch.any(counts[1:]>70):\n",
    "                outputs = model(patch_image.float())\n",
    "\n",
    "                loss = criterion(outputs, patch_mask)\n",
    "                optimizer.zero_grad()\n",
    "                loss.backward()\n",
    "                optimizer.step()\n",
    "                \n",
    "                # Sum losses and dice scores for all predicitions.\n",
    "                running_loss += loss.item()\n",
    "                count_forward += 1\n",
    "\n",
    "    # Save torch model.                \n",
    "    model_name = \"_\".join([str(epoch+1), str(lr_), str(nesterov_), \"model.pth\"])\n",
    "    torch.save(model.state_dict(), os.path.join(weight_path, model_name))    \n",
    "    \n",
    "    # Add average loss per 10th step to Tensorboard.\n",
    "    avg_loss = running_loss / count_forward\n",
    "    step = epoch * n_total_steps + i\n",
    "    tb.add_loss(avg_loss, step)\n",
    "    #Set values to zero for new calculations.\n",
    "    count_forward = 0\n",
    "    running_loss = 0.0\n",
    "    \n",
    "    print(f\"Epoch [{epoch+1}/{num_epochs}], Loss: {avg_loss}\")\n",
    "    \n",
    "    #Add average dice score per 10th step to Tensorboard.\n",
    "    avg_scores = evaluator.evaluate(model)\n",
    "    tb.add_dice_score(avg_scores, epoch)\n",
    "    \n",
    "\n",
    "print('Finished Training')"
   ]
  },
  {
   "cell_type": "code",
   "execution_count": null,
   "metadata": {
    "scrolled": false
   },
   "outputs": [],
   "source": []
  },
  {
   "cell_type": "code",
   "execution_count": null,
   "metadata": {},
   "outputs": [],
   "source": []
  }
 ],
 "metadata": {
  "accelerator": "TPU",
  "colab": {
   "collapsed_sections": [],
   "machine_shape": "hm",
   "name": "UNet_3D.ipynb",
   "provenance": []
  },
  "kernelspec": {
   "display_name": "pytorch",
   "language": "python",
   "name": "pytorch"
  },
  "language_info": {
   "codemirror_mode": {
    "name": "ipython",
    "version": 3
   },
   "file_extension": ".py",
   "mimetype": "text/x-python",
   "name": "python",
   "nbconvert_exporter": "python",
   "pygments_lexer": "ipython3",
   "version": "3.8.10"
  },
  "toc": {
   "base_numbering": 1,
   "nav_menu": {},
   "number_sections": true,
   "sideBar": true,
   "skip_h1_title": false,
   "title_cell": "Table of Contents",
   "title_sidebar": "Contents",
   "toc_cell": false,
   "toc_position": {},
   "toc_section_display": true,
   "toc_window_display": false
  },
  "varInspector": {
   "cols": {
    "lenName": 16,
    "lenType": 16,
    "lenVar": 40
   },
   "kernels_config": {
    "python": {
     "delete_cmd_postfix": "",
     "delete_cmd_prefix": "del ",
     "library": "var_list.py",
     "varRefreshCmd": "print(var_dic_list())"
    },
    "r": {
     "delete_cmd_postfix": ") ",
     "delete_cmd_prefix": "rm(",
     "library": "var_list.r",
     "varRefreshCmd": "cat(var_dic_list()) "
    }
   },
   "types_to_exclude": [
    "module",
    "function",
    "builtin_function_or_method",
    "instance",
    "_Feature"
   ],
   "window_display": false
  }
 },
 "nbformat": 4,
 "nbformat_minor": 1
}
