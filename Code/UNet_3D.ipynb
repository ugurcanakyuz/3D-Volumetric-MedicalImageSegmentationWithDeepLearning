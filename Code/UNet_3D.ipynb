{
 "cells": [
  {
   "cell_type": "code",
   "execution_count": null,
   "metadata": {
    "id": "tAb77yZ9fzMG"
   },
   "outputs": [],
   "source": [
    "import os\n",
    "\n",
    "import matplotlib.pyplot as plt\n",
    "import numpy as np\n",
    "import pandas as pd\n",
    "import torch\n",
    "import torch.nn as nn\n",
    "import torch.nn.functional as F\n",
    "import torchio as tio\n",
    "from torchsummary import summary\n",
    "import torchvision\n",
    "import torchvision.transforms as transforms\n",
    "\n",
    "\n",
    "from modules import Evaluator3D, MRIDataset, MRIDatasets, Trainer3D, UNet3D\n",
    "from modules.DataAugmentations import RandomAffine, RandomElasticDeformation, RandomMotion\n",
    "from modules.LossFunctions import DC_and_CE_loss, GDiceLossV2\n",
    "from modules.Tensorboard import TensorboardModules\n",
    "from modules.Utils import *"
   ]
  },
  {
   "cell_type": "code",
   "execution_count": null,
   "metadata": {
    "id": "tAp5iDVkXVo5"
   },
   "outputs": [],
   "source": [
    "device = torch.device('cuda' if torch.cuda.is_available() else 'cpu')\n",
    "\n",
    "# Hyper-parameters\n",
    "params = {\"total_epochs\": 100,\n",
    "          \"batch_size\": 1,\n",
    "          \"patch_sizes\": (128, 128, 128),\n",
    "          \"SGD\": {\"lr\": 1e-01, \"momentum\": 0.9, \"nesterov\": True},\n",
    "          #\"Adam\": {\"lr\": 1e-05, \"betas\":(0.9, 0.999), \"eps\": 1e-8},       \n",
    "          \"ES\":{\"patience\": 20, \"min_delta\": 1e-03},\n",
    "          \"CLR\":{\"base\": 1e-05, \"max\": 1e-01, \"up\": 3, \"down\": 5, \"mode\": \"triangular2\"},\n",
    "          #\"SLR\":{'step_size': 13, \"gamma\": 1e-1}          \n",
    "         }\n",
    "\n",
    "output_path = \"output/UNet3D/Iteration/run4\"\n",
    "weight_path = os.path.join(output_path, \"weights/\")\n",
    "\n",
    "# Create output and path if it is not exist.\n",
    "if not os.path.isdir(weight_path):\n",
    "    os.makedirs(weight_path)\n",
    "\n",
    "# Create Tensorboard object to save experiment outputs.    \n",
    "tb = TensorboardModules(output_path)"
   ]
  },
  {
   "cell_type": "code",
   "execution_count": null,
   "metadata": {
    "id": "5VWdtdClXW53"
   },
   "outputs": [],
   "source": [
    "# There are multiple data folders belong to same dataset. Each of them processed in different ways.\n",
    "# Therefore, path of the data and its name explicitly are defined.\n",
    "dataset_ = MRIDatasets.dHCP_FeTA\n",
    "dataset_path = \"data\"\n",
    "\n",
    "\n",
    "# Transformations.\n",
    "transform_train = transforms.Compose([RandomAffine(degrees=10)])\n",
    "\n",
    "transform_eval = transforms.Compose([RandomAffine(degrees=10)])\n",
    "\n",
    "\n",
    "# Split dataset.\n",
    "train = MRIDataset(dataset_, \"train\", dataset_path, transform=transform_train)\n",
    "val = MRIDataset(dataset_, \"val\", dataset_path, transform=None)\n",
    "test = MRIDataset(dataset_, \"test\", dataset_path, transform=None)\n",
    "\n",
    "torch.manual_seed(0)\n",
    "train_loader = torch.utils.data.DataLoader(dataset=train, batch_size=params[\"batch_size\"], shuffle=True)\n",
    "val_loader = torch.utils.data.DataLoader(dataset=val, batch_size=params[\"batch_size\"])\n",
    "test_loader = torch.utils.data.DataLoader(dataset=test, batch_size=params[\"batch_size\"])"
   ]
  },
  {
   "cell_type": "code",
   "execution_count": null,
   "metadata": {},
   "outputs": [],
   "source": [
    "model = UNet3D().to(device)\n",
    "# model.apply(init_weights_kaiming)\n",
    "model.load_state_dict(torch.load(\"output/UNet3D/Iteration7/run2/weights/70_model.pth\"))\n",
    "criterion = DC_and_CE_loss({'batch_dice': True, 'smooth': 1e-5, 'do_bg': False, 'square': False}, {})"
   ]
  },
  {
   "cell_type": "markdown",
   "metadata": {
    "heading_collapsed": true
   },
   "source": [
    "# Section: Training"
   ]
  },
  {
   "cell_type": "code",
   "execution_count": null,
   "metadata": {
    "hidden": true,
    "id": "cHHDkEKkXYg_",
    "scrolled": false
   },
   "outputs": [],
   "source": [
    "optimizer = torch.optim.SGD(model.parameters(), lr=params[\"SGD\"][\"lr\"], \n",
    "                            momentum=params[\"SGD\"][\"momentum\"], nesterov=params[\"SGD\"][\"nesterov\"])\n",
    "\n",
    "\n",
    "scheduler = torch.optim.lr_scheduler.CyclicLR(optimizer, base_lr=params[\"CLR\"][\"base\"], \n",
    "                                              max_lr=params[\"CLR\"][\"max\"],\n",
    "                                              step_size_up=params[\"CLR\"][\"up\"], \n",
    "                                              step_size_down=params[\"CLR\"][\"down\"],\n",
    "                                              mode=params[\"CLR\"][\"mode\"])\n",
    "\n",
    "# scheduler = torch.optim.lr_scheduler.StepLR(optimizer, step_size=params[\"SLR\"][\"step_size\"], \n",
    "#                                            gamma=params[\"SLR\"][\"gamma\"])\n",
    "\n",
    "early_stopping = EarlyStopping(patience=params[\"ES\"][\"patience\"], min_delta=params[\"ES\"][\"min_delta\"])\n",
    "\n",
    "\n",
    "# Initalize trainer for training.\n",
    "trainer = Trainer3D(criterion, model, optimizer, params[\"patch_sizes\"], \n",
    "                    params[\"total_epochs\"], train_loader, scheduler)\n",
    "\n",
    "# Initalize evaluator for validation.\n",
    "evaluator = Evaluator3D(criterion, model, params[\"patch_sizes\"], val_loader)"
   ]
  },
  {
   "cell_type": "code",
   "execution_count": null,
   "metadata": {
    "hidden": true
   },
   "outputs": [],
   "source": [
    "# Save hyperparameters as note.\n",
    "(pd.DataFrame.from_dict(data=params, orient='index')\n",
    " .to_csv(os.path.join(output_path,\"hyper_parameters.txt\"), header=False, sep=\"=\"))\n",
    "\n",
    "# Add some images and corresponding masks into Tensorboard.\n",
    "mri_image, mri_mask = val[0]\n",
    "slices = (80, 150, 10)\n",
    "tb.add_image_mask(mri_image, mri_mask, slices)\n",
    "\n",
    "# Add model graph to Tensorboard.\n",
    "tb.add_graph(model, params[\"patch_sizes\"], device)\n",
    "# print(summary(model, input_size=(1, 32, 128, 128)))"
   ]
  },
  {
   "cell_type": "code",
   "execution_count": null,
   "metadata": {
    "hidden": true,
    "id": "r2tSNZTXXaCA",
    "scrolled": true
   },
   "outputs": [],
   "source": [
    "prev_weights = \"\"\n",
    "prev_val_loss = 100\n",
    "\n",
    "for epoch in range(0, params[\"total_epochs\"]):\n",
    "    # One forward pass for all training data.\n",
    "    avg_train_loss = trainer.fit()\n",
    "    \n",
    "    # Evaluate current model on validation data.\n",
    "    avg_val_loss, avg_scores = evaluator.evaluate()\n",
    "    \n",
    "    print(\"-------------------------------------------------------------\")\n",
    "    \n",
    "    # Add results to tensorboard.\n",
    "    tb.add_scalars(step=epoch+1, lr=scheduler.get_last_lr()[0], ds=avg_scores, \n",
    "                   train_loss=avg_train_loss, val_loss=avg_val_loss)\n",
    "    \n",
    "    model_name = \"_\".join([str(epoch), \"model.pth\"])\n",
    "    model_path = os.path.join(weight_path, model_name)\n",
    "    \n",
    "    if avg_val_loss < prev_val_loss:\n",
    "        # Save trained weights.\n",
    "        if os.path.isfile(prev_weights):\n",
    "            os.remove(prev_weights)        \n",
    "        torch.save(model.state_dict(), model_path)\n",
    "        \n",
    "    prev_weights = model_path        \n",
    "    prev_val_loss = avg_val_loss\n",
    "    \n",
    "    # If model is not learning stop the training.\n",
    "    early_stopping(avg_val_loss)\n",
    "    if early_stopping.early_stop:\n",
    "        break\n",
    "\n",
    "print('Finished Training')"
   ]
  },
  {
   "cell_type": "markdown",
   "metadata": {},
   "source": [
    "# Section: Evalutaion"
   ]
  },
  {
   "cell_type": "code",
   "execution_count": null,
   "metadata": {
    "scrolled": false
   },
   "outputs": [],
   "source": [
    "# Initalize evaluator for different validations.\n",
    "evaluator = Evaluator3D(criterion, model, params[\"patch_sizes\"], val_loader)\n",
    "\n",
    "# Draw an example output of trained model.\n",
    "mri, mask = val[6]\n",
    "pred = F.softmax(evaluator.predict(mri.view(1, *mri.shape)), dim=1)\n",
    "pred = torch.argmax(pred, dim=1)"
   ]
  },
  {
   "cell_type": "code",
   "execution_count": null,
   "metadata": {},
   "outputs": [],
   "source": [
    "mask2 = mask.clone()\n",
    "index = 65\n",
    "class_id = 0\n",
    "mask2[:, index, :][mask2[:, index, :]!=class_id] = 0\n",
    "plot_sub(mri[:, :, index], mask2[:, :, index], pred[0, :, :, index])"
   ]
  },
  {
   "cell_type": "code",
   "execution_count": null,
   "metadata": {},
   "outputs": [],
   "source": [
    "# Save outputs.\n",
    "output_folder = \"eval\"\n",
    "\n",
    "for i, (mri, mask) in enumerate(val_loader):\n",
    "    pred = F.softmax(evaluator.predict(mri), dim=1)\n",
    "    one_hot_mask = create_onehot_mask(pred.shape, mask.unsqueeze(0))\n",
    "    pred = torch.argmax(pred, dim=1, keepdim=True)\n",
    "    one_hot_pred = create_onehot_mask(one_hot_mask.shape, pred)\n",
    "    dice_scores = calculate_dice_score(one_hot_pred, one_hot_mask)\n",
    "    with open(os.path.join(output_folder, f\"{i+1}.txt\"), 'w') as writer:\n",
    "        writer.write(str([round(score, 3) for score in dice_scores.tolist()]))\n",
    "        \n",
    "    pred = pred.squeeze()\n",
    "    mri = mri.squeeze().detach().cpu().numpy()\n",
    "    mask = mask.squeeze().detach().cpu().numpy()\n",
    "    pred = pred.squeeze().detach().cpu().numpy().astype(np.float32)\n",
    "    \n",
    "    mri_name = f\"{i+1}_mri\"\n",
    "    mask_name = f\"{i+1}_mask\"\n",
    "    pred_name = f\"{i+1}_prediction\"\n",
    "    \n",
    "    save_nii(output_folder, mri_name, mri)\n",
    "    save_nii(output_folder, mask_name, mask)\n",
    "    save_nii(output_folder, pred_name, pred)"
   ]
  },
  {
   "cell_type": "code",
   "execution_count": null,
   "metadata": {},
   "outputs": [],
   "source": []
  },
  {
   "cell_type": "code",
   "execution_count": null,
   "metadata": {},
   "outputs": [],
   "source": []
  },
  {
   "cell_type": "code",
   "execution_count": null,
   "metadata": {},
   "outputs": [],
   "source": []
  }
 ],
 "metadata": {
  "accelerator": "TPU",
  "colab": {
   "collapsed_sections": [],
   "machine_shape": "hm",
   "name": "UNet_3D.ipynb",
   "provenance": []
  },
  "kernelspec": {
   "display_name": "pytorch",
   "language": "python",
   "name": "pytorch"
  },
  "language_info": {
   "codemirror_mode": {
    "name": "ipython",
    "version": 3
   },
   "file_extension": ".py",
   "mimetype": "text/x-python",
   "name": "python",
   "nbconvert_exporter": "python",
   "pygments_lexer": "ipython3",
   "version": "3.8.10"
  },
  "toc": {
   "base_numbering": 1,
   "nav_menu": {},
   "number_sections": true,
   "sideBar": true,
   "skip_h1_title": false,
   "title_cell": "Table of Contents",
   "title_sidebar": "Contents",
   "toc_cell": false,
   "toc_position": {},
   "toc_section_display": true,
   "toc_window_display": false
  },
  "varInspector": {
   "cols": {
    "lenName": 16,
    "lenType": 16,
    "lenVar": 40
   },
   "kernels_config": {
    "python": {
     "delete_cmd_postfix": "",
     "delete_cmd_prefix": "del ",
     "library": "var_list.py",
     "varRefreshCmd": "print(var_dic_list())"
    },
    "r": {
     "delete_cmd_postfix": ") ",
     "delete_cmd_prefix": "rm(",
     "library": "var_list.r",
     "varRefreshCmd": "cat(var_dic_list()) "
    }
   },
   "types_to_exclude": [
    "module",
    "function",
    "builtin_function_or_method",
    "instance",
    "_Feature"
   ],
   "window_display": false
  }
 },
 "nbformat": 4,
 "nbformat_minor": 1
}
