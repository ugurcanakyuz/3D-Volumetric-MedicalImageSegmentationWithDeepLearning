{
 "cells": [
  {
   "cell_type": "code",
   "execution_count": 1,
   "id": "6d9fe0e8",
   "metadata": {},
   "outputs": [],
   "source": [
    "import sys\n",
    "sys.path.append('../')\n",
    "import torch\n",
    "from torchsummary import summary"
   ]
  },
  {
   "cell_type": "code",
   "execution_count": 2,
   "id": "854a6c79",
   "metadata": {},
   "outputs": [],
   "source": [
    "from modules.models.SegNet import SegNet3D"
   ]
  },
  {
   "cell_type": "code",
   "execution_count": 3,
   "id": "a21e66db",
   "metadata": {},
   "outputs": [],
   "source": [
    "model = SegNet3D()"
   ]
  },
  {
   "cell_type": "code",
   "execution_count": 7,
   "id": "229642d3",
   "metadata": {},
   "outputs": [
    {
     "data": {
      "text/plain": [
       "SegNet3D(\n",
       "  (MaxEn): MaxPool3d(kernel_size=2, stride=2, padding=0, dilation=1, ceil_mode=False)\n",
       "  (ConvEn11): Conv3d(1, 64, kernel_size=(3, 3, 3), stride=(1, 1, 1), padding=(1, 1, 1))\n",
       "  (BNEn11): BatchNorm3d(64, eps=1e-05, momentum=0.5, affine=True, track_running_stats=True)\n",
       "  (ConvEn12): Conv3d(64, 64, kernel_size=(3, 3, 3), stride=(1, 1, 1), padding=(1, 1, 1))\n",
       "  (BNEn12): BatchNorm3d(64, eps=1e-05, momentum=0.5, affine=True, track_running_stats=True)\n",
       "  (ConvEn21): Conv3d(64, 128, kernel_size=(3, 3, 3), stride=(1, 1, 1), padding=(1, 1, 1))\n",
       "  (BNEn21): BatchNorm3d(128, eps=1e-05, momentum=0.5, affine=True, track_running_stats=True)\n",
       "  (ConvEn22): Conv3d(128, 128, kernel_size=(3, 3, 3), stride=(1, 1, 1), padding=(1, 1, 1))\n",
       "  (BNEn22): BatchNorm3d(128, eps=1e-05, momentum=0.5, affine=True, track_running_stats=True)\n",
       "  (ConvEn31): Conv3d(128, 256, kernel_size=(3, 3, 3), stride=(1, 1, 1), padding=(1, 1, 1))\n",
       "  (BNEn31): BatchNorm3d(256, eps=1e-05, momentum=0.5, affine=True, track_running_stats=True)\n",
       "  (ConvEn32): Conv3d(256, 256, kernel_size=(3, 3, 3), stride=(1, 1, 1), padding=(1, 1, 1))\n",
       "  (BNEn32): BatchNorm3d(256, eps=1e-05, momentum=0.5, affine=True, track_running_stats=True)\n",
       "  (ConvEn33): Conv3d(256, 256, kernel_size=(3, 3, 3), stride=(1, 1, 1), padding=(1, 1, 1))\n",
       "  (BNEn33): BatchNorm3d(256, eps=1e-05, momentum=0.5, affine=True, track_running_stats=True)\n",
       "  (ConvEn41): Conv3d(256, 512, kernel_size=(3, 3, 3), stride=(1, 1, 1), padding=(1, 1, 1))\n",
       "  (BNEn41): BatchNorm3d(512, eps=1e-05, momentum=0.5, affine=True, track_running_stats=True)\n",
       "  (ConvEn42): Conv3d(512, 512, kernel_size=(3, 3, 3), stride=(1, 1, 1), padding=(1, 1, 1))\n",
       "  (BNEn42): BatchNorm3d(512, eps=1e-05, momentum=0.5, affine=True, track_running_stats=True)\n",
       "  (ConvEn43): Conv3d(512, 512, kernel_size=(3, 3, 3), stride=(1, 1, 1), padding=(1, 1, 1))\n",
       "  (BNEn43): BatchNorm3d(512, eps=1e-05, momentum=0.5, affine=True, track_running_stats=True)\n",
       "  (ConvEn51): Conv3d(512, 512, kernel_size=(3, 3, 3), stride=(1, 1, 1), padding=(1, 1, 1))\n",
       "  (BNEn51): BatchNorm3d(512, eps=1e-05, momentum=0.5, affine=True, track_running_stats=True)\n",
       "  (ConvEn52): Conv3d(512, 512, kernel_size=(3, 3, 3), stride=(1, 1, 1), padding=(1, 1, 1))\n",
       "  (BNEn52): BatchNorm3d(512, eps=1e-05, momentum=0.5, affine=True, track_running_stats=True)\n",
       "  (ConvEn53): Conv3d(512, 512, kernel_size=(3, 3, 3), stride=(1, 1, 1), padding=(1, 1, 1))\n",
       "  (BNEn53): BatchNorm3d(512, eps=1e-05, momentum=0.5, affine=True, track_running_stats=True)\n",
       "  (MaxDe): MaxUnpool3d(kernel_size=(2, 2, 2), stride=(2, 2, 2), padding=(0, 0, 0))\n",
       "  (ConvDe53): Conv3d(512, 512, kernel_size=(3, 3, 3), stride=(1, 1, 1), padding=(1, 1, 1))\n",
       "  (BNDe53): BatchNorm3d(512, eps=1e-05, momentum=0.5, affine=True, track_running_stats=True)\n",
       "  (ConvDe52): Conv3d(512, 512, kernel_size=(3, 3, 3), stride=(1, 1, 1), padding=(1, 1, 1))\n",
       "  (BNDe52): BatchNorm3d(512, eps=1e-05, momentum=0.5, affine=True, track_running_stats=True)\n",
       "  (ConvDe51): Conv3d(512, 512, kernel_size=(3, 3, 3), stride=(1, 1, 1), padding=(1, 1, 1))\n",
       "  (BNDe51): BatchNorm3d(512, eps=1e-05, momentum=0.5, affine=True, track_running_stats=True)\n",
       "  (ConvDe43): Conv3d(512, 512, kernel_size=(3, 3, 3), stride=(1, 1, 1), padding=(1, 1, 1))\n",
       "  (BNDe43): BatchNorm3d(512, eps=1e-05, momentum=0.5, affine=True, track_running_stats=True)\n",
       "  (ConvDe42): Conv3d(512, 512, kernel_size=(3, 3, 3), stride=(1, 1, 1), padding=(1, 1, 1))\n",
       "  (BNDe42): BatchNorm3d(512, eps=1e-05, momentum=0.5, affine=True, track_running_stats=True)\n",
       "  (ConvDe41): Conv3d(512, 256, kernel_size=(3, 3, 3), stride=(1, 1, 1), padding=(1, 1, 1))\n",
       "  (BNDe41): BatchNorm3d(256, eps=1e-05, momentum=0.5, affine=True, track_running_stats=True)\n",
       "  (ConvDe33): Conv3d(256, 256, kernel_size=(3, 3, 3), stride=(1, 1, 1), padding=(1, 1, 1))\n",
       "  (BNDe33): BatchNorm3d(256, eps=1e-05, momentum=0.5, affine=True, track_running_stats=True)\n",
       "  (ConvDe32): Conv3d(256, 256, kernel_size=(3, 3, 3), stride=(1, 1, 1), padding=(1, 1, 1))\n",
       "  (BNDe32): BatchNorm3d(256, eps=1e-05, momentum=0.5, affine=True, track_running_stats=True)\n",
       "  (ConvDe31): Conv3d(256, 128, kernel_size=(3, 3, 3), stride=(1, 1, 1), padding=(1, 1, 1))\n",
       "  (BNDe31): BatchNorm3d(128, eps=1e-05, momentum=0.5, affine=True, track_running_stats=True)\n",
       "  (ConvDe22): Conv3d(128, 128, kernel_size=(3, 3, 3), stride=(1, 1, 1), padding=(1, 1, 1))\n",
       "  (BNDe22): BatchNorm3d(128, eps=1e-05, momentum=0.5, affine=True, track_running_stats=True)\n",
       "  (ConvDe21): Conv3d(128, 64, kernel_size=(3, 3, 3), stride=(1, 1, 1), padding=(1, 1, 1))\n",
       "  (BNDe21): BatchNorm3d(64, eps=1e-05, momentum=0.5, affine=True, track_running_stats=True)\n",
       "  (ConvDe12): Conv3d(64, 64, kernel_size=(3, 3, 3), stride=(1, 1, 1), padding=(1, 1, 1))\n",
       "  (BNDe12): BatchNorm3d(64, eps=1e-05, momentum=0.5, affine=True, track_running_stats=True)\n",
       "  (ConvDe11): Conv3d(64, 8, kernel_size=(3, 3, 3), stride=(1, 1, 1), padding=(1, 1, 1))\n",
       "  (BNDe11): BatchNorm3d(8, eps=1e-05, momentum=0.5, affine=True, track_running_stats=True)\n",
       ")"
      ]
     },
     "execution_count": 7,
     "metadata": {},
     "output_type": "execute_result"
    }
   ],
   "source": [
    "model"
   ]
  },
  {
   "cell_type": "code",
   "execution_count": 6,
   "id": "de391e30",
   "metadata": {},
   "outputs": [
    {
     "name": "stdout",
     "output_type": "stream",
     "text": [
      "----------------------------------------------------------------\n",
      "        Layer (type)               Output Shape         Param #\n",
      "================================================================\n",
      "            Conv3d-1    [-1, 64, 128, 128, 128]           1,792\n",
      "       BatchNorm3d-2    [-1, 64, 128, 128, 128]             128\n",
      "            Conv3d-3    [-1, 64, 128, 128, 128]         110,656\n",
      "       BatchNorm3d-4    [-1, 64, 128, 128, 128]             128\n",
      "         MaxPool3d-5  [[-1, 64, 64, 64, 64], [-1, 64, 64, 64, 64]]               0\n",
      "            Conv3d-6      [-1, 128, 64, 64, 64]         221,312\n",
      "       BatchNorm3d-7      [-1, 128, 64, 64, 64]             256\n",
      "            Conv3d-8      [-1, 128, 64, 64, 64]         442,496\n",
      "       BatchNorm3d-9      [-1, 128, 64, 64, 64]             256\n",
      "        MaxPool3d-10  [[-1, 128, 32, 32, 32], [-1, 128, 32, 32, 32]]               0\n",
      "           Conv3d-11      [-1, 256, 32, 32, 32]         884,992\n",
      "      BatchNorm3d-12      [-1, 256, 32, 32, 32]             512\n",
      "           Conv3d-13      [-1, 256, 32, 32, 32]       1,769,728\n",
      "      BatchNorm3d-14      [-1, 256, 32, 32, 32]             512\n",
      "           Conv3d-15      [-1, 256, 32, 32, 32]       1,769,728\n",
      "      BatchNorm3d-16      [-1, 256, 32, 32, 32]             512\n",
      "        MaxPool3d-17  [[-1, 256, 16, 16, 16], [-1, 256, 16, 16, 16]]               0\n",
      "           Conv3d-18      [-1, 512, 16, 16, 16]       3,539,456\n",
      "      BatchNorm3d-19      [-1, 512, 16, 16, 16]           1,024\n",
      "           Conv3d-20      [-1, 512, 16, 16, 16]       7,078,400\n",
      "      BatchNorm3d-21      [-1, 512, 16, 16, 16]           1,024\n",
      "           Conv3d-22      [-1, 512, 16, 16, 16]       7,078,400\n",
      "      BatchNorm3d-23      [-1, 512, 16, 16, 16]           1,024\n",
      "        MaxPool3d-24  [[-1, 512, 8, 8, 8], [-1, 512, 8, 8, 8]]               0\n",
      "           Conv3d-25         [-1, 512, 8, 8, 8]       7,078,400\n",
      "      BatchNorm3d-26         [-1, 512, 8, 8, 8]           1,024\n",
      "           Conv3d-27         [-1, 512, 8, 8, 8]       7,078,400\n",
      "      BatchNorm3d-28         [-1, 512, 8, 8, 8]           1,024\n",
      "           Conv3d-29         [-1, 512, 8, 8, 8]       7,078,400\n",
      "      BatchNorm3d-30         [-1, 512, 8, 8, 8]           1,024\n",
      "        MaxPool3d-31  [[-1, 512, 4, 4, 4], [-1, 512, 4, 4, 4]]               0\n",
      "      MaxUnpool3d-32         [-1, 512, 8, 8, 8]               0\n",
      "           Conv3d-33         [-1, 512, 8, 8, 8]       7,078,400\n",
      "      BatchNorm3d-34         [-1, 512, 8, 8, 8]           1,024\n",
      "           Conv3d-35         [-1, 512, 8, 8, 8]       7,078,400\n",
      "      BatchNorm3d-36         [-1, 512, 8, 8, 8]           1,024\n",
      "           Conv3d-37         [-1, 512, 8, 8, 8]       7,078,400\n",
      "      BatchNorm3d-38         [-1, 512, 8, 8, 8]           1,024\n",
      "      MaxUnpool3d-39      [-1, 512, 16, 16, 16]               0\n",
      "           Conv3d-40      [-1, 512, 16, 16, 16]       7,078,400\n",
      "      BatchNorm3d-41      [-1, 512, 16, 16, 16]           1,024\n",
      "           Conv3d-42      [-1, 512, 16, 16, 16]       7,078,400\n",
      "      BatchNorm3d-43      [-1, 512, 16, 16, 16]           1,024\n",
      "           Conv3d-44      [-1, 256, 16, 16, 16]       3,539,200\n",
      "      BatchNorm3d-45      [-1, 256, 16, 16, 16]             512\n",
      "      MaxUnpool3d-46      [-1, 256, 32, 32, 32]               0\n",
      "           Conv3d-47      [-1, 256, 32, 32, 32]       1,769,728\n",
      "      BatchNorm3d-48      [-1, 256, 32, 32, 32]             512\n",
      "           Conv3d-49      [-1, 256, 32, 32, 32]       1,769,728\n",
      "      BatchNorm3d-50      [-1, 256, 32, 32, 32]             512\n",
      "           Conv3d-51      [-1, 128, 32, 32, 32]         884,864\n",
      "      BatchNorm3d-52      [-1, 128, 32, 32, 32]             256\n",
      "      MaxUnpool3d-53      [-1, 128, 64, 64, 64]               0\n",
      "           Conv3d-54      [-1, 128, 64, 64, 64]         442,496\n",
      "      BatchNorm3d-55      [-1, 128, 64, 64, 64]             256\n",
      "           Conv3d-56       [-1, 64, 64, 64, 64]         221,248\n",
      "      BatchNorm3d-57       [-1, 64, 64, 64, 64]             128\n",
      "      MaxUnpool3d-58    [-1, 64, 128, 128, 128]               0\n",
      "           Conv3d-59    [-1, 64, 128, 128, 128]         110,656\n",
      "      BatchNorm3d-60    [-1, 64, 128, 128, 128]             128\n",
      "           Conv3d-61     [-1, 8, 128, 128, 128]          13,832\n",
      "================================================================\n",
      "Total params: 88,291,784\n",
      "Trainable params: 88,291,784\n",
      "Non-trainable params: 0\n",
      "----------------------------------------------------------------\n",
      "Input size (MB): 8.00\n",
      "Forward/backward pass size (MB): 2138.00\n",
      "Params size (MB): 336.81\n",
      "Estimated Total Size (MB): 2482.81\n",
      "----------------------------------------------------------------\n"
     ]
    }
   ],
   "source": [
    "summary(model, input_size=(1, 128, 128, 128), device='cpu')"
   ]
  },
  {
   "cell_type": "code",
   "execution_count": null,
   "id": "9f600c17",
   "metadata": {},
   "outputs": [],
   "source": []
  },
  {
   "cell_type": "code",
   "execution_count": null,
   "id": "864d81b8",
   "metadata": {},
   "outputs": [],
   "source": []
  },
  {
   "cell_type": "code",
   "execution_count": null,
   "id": "e761b6f0",
   "metadata": {},
   "outputs": [],
   "source": []
  }
 ],
 "metadata": {
  "kernelspec": {
   "display_name": "pytorch",
   "language": "python",
   "name": "pytorch"
  },
  "language_info": {
   "codemirror_mode": {
    "name": "ipython",
    "version": 3
   },
   "file_extension": ".py",
   "mimetype": "text/x-python",
   "name": "python",
   "nbconvert_exporter": "python",
   "pygments_lexer": "ipython3",
   "version": "3.10.7"
  }
 },
 "nbformat": 4,
 "nbformat_minor": 5
}
