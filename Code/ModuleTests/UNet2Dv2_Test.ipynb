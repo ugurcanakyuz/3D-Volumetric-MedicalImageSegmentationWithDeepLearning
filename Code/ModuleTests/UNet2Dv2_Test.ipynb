{
 "cells": [
  {
   "cell_type": "code",
   "execution_count": 1,
   "id": "adea8f78",
   "metadata": {},
   "outputs": [],
   "source": [
    "import sys\n",
    "sys.path.append('../')\n",
    "\n",
    "import gc\n",
    "import torch\n",
    "import torch.nn as nn\n",
    "import torchsummary\n",
    "\n",
    "\n",
    "import modules.models as models"
   ]
  },
  {
   "cell_type": "code",
   "execution_count": 2,
   "id": "6c2db5ee",
   "metadata": {},
   "outputs": [],
   "source": [
    "data = torch.rand(1, 1, 128, 128)\n",
    "model = models.UNet2Dv2()\n",
    "out = model(data)\n",
    "assert torch.any(out)"
   ]
  },
  {
   "cell_type": "code",
   "execution_count": 3,
   "id": "b94fdda0",
   "metadata": {},
   "outputs": [
    {
     "data": {
      "text/plain": [
       "UNet2Dv2(\n",
       "  (max_pool_2x2): MaxPool2d(kernel_size=2, stride=2, padding=0, dilation=1, ceil_mode=False)\n",
       "  (down_conv_1): Sequential(\n",
       "    (0): Conv2d(1, 32, kernel_size=(3, 3), stride=(1, 1), padding=same)\n",
       "    (1): BatchNorm2d(32, eps=1e-05, momentum=0.1, affine=True, track_running_stats=True)\n",
       "    (2): ReLU(inplace=True)\n",
       "    (3): Conv2d(32, 32, kernel_size=(3, 3), stride=(1, 1), padding=same)\n",
       "    (4): BatchNorm2d(32, eps=1e-05, momentum=0.1, affine=True, track_running_stats=True)\n",
       "    (5): ReLU(inplace=True)\n",
       "  )\n",
       "  (down_conv_2): Sequential(\n",
       "    (0): Conv2d(32, 64, kernel_size=(3, 3), stride=(1, 1), padding=same)\n",
       "    (1): BatchNorm2d(64, eps=1e-05, momentum=0.1, affine=True, track_running_stats=True)\n",
       "    (2): ReLU(inplace=True)\n",
       "    (3): Conv2d(64, 64, kernel_size=(3, 3), stride=(1, 1), padding=same)\n",
       "    (4): BatchNorm2d(64, eps=1e-05, momentum=0.1, affine=True, track_running_stats=True)\n",
       "    (5): ReLU(inplace=True)\n",
       "  )\n",
       "  (down_conv_3): Sequential(\n",
       "    (0): Conv2d(64, 128, kernel_size=(3, 3), stride=(1, 1), padding=same)\n",
       "    (1): BatchNorm2d(128, eps=1e-05, momentum=0.1, affine=True, track_running_stats=True)\n",
       "    (2): ReLU(inplace=True)\n",
       "    (3): Conv2d(128, 128, kernel_size=(3, 3), stride=(1, 1), padding=same)\n",
       "    (4): BatchNorm2d(128, eps=1e-05, momentum=0.1, affine=True, track_running_stats=True)\n",
       "    (5): ReLU(inplace=True)\n",
       "  )\n",
       "  (down_conv_4): Sequential(\n",
       "    (0): Conv2d(128, 256, kernel_size=(3, 3), stride=(1, 1), padding=same)\n",
       "    (1): BatchNorm2d(256, eps=1e-05, momentum=0.1, affine=True, track_running_stats=True)\n",
       "    (2): ReLU(inplace=True)\n",
       "    (3): Conv2d(256, 256, kernel_size=(3, 3), stride=(1, 1), padding=same)\n",
       "    (4): BatchNorm2d(256, eps=1e-05, momentum=0.1, affine=True, track_running_stats=True)\n",
       "    (5): ReLU(inplace=True)\n",
       "  )\n",
       "  (up_trans_1): ConvTranspose2d(256, 128, kernel_size=(2, 2), stride=(2, 2))\n",
       "  (up_conv_1): Sequential(\n",
       "    (0): Conv2d(256, 128, kernel_size=(3, 3), stride=(1, 1), padding=same)\n",
       "    (1): BatchNorm2d(128, eps=1e-05, momentum=0.1, affine=True, track_running_stats=True)\n",
       "    (2): ReLU(inplace=True)\n",
       "    (3): Conv2d(128, 128, kernel_size=(3, 3), stride=(1, 1), padding=same)\n",
       "    (4): BatchNorm2d(128, eps=1e-05, momentum=0.1, affine=True, track_running_stats=True)\n",
       "    (5): ReLU(inplace=True)\n",
       "  )\n",
       "  (up_trans_2): ConvTranspose2d(128, 64, kernel_size=(2, 2), stride=(2, 2))\n",
       "  (up_conv_2): Sequential(\n",
       "    (0): Conv2d(128, 64, kernel_size=(3, 3), stride=(1, 1), padding=same)\n",
       "    (1): BatchNorm2d(64, eps=1e-05, momentum=0.1, affine=True, track_running_stats=True)\n",
       "    (2): ReLU(inplace=True)\n",
       "    (3): Conv2d(64, 64, kernel_size=(3, 3), stride=(1, 1), padding=same)\n",
       "    (4): BatchNorm2d(64, eps=1e-05, momentum=0.1, affine=True, track_running_stats=True)\n",
       "    (5): ReLU(inplace=True)\n",
       "  )\n",
       "  (up_trans_3): ConvTranspose2d(64, 32, kernel_size=(2, 2), stride=(2, 2))\n",
       "  (up_conv_3): Sequential(\n",
       "    (0): Conv2d(64, 32, kernel_size=(3, 3), stride=(1, 1), padding=same)\n",
       "    (1): BatchNorm2d(32, eps=1e-05, momentum=0.1, affine=True, track_running_stats=True)\n",
       "    (2): ReLU(inplace=True)\n",
       "    (3): Conv2d(32, 32, kernel_size=(3, 3), stride=(1, 1), padding=same)\n",
       "    (4): BatchNorm2d(32, eps=1e-05, momentum=0.1, affine=True, track_running_stats=True)\n",
       "    (5): ReLU(inplace=True)\n",
       "  )\n",
       "  (out): Conv2d(32, 8, kernel_size=(1, 1), stride=(1, 1))\n",
       ")"
      ]
     },
     "execution_count": 3,
     "metadata": {},
     "output_type": "execute_result"
    }
   ],
   "source": [
    "model"
   ]
  },
  {
   "cell_type": "code",
   "execution_count": 4,
   "id": "912c4dbb",
   "metadata": {},
   "outputs": [
    {
     "name": "stdout",
     "output_type": "stream",
     "text": [
      "----------------------------------------------------------------\n",
      "        Layer (type)               Output Shape         Param #\n",
      "================================================================\n",
      "            Conv2d-1           [-1, 32, 64, 64]             320\n",
      "       BatchNorm2d-2           [-1, 32, 64, 64]              64\n",
      "              ReLU-3           [-1, 32, 64, 64]               0\n",
      "            Conv2d-4           [-1, 32, 64, 64]           9,248\n",
      "       BatchNorm2d-5           [-1, 32, 64, 64]              64\n",
      "              ReLU-6           [-1, 32, 64, 64]               0\n",
      "         MaxPool2d-7           [-1, 32, 32, 32]               0\n",
      "            Conv2d-8           [-1, 64, 32, 32]          18,496\n",
      "       BatchNorm2d-9           [-1, 64, 32, 32]             128\n",
      "             ReLU-10           [-1, 64, 32, 32]               0\n",
      "           Conv2d-11           [-1, 64, 32, 32]          36,928\n",
      "      BatchNorm2d-12           [-1, 64, 32, 32]             128\n",
      "             ReLU-13           [-1, 64, 32, 32]               0\n",
      "        MaxPool2d-14           [-1, 64, 16, 16]               0\n",
      "           Conv2d-15          [-1, 128, 16, 16]          73,856\n",
      "      BatchNorm2d-16          [-1, 128, 16, 16]             256\n",
      "             ReLU-17          [-1, 128, 16, 16]               0\n",
      "           Conv2d-18          [-1, 128, 16, 16]         147,584\n",
      "      BatchNorm2d-19          [-1, 128, 16, 16]             256\n",
      "             ReLU-20          [-1, 128, 16, 16]               0\n",
      "        MaxPool2d-21            [-1, 128, 8, 8]               0\n",
      "           Conv2d-22            [-1, 256, 8, 8]         295,168\n",
      "      BatchNorm2d-23            [-1, 256, 8, 8]             512\n",
      "             ReLU-24            [-1, 256, 8, 8]               0\n",
      "           Conv2d-25            [-1, 256, 8, 8]         590,080\n",
      "      BatchNorm2d-26            [-1, 256, 8, 8]             512\n",
      "             ReLU-27            [-1, 256, 8, 8]               0\n",
      "  ConvTranspose2d-28          [-1, 128, 16, 16]         131,200\n",
      "           Conv2d-29          [-1, 128, 16, 16]         295,040\n",
      "      BatchNorm2d-30          [-1, 128, 16, 16]             256\n",
      "             ReLU-31          [-1, 128, 16, 16]               0\n",
      "           Conv2d-32          [-1, 128, 16, 16]         147,584\n",
      "      BatchNorm2d-33          [-1, 128, 16, 16]             256\n",
      "             ReLU-34          [-1, 128, 16, 16]               0\n",
      "  ConvTranspose2d-35           [-1, 64, 32, 32]          32,832\n",
      "           Conv2d-36           [-1, 64, 32, 32]          73,792\n",
      "      BatchNorm2d-37           [-1, 64, 32, 32]             128\n",
      "             ReLU-38           [-1, 64, 32, 32]               0\n",
      "           Conv2d-39           [-1, 64, 32, 32]          36,928\n",
      "      BatchNorm2d-40           [-1, 64, 32, 32]             128\n",
      "             ReLU-41           [-1, 64, 32, 32]               0\n",
      "  ConvTranspose2d-42           [-1, 32, 64, 64]           8,224\n",
      "           Conv2d-43           [-1, 32, 64, 64]          18,464\n",
      "      BatchNorm2d-44           [-1, 32, 64, 64]              64\n",
      "             ReLU-45           [-1, 32, 64, 64]               0\n",
      "           Conv2d-46           [-1, 32, 64, 64]           9,248\n",
      "      BatchNorm2d-47           [-1, 32, 64, 64]              64\n",
      "             ReLU-48           [-1, 32, 64, 64]               0\n",
      "           Conv2d-49            [-1, 8, 64, 64]             264\n",
      "================================================================\n",
      "Total params: 1,928,072\n",
      "Trainable params: 1,928,072\n",
      "Non-trainable params: 0\n",
      "----------------------------------------------------------------\n",
      "Input size (MB): 0.02\n",
      "Forward/backward pass size (MB): 24.19\n",
      "Params size (MB): 7.36\n",
      "Estimated Total Size (MB): 31.56\n",
      "----------------------------------------------------------------\n"
     ]
    }
   ],
   "source": [
    "torchsummary.summary(model.to('cuda'), input_size=(1, 64, 64))"
   ]
  },
  {
   "cell_type": "code",
   "execution_count": null,
   "id": "f6b6f306",
   "metadata": {},
   "outputs": [],
   "source": []
  },
  {
   "cell_type": "code",
   "execution_count": null,
   "id": "f6e3c1df",
   "metadata": {},
   "outputs": [],
   "source": []
  },
  {
   "cell_type": "code",
   "execution_count": null,
   "id": "b64ed397",
   "metadata": {},
   "outputs": [],
   "source": []
  }
 ],
 "metadata": {
  "kernelspec": {
   "display_name": "pytorch",
   "language": "python",
   "name": "pytorch"
  },
  "language_info": {
   "codemirror_mode": {
    "name": "ipython",
    "version": 3
   },
   "file_extension": ".py",
   "mimetype": "text/x-python",
   "name": "python",
   "nbconvert_exporter": "python",
   "pygments_lexer": "ipython3",
   "version": "3.10.7"
  }
 },
 "nbformat": 4,
 "nbformat_minor": 5
}
