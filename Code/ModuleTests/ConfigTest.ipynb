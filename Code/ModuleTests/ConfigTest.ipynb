{
 "cells": [
  {
   "cell_type": "code",
   "execution_count": 1,
   "id": "772894ea",
   "metadata": {},
   "outputs": [],
   "source": [
    "import sys\n",
    "sys.path.append('../')"
   ]
  },
  {
   "cell_type": "code",
   "execution_count": 2,
   "id": "0f987312",
   "metadata": {},
   "outputs": [],
   "source": [
    "from modules import Config"
   ]
  },
  {
   "cell_type": "code",
   "execution_count": 20,
   "id": "8a04b82c",
   "metadata": {},
   "outputs": [],
   "source": [
    "cfg = Config(\"../config.yaml\")"
   ]
  },
  {
   "cell_type": "code",
   "execution_count": 21,
   "id": "d9b7b8a3",
   "metadata": {},
   "outputs": [
    {
     "data": {
      "text/plain": [
       "namespace(data=namespace(train_path='Data/feta_processed2',\n",
       "                         val_path='Data/feta_processed2',\n",
       "                         batch_size=1,\n",
       "                         patch_size=[128, 128, 128]),\n",
       "          optimizer=namespace(SGD=namespace(lr=1e-05,\n",
       "                                            momentum=0.9,\n",
       "                                            nesterov=True)),\n",
       "          ES=namespace(patience=20, min_delta=0.001),\n",
       "          lr_scheduler=namespace(CLR=namespace(base=1e-05,\n",
       "                                               max=0.01,\n",
       "                                               up=3,\n",
       "                                               down=5,\n",
       "                                               mode='triangular2')))"
      ]
     },
     "execution_count": 21,
     "metadata": {},
     "output_type": "execute_result"
    }
   ],
   "source": [
    "cfg"
   ]
  },
  {
   "cell_type": "code",
   "execution_count": 10,
   "id": "3456bce5",
   "metadata": {},
   "outputs": [
    {
     "data": {
      "text/plain": [
       "'Data/feta_processed2'"
      ]
     },
     "execution_count": 10,
     "metadata": {},
     "output_type": "execute_result"
    }
   ],
   "source": [
    "cfg.data.train_path"
   ]
  },
  {
   "cell_type": "code",
   "execution_count": 11,
   "id": "4966a2cb",
   "metadata": {},
   "outputs": [
    {
     "data": {
      "text/plain": [
       "namespace(lr=0.1, momentum=0.9, nesterov=True)"
      ]
     },
     "execution_count": 11,
     "metadata": {},
     "output_type": "execute_result"
    }
   ],
   "source": [
    "cfg.optimizer.SGD"
   ]
  },
  {
   "cell_type": "code",
   "execution_count": null,
   "id": "3b750916",
   "metadata": {},
   "outputs": [],
   "source": []
  },
  {
   "cell_type": "code",
   "execution_count": null,
   "id": "40b0a288",
   "metadata": {},
   "outputs": [],
   "source": []
  },
  {
   "cell_type": "code",
   "execution_count": null,
   "id": "5c88449f",
   "metadata": {},
   "outputs": [],
   "source": []
  },
  {
   "cell_type": "code",
   "execution_count": null,
   "id": "df959420",
   "metadata": {},
   "outputs": [],
   "source": []
  }
 ],
 "metadata": {
  "kernelspec": {
   "display_name": "pytorch",
   "language": "python",
   "name": "pytorch"
  },
  "language_info": {
   "codemirror_mode": {
    "name": "ipython",
    "version": 3
   },
   "file_extension": ".py",
   "mimetype": "text/x-python",
   "name": "python",
   "nbconvert_exporter": "python",
   "pygments_lexer": "ipython3",
   "version": "3.10.7"
  },
  "varInspector": {
   "cols": {
    "lenName": 16,
    "lenType": 16,
    "lenVar": 40
   },
   "kernels_config": {
    "python": {
     "delete_cmd_postfix": "",
     "delete_cmd_prefix": "del ",
     "library": "var_list.py",
     "varRefreshCmd": "print(var_dic_list())"
    },
    "r": {
     "delete_cmd_postfix": ") ",
     "delete_cmd_prefix": "rm(",
     "library": "var_list.r",
     "varRefreshCmd": "cat(var_dic_list()) "
    }
   },
   "types_to_exclude": [
    "module",
    "function",
    "builtin_function_or_method",
    "instance",
    "_Feature"
   ],
   "window_display": false
  }
 },
 "nbformat": 4,
 "nbformat_minor": 5
}
