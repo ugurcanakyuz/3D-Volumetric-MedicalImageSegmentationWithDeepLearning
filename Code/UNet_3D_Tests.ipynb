{
 "cells": [
  {
   "cell_type": "code",
   "execution_count": null,
   "id": "100b7c48",
   "metadata": {},
   "outputs": [],
   "source": [
    "import matplotlib.pyplot as plt\n",
    "import pandas as pd\n",
    "import torch\n",
    "import torchio as tio\n",
    "import torchvision.transforms as transforms\n",
    "\n",
    "\n",
    "from modules import Evaluator3D, MRIDataset, MRIDatasets, UNet3D\n",
    "from modules.DataAugmentations import *\n",
    "from modules.LossFunctions import DC_and_CE_loss, GDiceLossV2\n",
    "from modules.Utils import *"
   ]
  },
  {
   "cell_type": "code",
   "execution_count": null,
   "id": "92b26bf6",
   "metadata": {},
   "outputs": [],
   "source": [
    "device = torch.device('cuda' if torch.cuda.is_available() else 'cpu')\n",
    "\n",
    "# There are multiple data folders belong to same dataset. Each of them processed in different ways.\n",
    "# Therefore, path of the data and its name explicitly are defined.\n",
    "dataset_ = MRIDatasets.dHCP\n",
    "dataset_path = \"data2\\\\rel3_dhcp_anat_pipeline\\\\\"\n",
    "cv_ = \"cv3\" # 5-fold cross-validation. Folds [cv1-cv5]\n",
    "\n",
    "# Transformations.\n",
    "transform_eval = None #transforms.Compose([RandomMotion(), RandomAffine(degrees=[15])])\n",
    "\n",
    "\n",
    "# Split dataset.\n",
    "val = MRIDataset(dataset_, \"val\", dataset_path, transform=transform_eval)\n",
    "test = MRIDataset(dataset_, \"test\", dataset_path, transform=transform_eval)\n",
    "\n",
    "torch.manual_seed(0)\n",
    "val_loader = torch.utils.data.DataLoader(dataset=val, batch_size=1)\n",
    "test_loader = torch.utils.data.DataLoader(dataset=test, batch_size=1)"
   ]
  },
  {
   "cell_type": "code",
   "execution_count": null,
   "id": "50008fad",
   "metadata": {},
   "outputs": [],
   "source": [
    "model = UNet3D().to(device)\n",
    "criterion = DC_and_CE_loss({'batch_dice': True, 'smooth': 1e-5, 'do_bg': False, 'square': False}, {})\n",
    "model.load_state_dict(torch.load(\"output/UNet3D/Iteration7/run2/weights/70_model.pth\"))"
   ]
  },
  {
   "cell_type": "code",
   "execution_count": null,
   "id": "7e8aaa0e",
   "metadata": {},
   "outputs": [],
   "source": [
    "tissue_classes = [\"Background\", \"eCSF\", \"Gray Matter\", \"White Matter\", \"Ventricles\", \n",
    "                  \"Cerrebilium\", \"Deep Gray Matter\", \"Brain Stem\"]\n",
    "\n",
    "# Evaluate the last model on validation set.\n",
    "evaluator = Evaluator3D(criterion, model, (128, 128, 128), val_loader)\n",
    "val_loss, val_scores = evaluator.evaluate()\n",
    "avg_val_scores = sum(val_scores) / len(val_scores)\n",
    "# Convert Tensors to list.\n",
    "val_scores = [score.tolist() for score in val_scores]\n",
    "# Combine results and subject information to examine data carefully. \n",
    "val_results = pd.DataFrame(val_scores, index=val.meta_data[\"participant_id\"], columns=tissue_classes)\n",
    "val_results.drop(columns=\"Background\", inplace=True)\n",
    "val_results = pd.merge(val.meta_data, val_results, on=[\"participant_id\"])\n",
    "\n",
    "# Display results.\n",
    "print(f\"Average Validation Dice Scores{avg_val_scores}\")\n",
    "plt.boxplot(val_results.iloc[:, 3:]) # Plot only dice scoress in box plot.\n",
    "plt.show()\n",
    "val_results"
   ]
  },
  {
   "cell_type": "code",
   "execution_count": null,
   "id": "0e6816e4",
   "metadata": {},
   "outputs": [],
   "source": [
    "# Evaluate the last model on validation set. \n",
    "# If cross-validation was used test set is not available for evaluation.\n",
    "evaluator = Evaluator3D(criterion, model, (128, 128, 128), test_loader)\n",
    "test_loss, test_scores = evaluator.evaluate()\n",
    "avg_test_scores = sum(test_scores) / len(test_scores)\n",
    "# Convert Tensors to list.\n",
    "test_scores = [score.tolist() for score in test_scores]\n",
    "# Combine results and subject information to examine data carefully. \n",
    "test_results = pd.DataFrame(test_scores, index=test.meta_data[\"participant_id\"], columns=tissue_classes)\n",
    "test_results.drop(columns=\"Background\", inplace=True)\n",
    "test_results = pd.merge(test.meta_data, test_results, on=[\"participant_id\"])\n",
    "\n",
    "# Display results.\n",
    "print(f\"Average Test Dice Scores{avg_test_scores}\")\n",
    "plt.boxplot(test_results.iloc[:, 3:])\n",
    "plt.show()\n",
    "test_results"
   ]
  },
  {
   "cell_type": "code",
   "execution_count": null,
   "id": "5a479a77",
   "metadata": {},
   "outputs": [],
   "source": []
  },
  {
   "cell_type": "code",
   "execution_count": null,
   "id": "f083b4a6",
   "metadata": {},
   "outputs": [],
   "source": []
  },
  {
   "cell_type": "code",
   "execution_count": null,
   "id": "d1a3101f",
   "metadata": {},
   "outputs": [],
   "source": []
  }
 ],
 "metadata": {
  "kernelspec": {
   "display_name": "pytorch",
   "language": "python",
   "name": "pytorch"
  },
  "language_info": {
   "codemirror_mode": {
    "name": "ipython",
    "version": 3
   },
   "file_extension": ".py",
   "mimetype": "text/x-python",
   "name": "python",
   "nbconvert_exporter": "python",
   "pygments_lexer": "ipython3",
   "version": "3.8.10"
  },
  "toc": {
   "base_numbering": 1,
   "nav_menu": {},
   "number_sections": true,
   "sideBar": true,
   "skip_h1_title": false,
   "title_cell": "Table of Contents",
   "title_sidebar": "Contents",
   "toc_cell": false,
   "toc_position": {},
   "toc_section_display": true,
   "toc_window_display": false
  },
  "varInspector": {
   "cols": {
    "lenName": 16,
    "lenType": 16,
    "lenVar": 40
   },
   "kernels_config": {
    "python": {
     "delete_cmd_postfix": "",
     "delete_cmd_prefix": "del ",
     "library": "var_list.py",
     "varRefreshCmd": "print(var_dic_list())"
    },
    "r": {
     "delete_cmd_postfix": ") ",
     "delete_cmd_prefix": "rm(",
     "library": "var_list.r",
     "varRefreshCmd": "cat(var_dic_list()) "
    }
   },
   "types_to_exclude": [
    "module",
    "function",
    "builtin_function_or_method",
    "instance",
    "_Feature"
   ],
   "window_display": false
  }
 },
 "nbformat": 4,
 "nbformat_minor": 5
}
