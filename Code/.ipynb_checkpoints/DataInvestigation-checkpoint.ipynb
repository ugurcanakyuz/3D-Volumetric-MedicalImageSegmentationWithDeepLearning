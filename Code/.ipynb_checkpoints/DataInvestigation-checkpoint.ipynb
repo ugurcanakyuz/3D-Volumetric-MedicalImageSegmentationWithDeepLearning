{
 "cells": [
  {
   "cell_type": "markdown",
   "metadata": {},
   "source": [
    "# Data\n",
    "\n",
    "This notebook was created for machine learning research on FeTA2.1 dataset. [\"The dataset facilitates the development of novel machine-learning and deep-learning based multi-class segmentation methods for the quantification of brain development on fetal MRI. The ultimate goal is to capture pathological developmental trajectories by the automated quantification of the prenatal development, for which automated approaches free of observer bias are indispensable.\"](http://neuroimaging.ch/feta) Some brief information about the labels can be found below. For more information, please follow the links in the notes.\n",
    "\n",
    "| dHCP label | Name | Notes |\n",
    "| :- | -: | :-: |\n",
    "| Label 1 | Intracranial space and extra-axial CSF spaces | Cerebrospinal fluid (CSF) is a clear, colorless body fluid found within the tissue that surrounds the brain and spinal cord of all vertebrates.[[1]](https://en.wikipedia.org/wiki/Cerebrospinal_fluid) \n",
    "| Label 2 | Gray Matter | Grey matter (or gray matter) is a major component of the central nervous system, consisting of neuronal cell bodies, neuropil (dendrites and unmyelinated axons), glial cells (astrocytes and oligodendrocytes), synapses, and capillaries.[[2]](https://en.wikipedia.org/wiki/Grey_matter) \n",
    "| Label 3 | White Matter | White matter refers to areas of the central nervous system (CNS) that are mainly made up of myelinated axons, also called tracts. [[3]](https://en.wikipedia.org/wiki/White_matter)\n",
    "| Label 4 | Ventricles | The ventricles are structures that produce cerebrospinal fluid, and transport it around the cranial cavity. [[4]](https://teachmeanatomy.info/neuroanatomy/vessels/ventricles/)\n",
    "| Label 5 | Cerebellum | The cerebellum (which is Latin for “little brain”) is a major structure of the hindbrain that is located near the brainstem. This part of the brain is responsible for coordinating voluntary movements. It is also responsible for a number of functions including motor skills such as balance, coordination, and posture. [[5]](https://www.verywellmind.com/what-is-the-cerebellum-2794964)\n",
    "| Label 6 | Deep gray matter | Grey matter is classed as either superficial or deep. The superficial grey matter, also called brain cortex, is on the outside of the brain. The deep grey matter is made up of neurons from which originate deep nerve fibres. These neurons tend to form clumps of basal nuclei.[[6]](https://www.msif.org/news/2014/12/16/role-deep-grey-matter-brain-plays-ms/)\n",
    "| Label 7 | Brainstem and spinal cord| The brainstem (or brain stem) is the posterior stalk-like part of the brain that connects the cerebrum with the spinal cord. [[7]](https://en.wikipedia.org/wiki/Brainstem)\n",
    "\n",
    "<br><br>\n",
    "\n",
    "![Structure of the brain](notebook_images/brain2.jpg \"Structure of the brain 1.\")\n",
    "<br><p><center>Structure of the brain 1.<a href=\"https://www.kenhub.com/en/library/learning-strategies/parts-of-the-brain-learn-with-diagrams-and-quizzes\">[8]</a></center></p>\n",
    "<br><br>\n",
    "\n",
    "![Structure of the brain](notebook_images/brain3.jpg \"Structure of the brain 2.\")\n",
    "<br><p><center>Structure of the brain 2.<a href=\"https://www.researchgate.net/publication/224283818_Patientoriented_simulation_based_on_Monte_Carlo_algorithm_by_using_MRI_data\">[9]</a></center></p>\n",
    "<br><br>"
   ]
  },
  {
   "cell_type": "code",
   "execution_count": 1,
   "metadata": {
    "ExecuteTime": {
     "end_time": "2021-12-01T07:57:29.929850Z",
     "start_time": "2021-12-01T07:57:29.923373Z"
    }
   },
   "outputs": [],
   "source": [
    "import glob\n",
    "import json\n",
    "import os\n",
    "\n",
    "import cv2\n",
    "import matplotlib.pyplot as plt\n",
    "import nibabel as nib\n",
    "import numpy as np\n",
    "from ipywidgets import fixed, interactive"
   ]
  },
  {
   "cell_type": "code",
   "execution_count": 2,
   "metadata": {},
   "outputs": [],
   "source": [
    "def get_subjects(folder):\n",
    "    subjects = glob.glob(os.path.join(folder, 's*'))\n",
    "    subjects = [os.path.basename(x) for x in subjects]\n",
    "    subjects.sort()\n",
    "\n",
    "    return subjects"
   ]
  },
  {
   "cell_type": "code",
   "execution_count": 3,
   "metadata": {},
   "outputs": [],
   "source": [
    "def rotate_image(image, angle):\n",
    "    image_center = tuple(np.array(image.shape[1::-1]) / 2)\n",
    "    rot_mat = cv2.getRotationMatrix2D(image_center, angle, 1.0)\n",
    "    result = cv2.warpAffine(image, rot_mat, image.shape[1::-1], flags=cv2.INTER_LINEAR)\n",
    "    \n",
    "    return result"
   ]
  },
  {
   "cell_type": "code",
   "execution_count": 4,
   "metadata": {},
   "outputs": [],
   "source": [
    "def get_nii_paths(subject):\n",
    "    suffix_image = \"_rec-mial_T2w.nii.gz\"\n",
    "    suffix_mask = \"_rec-mial_dseg.nii.gz\"\n",
    "    \n",
    "    path_sub = os.path.join(folder, \n",
    "                              subject, \n",
    "                              \"anat\", \n",
    "                              subject)\n",
    "    \n",
    "    path_image = path_sub+suffix_image\n",
    "    \n",
    "    path_mask = path_sub+suffix_mask\n",
    "    \n",
    "    return (path_image, path_mask)"
   ]
  },
  {
   "cell_type": "code",
   "execution_count": 91,
   "metadata": {},
   "outputs": [],
   "source": [
    "def draw_image(index, sub_name, isMask, orientation):\n",
    "    (path_image, path_mask) = get_nii_paths(sub_name)\n",
    "    \n",
    "    image = nib.load(path_image).get_fdata()\n",
    "    mask = nib.load(path_mask).get_fdata()\n",
    "    \n",
    "    fig, (ax1, ax2) = plt.subplots(1,2, figsize = (15, 15))\n",
    "    ax1.set_title('Image')\n",
    "    ax2.set_title('Mask')\n",
    "\n",
    "    if orientation == \"coronal\":\n",
    "        image = image[:, index, :]\n",
    "        image = rotate_image(image, 90)\n",
    "        ax1.imshow(image)\n",
    "        \n",
    "        mask = mask[:, index, :]\n",
    "        mask = rotate_image(mask, 90)\n",
    "        ax2.imshow(mask)\n",
    "        ax2.set_xlabel('Labels: ' + str(set.union(*map(set,mask))))\n",
    "        \n",
    "    elif orientation == \"axial\":\n",
    "        image = image[:, :, index]\n",
    "        image = rotate_image(image, 90)\n",
    "        ax1.imshow(image)\n",
    "        \n",
    "        mask = mask[:, :, index]\n",
    "        mask = rotate_image(mask, 90)\n",
    "        ax2.imshow(mask)\n",
    "        ax2.set_xlabel('Labels: ' + str(set.union(*map(set,mask))))\n",
    "\n",
    "    else:\n",
    "        image = image[index, :, :]\n",
    "        image = rotate_image(image, 90)\n",
    "        image = cv2.flip(image, 1)\n",
    "        ax1.imshow(image)\n",
    "        \n",
    "        mask = mask[index, :, :]\n",
    "        mask = rotate_image(mask, 90)\n",
    "        mask = cv2.flip(mask, 1)\n",
    "        ax2.imshow(mask)\n",
    "        ax2.set_xlabel('Labels: ' + str(set.union(*map(set,mask))))\n",
    "    \n",
    "\n",
    "def show_image(subject, isMask):\n",
    "    interactive_plot = interactive(draw_image, index=(0, 255),\n",
    "                                   sub_name = fixed(subject),\n",
    "                                   isMask=fixed(isMask),\n",
    "                                   orientation=[\"axial\", \"coronal\", \"sagittal\"])\n",
    "    \n",
    "    output = interactive_plot.children[-1]\n",
    "    display(interactive_plot)"
   ]
  },
  {
   "cell_type": "code",
   "execution_count": 92,
   "metadata": {
    "ExecuteTime": {
     "end_time": "2021-12-01T07:59:53.610063Z",
     "start_time": "2021-12-01T07:59:53.606696Z"
    }
   },
   "outputs": [],
   "source": [
    "folder = 'feta_2.1/'\n",
    "\n",
    "subjects = get_subjects(folder)"
   ]
  },
  {
   "cell_type": "code",
   "execution_count": 93,
   "metadata": {},
   "outputs": [
    {
     "data": {
      "application/vnd.jupyter.widget-view+json": {
       "model_id": "5972be8c115746488fbb9baf15f713c8",
       "version_major": 2,
       "version_minor": 0
      },
      "text/plain": [
       "interactive(children=(IntSlider(value=127, description='index', max=255), Dropdown(description='orientation', …"
      ]
     },
     "metadata": {},
     "output_type": "display_data"
    }
   ],
   "source": [
    "show_image(subjects[18], isMask = True)"
   ]
  },
  {
   "cell_type": "code",
   "execution_count": 86,
   "metadata": {},
   "outputs": [],
   "source": [
    "from skimage.util import montage\n",
    "\n",
    "image=nib.load(get_nii_paths(subjects[0])[1]).get_fdata()\n",
    "image = image[:, :, 87]\n",
    "image = rotate_image(image, 90)"
   ]
  },
  {
   "cell_type": "code",
   "execution_count": null,
   "metadata": {},
   "outputs": [],
   "source": []
  },
  {
   "cell_type": "code",
   "execution_count": null,
   "metadata": {},
   "outputs": [],
   "source": []
  },
  {
   "cell_type": "code",
   "execution_count": null,
   "metadata": {},
   "outputs": [],
   "source": []
  },
  {
   "cell_type": "code",
   "execution_count": null,
   "metadata": {},
   "outputs": [],
   "source": []
  }
 ],
 "metadata": {
  "kernelspec": {
   "display_name": "cv",
   "language": "python",
   "name": "cv"
  },
  "language_info": {
   "codemirror_mode": {
    "name": "ipython",
    "version": 3
   },
   "file_extension": ".py",
   "mimetype": "text/x-python",
   "name": "python",
   "nbconvert_exporter": "python",
   "pygments_lexer": "ipython3",
   "version": "3.8.10"
  },
  "toc": {
   "base_numbering": 1,
   "nav_menu": {},
   "number_sections": true,
   "sideBar": true,
   "skip_h1_title": false,
   "title_cell": "Table of Contents",
   "title_sidebar": "Contents",
   "toc_cell": false,
   "toc_position": {},
   "toc_section_display": true,
   "toc_window_display": false
  },
  "varInspector": {
   "cols": {
    "lenName": 16,
    "lenType": 16,
    "lenVar": 40
   },
   "kernels_config": {
    "python": {
     "delete_cmd_postfix": "",
     "delete_cmd_prefix": "del ",
     "library": "var_list.py",
     "varRefreshCmd": "print(var_dic_list())"
    },
    "r": {
     "delete_cmd_postfix": ") ",
     "delete_cmd_prefix": "rm(",
     "library": "var_list.r",
     "varRefreshCmd": "cat(var_dic_list()) "
    }
   },
   "types_to_exclude": [
    "module",
    "function",
    "builtin_function_or_method",
    "instance",
    "_Feature"
   ],
   "window_display": false
  }
 },
 "nbformat": 4,
 "nbformat_minor": 4
}
