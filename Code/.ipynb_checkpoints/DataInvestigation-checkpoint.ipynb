{
 "cells": [
  {
   "cell_type": "markdown",
   "metadata": {},
   "source": [
    "# Data\n",
    "\n",
    "This notebook was created for machine learning research on FeTA2.1 dataset. [\"The dataset facilitates the development of novel machine-learning and deep-learning based multi-class segmentation methods for the quantification of brain development on fetal MRI. The ultimate goal is to capture pathological developmental trajectories by the automated quantification of the prenatal development, for which automated approaches free of observer bias are indispensable.\"](http://neuroimaging.ch/feta) Some brief information about the labels can be found below. For more information, please follow the links in the notes.\n",
    "\n",
    "| dHCP label | Name | Notes |\n",
    "| :- | -: | :-: |\n",
    "| Label 1 | Intracranial space and extra-axial CSF spaces | Cerebrospinal fluid (CSF) is a clear, colorless body fluid found within the tissue that surrounds the brain and spinal cord of all vertebrates.[[1]](https://en.wikipedia.org/wiki/Cerebrospinal_fluid) \n",
    "| Label 2 | Gray Matter | Grey matter (or gray matter) is a major component of the central nervous system, consisting of neuronal cell bodies, neuropil (dendrites and unmyelinated axons), glial cells (astrocytes and oligodendrocytes), synapses, and capillaries.[[2]](https://en.wikipedia.org/wiki/Grey_matter) \n",
    "| Label 3 | White Matter | White matter refers to areas of the central nervous system (CNS) that are mainly made up of myelinated axons, also called tracts. [[3]](https://en.wikipedia.org/wiki/White_matter)\n",
    "| Label 4 | Ventricles | The ventricles are structures that produce cerebrospinal fluid, and transport it around the cranial cavity. [[4]](https://teachmeanatomy.info/neuroanatomy/vessels/ventricles/)\n",
    "| Label 5 | Cerebellum | The cerebellum (which is Latin for “little brain”) is a major structure of the hindbrain that is located near the brainstem. This part of the brain is responsible for coordinating voluntary movements. It is also responsible for a number of functions including motor skills such as balance, coordination, and posture. [[5]](https://www.verywellmind.com/what-is-the-cerebellum-2794964)\n",
    "| Label 6 | Deep gray matter | Grey matter is classed as either superficial or deep. The superficial grey matter, also called brain cortex, is on the outside of the brain. The deep grey matter is made up of neurons from which originate deep nerve fibres. These neurons tend to form clumps of basal nuclei.[[6]](https://www.msif.org/news/2014/12/16/role-deep-grey-matter-brain-plays-ms/)\n",
    "| Label 7 | Brainstem and spinal cord| The brainstem (or brain stem) is the posterior stalk-like part of the brain that connects the cerebrum with the spinal cord. [[7]](https://en.wikipedia.org/wiki/Brainstem)\n",
    "\n",
    "<br><br>\n",
    "\n",
    "![Structure of the brain](notebook_images/brain2.jpg \"Structure of the brain 1.\")\n",
    "<br><p><center>Structure of the brain 1.<a href=\"https://www.kenhub.com/en/library/learning-strategies/parts-of-the-brain-learn-with-diagrams-and-quizzes\">[8]</a></center></p>\n",
    "<br><br>\n",
    "\n",
    "![Structure of the brain](notebook_images/brain3.jpg \"Structure of the brain 2.\")\n",
    "<br><p><center>Structure of the brain 2.<a href=\"https://www.researchgate.net/publication/224283818_Patientoriented_simulation_based_on_Monte_Carlo_algorithm_by_using_MRI_data\">[9]</a></center></p>\n",
    "<br><br>"
   ]
  },
  {
   "cell_type": "code",
   "execution_count": null,
   "metadata": {
    "ExecuteTime": {
     "end_time": "2021-12-01T07:57:29.929850Z",
     "start_time": "2021-12-01T07:57:29.923373Z"
    }
   },
   "outputs": [],
   "source": [
    "import glob\n",
    "import json\n",
    "import os\n",
    "\n",
    "import cv2\n",
    "import matplotlib.colorbar as colorbar\n",
    "import matplotlib.colors as clr\n",
    "import matplotlib.pyplot as plt\n",
    "import nibabel as nib\n",
    "import numpy as np\n",
    "from ipywidgets import fixed, interactive"
   ]
  },
  {
   "cell_type": "code",
   "execution_count": null,
   "metadata": {},
   "outputs": [],
   "source": [
    "def get_subjects(folder):\n",
    "    subjects = glob.glob(os.path.join(folder, 's*'))\n",
    "    subjects = [os.path.basename(x) for x in subjects]\n",
    "    subjects.sort()\n",
    "\n",
    "    return subjects"
   ]
  },
  {
   "cell_type": "code",
   "execution_count": null,
   "metadata": {},
   "outputs": [],
   "source": [
    "def rotate_image(image, angle):\n",
    "    image_center = tuple(np.array(image.shape[1::-1]) / 2)\n",
    "    rot_mat = cv2.getRotationMatrix2D(image_center, angle, 1.0)\n",
    "    result = cv2.warpAffine(image, rot_mat, image.shape[1::-1], flags=cv2.INTER_LINEAR)\n",
    "    \n",
    "    return result"
   ]
  },
  {
   "cell_type": "code",
   "execution_count": null,
   "metadata": {},
   "outputs": [],
   "source": [
    "def get_nii_paths(subject):\n",
    "    suffix_image = \"_rec-mial_T2w.nii.gz\"\n",
    "    suffix_mask = \"_rec-mial_dseg.nii.gz\"\n",
    "    \n",
    "    path_sub = os.path.join(folder, \n",
    "                              subject, \n",
    "                              \"anat\", \n",
    "                              subject)\n",
    "    \n",
    "    path_image = path_sub+suffix_image\n",
    "    \n",
    "    path_mask = path_sub+suffix_mask\n",
    "    \n",
    "    return (path_image, path_mask)"
   ]
  },
  {
   "cell_type": "code",
   "execution_count": null,
   "metadata": {},
   "outputs": [],
   "source": [
    "def convert_to_3D(mask):\n",
    "    zeros = np.zeros((256, 256, 2))\n",
    "    mask_rgb = np.stack((zeros[:, :, 0], zeros[:, :, 1], mask), axis=2).astype(int)\n",
    "    \n",
    "    return mask_rgb"
   ]
  },
  {
   "cell_type": "code",
   "execution_count": null,
   "metadata": {},
   "outputs": [],
   "source": [
    "def change_colors(mask, colors):\n",
    "    mask = mask.astype(int)\n",
    "    labels = set(mask[:,:,2].flatten())\n",
    "        \n",
    "    for label in labels:\n",
    "        mask[mask[:, :, 2] == label] = colors[label]\n",
    "        \n",
    "    return mask"
   ]
  },
  {
   "cell_type": "code",
   "execution_count": null,
   "metadata": {},
   "outputs": [],
   "source": [
    "def draw_image(index, sub_name, orientation):\n",
    "    (path_image, path_mask) = get_nii_paths(sub_name)\n",
    "    \n",
    "    image = nib.load(path_image).get_fdata()\n",
    "    mask = nib.load(path_mask).get_fdata()\n",
    "    \n",
    "    \n",
    "    fig, (ax1, ax2) = plt.subplots(1,2, figsize = (15, 15))\n",
    "    ax1.set_title('Image')\n",
    "    ax2.set_title('Mask')\n",
    "\n",
    "    if orientation == \"coronal\":\n",
    "        image = image[:, index, :]\n",
    "        image = rotate_image(image, 90)\n",
    "        ax1.imshow(image, cmap='gray')\n",
    "        \n",
    "        mask = mask[:, index, :]\n",
    "        mask = rotate_image(mask, 90)\n",
    "        mask_3d = convert_to_3D(mask)\n",
    "        mask_rgb = change_colors(mask_3d, colors)\n",
    "        ax2.imshow(mask_rgb)\n",
    "        ax2.set_xlabel('Labels: ' + str(set.union(*map(set,mask))))\n",
    "        \n",
    "    elif orientation == \"axial\":\n",
    "        image = image[:, :, index]\n",
    "        image = rotate_image(image, 90)\n",
    "        ax1.imshow(image, cmap='gray')\n",
    "        \n",
    "        mask = mask[:, :, index]\n",
    "        mask = rotate_image(mask, 90)\n",
    "        mask_3d = convert_to_3D(mask)\n",
    "        mask_rgb = change_colors(mask_3d, colors)\n",
    "        ax2.imshow(mask_rgb)\n",
    "        ax2.set_xlabel('Labels: ' + str(set.union(*map(set,mask))))\n",
    "\n",
    "    else:\n",
    "        image = image[index, :, :]\n",
    "        image = rotate_image(image, 90)\n",
    "        image = cv2.flip(image, 1)\n",
    "        ax1.imshow(image, cmap='gray')\n",
    "        \n",
    "        mask = mask[index, :, :]\n",
    "        mask = rotate_image(mask, 90)\n",
    "        mask = cv2.flip(mask, 1)\n",
    "        mask_3d = convert_to_3D(mask)\n",
    "        mask_rgb = change_colors(mask_3d, colors)\n",
    "        ax2.imshow(mask_rgb)\n",
    "        ax2.set_xlabel('Labels: ' + str(set.union(*map(set,mask))))\n",
    "    \n",
    "\n",
    "def show_image(subject):\n",
    "    interactive_plot = interactive(draw_image, index=(0, 255),\n",
    "                                   sub_name = fixed(subject),\n",
    "                                   orientation=[\"axial\", \"coronal\", \"sagittal\"])\n",
    "    \n",
    "    output = interactive_plot.children[-1]\n",
    "    display(interactive_plot)"
   ]
  },
  {
   "cell_type": "code",
   "execution_count": null,
   "metadata": {
    "ExecuteTime": {
     "end_time": "2021-12-01T07:59:53.610063Z",
     "start_time": "2021-12-01T07:59:53.606696Z"
    }
   },
   "outputs": [],
   "source": [
    "colors = {0: (0, 0, 0),                       #Black for background.\n",
    "          1: (128,128,0),                     #Olive for CSF.\n",
    "          2: (211,211,211),                   #Light gray for gray matter.\n",
    "          3: (255, 255, 255),                 #White for white matter.\n",
    "          4: (0,0,128),                       #Navy for ventricles.\n",
    "          5: (255,69,0),                      #Orange red for cerebellum. \n",
    "          6: (105,105,105),                   #Dim gray for deep gray matter.\n",
    "          7: (255,255,224),                   #Light yellow for brainstem and spinal cord.\n",
    "         }\n",
    "\n",
    "folder = 'feta_2.1/'\n",
    "\n",
    "subjects = get_subjects(folder)"
   ]
  },
  {
   "cell_type": "code",
   "execution_count": null,
   "metadata": {},
   "outputs": [],
   "source": [
    "show_image(subjects[0])"
   ]
  },
  {
   "cell_type": "code",
   "execution_count": null,
   "metadata": {},
   "outputs": [],
   "source": [
    "\n"
   ]
  },
  {
   "cell_type": "code",
   "execution_count": 65,
   "metadata": {},
   "outputs": [
    {
     "data": {
      "image/png": "[encoded data removed]",
      "text/plain": [
       "<Figure size 432x288 with 1 Axes>"
      ]
     },
     "metadata": {
      "needs_background": "light"
     },
     "output_type": "display_data"
    }
   ],
   "source": [
    "\n",
    "\n",
    "cb_colors = [\"#000000\", \"#808000\", \"#D3D3D3\", \"#FFFFFF\", \"#000080\", \"#FF4500\", \"#696969\", \"#FFFFE0\"]\n",
    "cb_labels = [\"background\", \"CSF\", \"gray matter\", \"white matter\", \n",
    "                    \"ventricles\", \"cerebellum\", \"deep gray matter\", \"spinal cord\"]\n",
    "cmap_ = clr.ListedColormap(cb_colors)\n",
    "\n",
    "\n",
    "fig = plt.figure()\n",
    "ax = fig.add_axes([0.05, 0.80, 0.9, 0.1])\n",
    "\n",
    "cb = colorbar.ColorbarBase(ax, orientation='horizontal',\n",
    "                           cmap=cmap_, norm=plt.Normalize(-0.5, len(cb_colors) - 0.5))\n",
    "\n",
    "\n",
    "cb.set_ticks(range(len(cb_colors)))\n",
    "cb.ax.set_xticklabels(cb_labels, rotation=45)\n",
    "plt.show()"
   ]
  },
  {
   "cell_type": "code",
   "execution_count": null,
   "metadata": {},
   "outputs": [],
   "source": [
    "def draw_colorbar(cb_colors, cb_labels):\n",
    "    cb_colors = [\"#000000\", \"#808000\", \"#D3D3D3\", \"#FFFFFF\", \"#000080\", \"#FF4500\", \"#696969\", \"#FFFFE0\"]\n",
    "    cb_labels = [\"background\", \"CSF\", \"gray matter\", \"white matter\", \n",
    "                        \"ventricles\", \"cerebellum\", \"deep gray matter\", \"brain stem spinal cord\"]\n",
    "    cmap_ = clr.ListedColormap(cb_colors)\n",
    "    \n",
    "    \n",
    "    fig = plt.figure()\n",
    "    ax = fig.add_axes([0.05, 0.80, 0.9, 0.1])\n",
    "    \n",
    "    cb = colorbar.ColorbarBase(ax, orientation='horizontal',\n",
    "                               cmap=cmap_, norm=plt.Normalize(-0.5, len(cb_colors) - 0.5))\n",
    "    \n",
    "    \n",
    "    cb.set_ticks(range(len(cb_colors)))\n",
    "    cb.ax.set_xticklabels(cb_labels, rotation=45)\n",
    "    plt.show()"
   ]
  },
  {
   "cell_type": "code",
   "execution_count": 77,
   "metadata": {},
   "outputs": [],
   "source": [
    "class COLORS():\n",
    "    def __init__(self):\n",
    "        self.colors = {0: [\"background\", '#000000', (0, 0, 0)],                #Black for background.\n",
    "                  1: [\"CSF\", '#808000', (128,128,0)],                          #Olive for CSF.\n",
    "                  2: [\"gray matter\", '#D3D3D3', (211,211,211)],                #Light gray for gray matter.\n",
    "                  3: [\"white matter\", '#FFFFFF', (255, 255, 255)],             #White for white matter.\n",
    "                  4: [\"ventricles\", '#000080', (0,0,128)],                     #Navy for ventricles.\n",
    "                  5: [\"cerebellum\", '#FF4500', (255,69,0)],                    #Orange red for cerebellum. \n",
    "                  6: [\"deep gray matter\", '#696969', (105,105,105)],           #Dim gray for deep gray matter.\n",
    "                  7: [\"brain stem spinal cord\", '#FFFFE0', (255,255,224)],     #Light yellow for brainstem and spinal cord.\n",
    "         }"
   ]
  },
  {
   "cell_type": "code",
   "execution_count": null,
   "metadata": {},
   "outputs": [],
   "source": []
  },
  {
   "cell_type": "code",
   "execution_count": null,
   "metadata": {},
   "outputs": [],
   "source": []
  }
 ],
 "metadata": {
  "kernelspec": {
   "display_name": "cv",
   "language": "python",
   "name": "cv"
  },
  "language_info": {
   "codemirror_mode": {
    "name": "ipython",
    "version": 3
   },
   "file_extension": ".py",
   "mimetype": "text/x-python",
   "name": "python",
   "nbconvert_exporter": "python",
   "pygments_lexer": "ipython3",
   "version": "3.8.10"
  },
  "toc": {
   "base_numbering": 1,
   "nav_menu": {},
   "number_sections": true,
   "sideBar": true,
   "skip_h1_title": false,
   "title_cell": "Table of Contents",
   "title_sidebar": "Contents",
   "toc_cell": false,
   "toc_position": {},
   "toc_section_display": true,
   "toc_window_display": false
  },
  "varInspector": {
   "cols": {
    "lenName": 16,
    "lenType": 16,
    "lenVar": 40
   },
   "kernels_config": {
    "python": {
     "delete_cmd_postfix": "",
     "delete_cmd_prefix": "del ",
     "library": "var_list.py",
     "varRefreshCmd": "print(var_dic_list())"
    },
    "r": {
     "delete_cmd_postfix": ") ",
     "delete_cmd_prefix": "rm(",
     "library": "var_list.r",
     "varRefreshCmd": "cat(var_dic_list()) "
    }
   },
   "oldHeight": 397.85,
   "position": {
    "height": "575.85px",
    "left": "609px",
    "right": "20px",
    "top": "136px",
    "width": "769px"
   },
   "types_to_exclude": [
    "module",
    "function",
    "builtin_function_or_method",
    "instance",
    "_Feature"
   ],
   "varInspector_section_display": "block",
   "window_display": false
  }
 },
 "nbformat": 4,
 "nbformat_minor": 4
}
