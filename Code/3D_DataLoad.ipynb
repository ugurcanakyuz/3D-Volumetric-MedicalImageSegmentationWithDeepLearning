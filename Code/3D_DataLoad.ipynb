{
 "cells": [
  {
   "cell_type": "code",
   "execution_count": 1,
   "metadata": {},
   "outputs": [],
   "source": [
    "import os\n",
    "\n",
    "import matplotlib.pyplot as plt\n",
    "import nibabel as nib\n",
    "import numpy as np\n",
    "import pandas as pd\n",
    "import torch\n",
    "import torchvision\n",
    "from torch.utils.data import Dataset, DataLoader\n",
    "import torchvision.transforms as transforms\n",
    "\n",
    "from modules.Utils import get_file_names"
   ]
  },
  {
   "cell_type": "code",
   "execution_count": 2,
   "metadata": {},
   "outputs": [],
   "source": [
    "class _SplitDataset:\n",
    "    \"\"\"\n",
    "    There are 80 MRI images of 80 subjects. Gestational ages of subjects ranges 20 weeks to 35 weeks.\n",
    "    There are Pathological and Neurotypical subjects.\n",
    "    First 40 MRI images (sub-001 - sub-040) constructed by mialSRTK method.\n",
    "    Other 40 MRI images (sub-041 - sub-080) constructed by simpleIRTK method.\n",
    "    \n",
    "    Data distribution.\n",
    "    ------------------\n",
    "    mialSRTK reconstruction:\n",
    "        * Gestational age <=28 (28 choosed intuitively for diversity gestational weeks and smoother age disturbition)\n",
    "            - Neurotypical: 7 MRI images.   [train:5, val:1, test:1]\n",
    "            - Pathological: 20 MRI images.  [train:16, val:2, test:2]\n",
    "        * Gestational age > 28\n",
    "            - Neurotypical: 8 MRI images.   [train:6, val:1, test:1]\n",
    "            - Pathological: 5 MRI images.   [train:3, val:1, test:1]\n",
    "\n",
    "    simpleIRTK reconstruction:\n",
    "        * Gestational age <=28\n",
    "            - Neurotypical: 7 MRI images.   [train:5, val:1, test:1]\n",
    "            - Pathological: 17 MRI images.  [train:13, val:2, test:2]\n",
    "        * Gestational age > 28\n",
    "            - Neurotypical: 11 MRI images.  [train:9, val:1, test:1]\n",
    "            - Pathological: 5 MRI images.   [train:3, val:1, test:1]\n",
    "    \"\"\"\n",
    "\n",
    "    def __init__(self, meta_data):\n",
    "        mial_srtk = meta_data[:40]\n",
    "        simple_irtk = meta_data[40:]\n",
    "\n",
    "        self.index1 = mial_srtk[\n",
    "            (mial_srtk[\"Gestational age\"] <= 28) & (mial_srtk[\"Pathology\"] == \"Neurotypical\")].index.to_list()\n",
    "        self.index2 = mial_srtk[\n",
    "            (mial_srtk[\"Gestational age\"] <= 28) & (mial_srtk[\"Pathology\"] == \"Pathological\")].index.to_list()\n",
    "\n",
    "        self.index3 = mial_srtk[\n",
    "            (mial_srtk[\"Gestational age\"] > 28) & (mial_srtk[\"Pathology\"] == \"Neurotypical\")].index.to_list()\n",
    "        self.index4 = mial_srtk[\n",
    "            (mial_srtk[\"Gestational age\"] > 28) & (mial_srtk[\"Pathology\"] == \"Pathological\")].index.to_list()\n",
    "\n",
    "        self.index5 = simple_irtk[\n",
    "            (simple_irtk[\"Gestational age\"] <= 28) & (simple_irtk[\"Pathology\"] == \"Neurotypical\")].index.to_list()\n",
    "        self.index6 = simple_irtk[\n",
    "            (simple_irtk[\"Gestational age\"] <= 28) & (simple_irtk[\"Pathology\"] == \"Pathological\")].index.to_list()\n",
    "\n",
    "        self.index7 = simple_irtk[\n",
    "            (simple_irtk[\"Gestational age\"] > 28) & (simple_irtk[\"Pathology\"] == \"Neurotypical\")].index.to_list()\n",
    "        self.index8 = simple_irtk[\n",
    "            (simple_irtk[\"Gestational age\"] > 28) & (simple_irtk[\"Pathology\"] == \"Pathological\")].index.to_list()\n",
    "\n",
    "    def get_train_indexes(self):\n",
    "        train = [self.index1[:5], self.index2[:16], self.index3[:6], self.index4[:3], self.index5[:5], self.index6[:13],\n",
    "                 self.index7[:9], self.index8[:3]]\n",
    "\n",
    "        train = [item for sub_arr in train for item in sub_arr]\n",
    "\n",
    "        return sorted(train)\n",
    "\n",
    "    def get_val_indexes(self):\n",
    "        validation = [self.index1[5:6], self.index2[16:18], self.index3[6:7], self.index4[3:4], self.index5[5:6],\n",
    "                      self.index6[13:15], self.index7[9:10], self.index8[3:4]]\n",
    "\n",
    "        validation = [item for sub_arr in validation for item in sub_arr]\n",
    "\n",
    "        return sorted(validation)\n",
    "\n",
    "    def get_test_indexes(self):\n",
    "        test = [self.index1[6:], self.index2[18:], self.index3[7:], self.index4[4:], self.index5[6:], self.index6[15:],\n",
    "                self.index7[10:], self.index8[4:]]\n",
    "\n",
    "        test = [item for sub_arr in test for item in sub_arr]\n",
    "\n",
    "        return sorted(test)\n"
   ]
  },
  {
   "cell_type": "code",
   "execution_count": 3,
   "metadata": {},
   "outputs": [],
   "source": [
    "class FeTADataSet(Dataset):\n",
    "    def __init__(self, set_=\"train\", path=\"feta_2.1\", transform=None):\n",
    "        \"\"\"\"\"\"\n",
    "\n",
    "        count_train = 70  # First 70 MRI image consist of 40 Pathological and 20 Neurotypical.\n",
    "        self.__path_base = path\n",
    "        self.__transform = transform\n",
    "\n",
    "        self.meta_data = pd.read_csv(os.path.join(self.__path_base, \"participants.tsv\"), sep=\"\\t\")\n",
    "        self.__paths_file = get_file_names(self.__path_base)\n",
    "\n",
    "        # Images below might have bad qualities\n",
    "        # \"sub-007\" and \"sub-009\"\n",
    "        split_data = _SplitDataset(self.meta_data)\n",
    "        \n",
    "        if set_ == \"train\":\n",
    "            train_indexes = split_data.get_train_indexes()\n",
    "            self.meta_data = self.meta_data.iloc[train_indexes]\n",
    "        elif set_ == \"val\":\n",
    "            val_indexes = split_data.get_val_indexes()\n",
    "            self.meta_data = self.meta_data.iloc[val_indexes]\n",
    "        else:\n",
    "            test_indexes = split_data.get_test_indexes()\n",
    "            self.meta_data = self.meta_data.iloc[test_indexes]\n",
    "            \n",
    "        self.meta_data = self.meta_data.reset_index().drop(\"index\", axis=1)\n",
    "        \n",
    "        \n",
    "    def __getitem__(self, index):\n",
    "        \"\"\"\"\"\"\n",
    "        if isinstance(index, int):\n",
    "            sub_id = self.meta_data.participant_id[index]\n",
    "            mri_image, mri_mask = self.__get_data(sub_id)            \n",
    "            \n",
    "            if self.__transform:\n",
    "                mri_image = mri_image.view(1, 256, 256, 256)\n",
    "                mri_image = self.__transform(mri_image)\n",
    "                mri_image = mri_image.view(256, 256, 256)\n",
    "                \n",
    "            return mri_image, mri_mask\n",
    "\n",
    "        elif isinstance(index, slice):\n",
    "            assert index.stop <= self.meta_data.shape[0], \"Index out of range.\"\n",
    "            \n",
    "            sub_ids = self.meta_data.participant_id[index].tolist()\n",
    "            mri_images = torch.Tensor()\n",
    "            mri_masks = torch.Tensor()\n",
    "\n",
    "            for sub_id in sub_ids:\n",
    "                mri_image, mri_mask = self.__get_data(sub_id)\n",
    "                mri_image = mri_image.view(1, *mri_image.shape)\n",
    "                mri_mask = mri_mask.view(1, *mri_mask.shape)\n",
    "\n",
    "                mri_images = torch.cat([mri_image, mri_images], 0)\n",
    "                mri_masks = torch.cat([mri_mask, mri_masks], 0)\n",
    "\n",
    "            if self.__transform:\n",
    "                mri_images = self.__transform(mri_images)\n",
    "\n",
    "            return tuple(zip(mri_images, mri_masks))    \n",
    "\n",
    "    def __len__(self):\n",
    "        return self.meta_data.shape[0]\n",
    "    \n",
    "    def __get_data(self, sub_id):\n",
    "        data = self.__paths_file[sub_id]\n",
    "        path_image, path_mask = data[0], data[1]\n",
    "\n",
    "        mri_image = nib.load(path_image).get_fdata()\n",
    "        mri_image = torch.Tensor(mri_image)\n",
    "\n",
    "        mri_mask = nib.load(path_mask).get_fdata()\n",
    "        mri_mask = torch.Tensor(mri_mask)\n",
    "\n",
    "        return mri_image, mri_mask"
   ]
  },
  {
   "cell_type": "code",
   "execution_count": null,
   "metadata": {},
   "outputs": [],
   "source": [
    "train_dataset = FeTADataSet(train=True)\n",
    "test_dataset = FeTADataSet(train=False)\n",
    "\n",
    "train_loader = DataLoader(dataset=train_dataset,\n",
    "                         batch_size=4,\n",
    "                         shuffle=True,\n",
    "                         num_workers=2)\n",
    "\n",
    "test_loader = DataLoader(dataset=test_dataset,\n",
    "                         batch_size=2,\n",
    "                         shuffle=True,\n",
    "                         num_workers=2)"
   ]
  },
  {
   "cell_type": "code",
   "execution_count": null,
   "metadata": {},
   "outputs": [],
   "source": [
    "images, masks = train_dataset[0][0], train_dataset[0][1]"
   ]
  },
  {
   "cell_type": "code",
   "execution_count": null,
   "metadata": {
    "scrolled": false
   },
   "outputs": [],
   "source": [
    "print(images[128, 128, :])"
   ]
  },
  {
   "cell_type": "code",
   "execution_count": null,
   "metadata": {},
   "outputs": [],
   "source": [
    "print(masks[128, 128, :])"
   ]
  },
  {
   "cell_type": "code",
   "execution_count": null,
   "metadata": {},
   "outputs": [],
   "source": [
    "meta_data = pd.read_csv(os.path.join(\"../Code/feta_2.1/participants.tsv\"), sep=\"\\t\")"
   ]
  },
  {
   "cell_type": "markdown",
   "metadata": {},
   "source": [
    "  "
   ]
  },
  {
   "cell_type": "code",
   "execution_count": null,
   "metadata": {},
   "outputs": [],
   "source": [
    "import torchio as tio\n",
    "znorm_transform = tio.ZNormalization(masking_method=tio.ZNormalization.mean)\n",
    "\n",
    "transform_ = transforms.Compose([tio.ZNormalization(masking_method=tio.ZNormalization.mean)])\n",
    "\n",
    "train_dataset_transform = FeTADataSet(train=True, transform=transform_)\n"
   ]
  },
  {
   "cell_type": "code",
   "execution_count": null,
   "metadata": {},
   "outputs": [],
   "source": [
    "images_t, masks_t = train_dataset_transform[0][0], train_dataset_transform[0][1]"
   ]
  },
  {
   "cell_type": "code",
   "execution_count": null,
   "metadata": {},
   "outputs": [],
   "source": [
    "print(images_t[128, 128, :].shape)"
   ]
  },
  {
   "cell_type": "code",
   "execution_count": null,
   "metadata": {},
   "outputs": [],
   "source": [
    "print(masks_t[128, 128, :].shape)"
   ]
  },
  {
   "cell_type": "code",
   "execution_count": null,
   "metadata": {},
   "outputs": [],
   "source": []
  },
  {
   "cell_type": "code",
   "execution_count": null,
   "metadata": {},
   "outputs": [],
   "source": []
  }
 ],
 "metadata": {
  "kernelspec": {
   "display_name": "cv4py3",
   "language": "python",
   "name": "cv4py3"
  },
  "language_info": {
   "codemirror_mode": {
    "name": "ipython",
    "version": 3
   },
   "file_extension": ".py",
   "mimetype": "text/x-python",
   "name": "python",
   "nbconvert_exporter": "python",
   "pygments_lexer": "ipython3",
   "version": "3.8.10"
  },
  "toc": {
   "base_numbering": 1,
   "nav_menu": {},
   "number_sections": true,
   "sideBar": true,
   "skip_h1_title": false,
   "title_cell": "Table of Contents",
   "title_sidebar": "Contents",
   "toc_cell": false,
   "toc_position": {},
   "toc_section_display": true,
   "toc_window_display": false
  },
  "varInspector": {
   "cols": {
    "lenName": 16,
    "lenType": 16,
    "lenVar": 40
   },
   "kernels_config": {
    "python": {
     "delete_cmd_postfix": "",
     "delete_cmd_prefix": "del ",
     "library": "var_list.py",
     "varRefreshCmd": "print(var_dic_list())"
    },
    "r": {
     "delete_cmd_postfix": ") ",
     "delete_cmd_prefix": "rm(",
     "library": "var_list.r",
     "varRefreshCmd": "cat(var_dic_list()) "
    }
   },
   "oldHeight": 330.85,
   "position": {
    "height": "72px",
    "left": "1051px",
    "right": "20px",
    "top": "130px",
    "width": "721px"
   },
   "types_to_exclude": [
    "module",
    "function",
    "builtin_function_or_method",
    "instance",
    "_Feature"
   ],
   "varInspector_section_display": "none",
   "window_display": false
  }
 },
 "nbformat": 4,
 "nbformat_minor": 4
}
