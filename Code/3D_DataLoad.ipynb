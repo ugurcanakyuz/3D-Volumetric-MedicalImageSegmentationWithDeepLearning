{
 "cells": [
  {
   "cell_type": "code",
   "execution_count": 1,
   "metadata": {},
   "outputs": [],
   "source": [
    "import os\n",
    "\n",
    "import matplotlib.pyplot as plt\n",
    "import nibabel as nib\n",
    "import numpy as np\n",
    "import pandas as pd\n",
    "import torch\n",
    "import torchvision\n",
    "from torch.utils.data import Dataset, DataLoader\n",
    "import torchvision.transforms as transforms\n",
    "\n",
    "from modules.Utils import get_file_names"
   ]
  },
  {
   "cell_type": "code",
   "execution_count": null,
   "metadata": {},
   "outputs": [],
   "source": [
    "pd.set_option('display.max_rows', 500)"
   ]
  },
  {
   "cell_type": "code",
   "execution_count": 2,
   "metadata": {},
   "outputs": [],
   "source": [
    "meta_data = pd.read_csv(os.path.join(\"../Code/feta_2.1/participants.tsv\"), sep=\"\\t\")"
   ]
  },
  {
   "cell_type": "code",
   "execution_count": null,
   "metadata": {},
   "outputs": [],
   "source": [
    "data = meta_data.sort_values(by=\"Gestational age\")"
   ]
  },
  {
   "cell_type": "code",
   "execution_count": null,
   "metadata": {
    "scrolled": false
   },
   "outputs": [],
   "source": [
    "data.drop(data[data[\"participant_id\"]==\"sub-007\"].index, inplace=True)\n",
    "data.drop(data[data[\"participant_id\"]==\"sub-009\"].index, inplace=True)"
   ]
  },
  {
   "cell_type": "code",
   "execution_count": null,
   "metadata": {},
   "outputs": [],
   "source": [
    "data1 = data[data[\"Gestational age\"]<24.9]#.sort_values(by=\"participant_id\").reset_index(drop=True)"
   ]
  },
  {
   "cell_type": "code",
   "execution_count": null,
   "metadata": {},
   "outputs": [],
   "source": [
    "data2 = data[(24.9<=data[\"Gestational age\"]) & (data[\"Gestational age\"]<29.8)]\n",
    "#.sort_values(by=\"participant_id\").reset_index(drop=True)"
   ]
  },
  {
   "cell_type": "code",
   "execution_count": null,
   "metadata": {},
   "outputs": [],
   "source": [
    "data3 = data[29.8<=data[\"Gestational age\"]]#.sort_values(by=\"participant_id\").reset_index(drop=True)"
   ]
  },
  {
   "cell_type": "code",
   "execution_count": null,
   "metadata": {},
   "outputs": [],
   "source": []
  },
  {
   "cell_type": "code",
   "execution_count": null,
   "metadata": {},
   "outputs": [],
   "source": [
    "from modules.Dataset import FeTADataSet"
   ]
  },
  {
   "cell_type": "code",
   "execution_count": null,
   "metadata": {},
   "outputs": [],
   "source": [
    "data = FeTADataSet(\"test\", path=\"data2\")"
   ]
  },
  {
   "cell_type": "code",
   "execution_count": 7,
   "metadata": {},
   "outputs": [],
   "source": [
    "files = get_file_names(\"data2\")"
   ]
  },
  {
   "cell_type": "code",
   "execution_count": 23,
   "metadata": {},
   "outputs": [
    {
     "name": "stdout",
     "output_type": "stream",
     "text": [
      "sub-001 ['data2/sub-001/anat/sub-001_rec-mial_T2w.nii.gz', 'data2/sub-001/anat/sub-001_rec-mial_dseg.nii.gz']\n",
      "sub-002 ['data2/sub-002/anat/sub-002_rec-mial_T2w.nii.gz', 'data2/sub-002/anat/sub-002_rec-mial_dseg.nii.gz']\n",
      "sub-003 ['data2/sub-003/anat/sub-003_rec-mial_T2w.nii.gz', 'data2/sub-003/anat/sub-003_rec-mial_dseg.nii.gz']\n",
      "sub-004 ['data2/sub-004/anat/sub-004_rec-mial_T2w.nii.gz', 'data2/sub-004/anat/sub-004_rec-mial_dseg.nii.gz']\n",
      "sub-005 ['data2/sub-005/anat/sub-005_rec-mial_T2w.nii.gz', 'data2/sub-005/anat/sub-005_rec-mial_dseg.nii.gz']\n",
      "sub-006 ['data2/sub-006/anat/sub-006_rec-mial_T2w.nii.gz', 'data2/sub-006/anat/sub-006_rec-mial_dseg.nii.gz']\n",
      "sub-007 ['data2/sub-007/anat/sub-007_rec-mial_T2w.nii.gz', 'data2/sub-007/anat/sub-007_rec-mial_dseg.nii.gz']\n",
      "sub-008 ['data2/sub-008/anat/sub-008_rec-mial_T2w.nii.gz', 'data2/sub-008/anat/sub-008_rec-mial_dseg.nii.gz']\n",
      "sub-009 ['data2/sub-009/anat/sub-009_rec-mial_T2w.nii.gz', 'data2/sub-009/anat/sub-009_rec-mial_dseg.nii.gz']\n",
      "sub-010 ['data2/sub-010/anat/sub-010_rec-mial_T2w.nii.gz', 'data2/sub-010/anat/sub-010_rec-mial_dseg.nii.gz']\n",
      "sub-011 ['data2/sub-011/anat/sub-011_rec-mial_T2w.nii.gz', 'data2/sub-011/anat/sub-011_rec-mial_dseg.nii.gz']\n",
      "sub-012 ['data2/sub-012/anat/sub-012_rec-mial_T2w.nii.gz', 'data2/sub-012/anat/sub-012_rec-mial_dseg.nii.gz']\n",
      "sub-013 ['data2/sub-013/anat/sub-013_rec-mial_T2w.nii.gz', 'data2/sub-013/anat/sub-013_rec-mial_dseg.nii.gz']\n",
      "sub-014 ['data2/sub-014/anat/sub-014_rec-mial_T2w.nii.gz', 'data2/sub-014/anat/sub-014_rec-mial_dseg.nii.gz']\n",
      "sub-015 ['data2/sub-015/anat/sub-015_rec-mial_T2w.nii.gz', 'data2/sub-015/anat/sub-015_rec-mial_dseg.nii.gz']\n",
      "sub-016 ['data2/sub-016/anat/sub-016_rec-mial_T2w.nii.gz', 'data2/sub-016/anat/sub-016_rec-mial_dseg.nii.gz']\n",
      "sub-017 ['data2/sub-017/anat/sub-017_rec-mial_T2w.nii.gz', 'data2/sub-017/anat/sub-017_rec-mial_dseg.nii.gz']\n",
      "sub-018 ['data2/sub-018/anat/sub-018_rec-mial_T2w.nii.gz', 'data2/sub-018/anat/sub-018_rec-mial_dseg.nii.gz']\n",
      "sub-019 ['data2/sub-019/anat/sub-019_rec-mial_T2w.nii.gz', 'data2/sub-019/anat/sub-019_rec-mial_dseg.nii.gz']\n",
      "sub-020 ['data2/sub-020/anat/sub-020_rec-mial_T2w.nii.gz', 'data2/sub-020/anat/sub-020_rec-mial_dseg.nii.gz']\n",
      "sub-021 ['data2/sub-021/anat/sub-021_rec-mial_T2w.nii.gz', 'data2/sub-021/anat/sub-021_rec-mial_dseg.nii.gz']\n",
      "sub-022 ['data2/sub-022/anat/sub-022_rec-mial_T2w.nii.gz', 'data2/sub-022/anat/sub-022_rec-mial_dseg.nii.gz']\n",
      "sub-023 ['data2/sub-023/anat/sub-023_rec-mial_T2w.nii.gz', 'data2/sub-023/anat/sub-023_rec-mial_dseg.nii.gz']\n",
      "sub-024 ['data2/sub-024/anat/sub-024_rec-mial_T2w.nii.gz', 'data2/sub-024/anat/sub-024_rec-mial_dseg.nii.gz']\n",
      "sub-025 ['data2/sub-025/anat/sub-025_rec-mial_T2w.nii.gz', 'data2/sub-025/anat/sub-025_rec-mial_dseg.nii.gz']\n",
      "sub-026 ['data2/sub-026/anat/sub-026_rec-mial_T2w.nii.gz', 'data2/sub-026/anat/sub-026_rec-mial_dseg.nii.gz']\n",
      "sub-027 ['data2/sub-027/anat/sub-027_rec-mial_T2w.nii.gz', 'data2/sub-027/anat/sub-027_rec-mial_dseg.nii.gz']\n",
      "sub-028 ['data2/sub-028/anat/sub-028_rec-mial_T2w.nii.gz', 'data2/sub-028/anat/sub-028_rec-mial_dseg.nii.gz']\n",
      "sub-029 ['data2/sub-029/anat/sub-029_rec-mial_T2w.nii.gz', 'data2/sub-029/anat/sub-029_rec-mial_dseg.nii.gz']\n",
      "sub-030 ['data2/sub-030/anat/sub-030_rec-mial_T2w.nii.gz', 'data2/sub-030/anat/sub-030_rec-mial_dseg.nii.gz']\n",
      "sub-031 ['data2/sub-031/anat/sub-031_rec-mial_T2w.nii.gz', 'data2/sub-031/anat/sub-031_rec-mial_dseg.nii.gz']\n",
      "sub-032 ['data2/sub-032/anat/sub-032_rec-mial_T2w.nii.gz', 'data2/sub-032/anat/sub-032_rec-mial_dseg.nii.gz']\n",
      "sub-033 ['data2/sub-033/anat/sub-033_rec-mial_T2w.nii.gz', 'data2/sub-033/anat/sub-033_rec-mial_dseg.nii.gz']\n",
      "sub-034 ['data2/sub-034/anat/sub-034_rec-mial_T2w.nii.gz', 'data2/sub-034/anat/sub-034_rec-mial_dseg.nii.gz']\n",
      "sub-035 ['data2/sub-035/anat/sub-035_rec-mial_T2w.nii.gz', 'data2/sub-035/anat/sub-035_rec-mial_dseg.nii.gz']\n",
      "sub-036 ['data2/sub-036/anat/sub-036_rec-mial_T2w.nii.gz', 'data2/sub-036/anat/sub-036_rec-mial_dseg.nii.gz']\n",
      "sub-037 ['data2/sub-037/anat/sub-037_rec-mial_T2w.nii.gz', 'data2/sub-037/anat/sub-037_rec-mial_dseg.nii.gz']\n",
      "sub-038 ['data2/sub-038/anat/sub-038_rec-mial_T2w.nii.gz', 'data2/sub-038/anat/sub-038_rec-mial_dseg.nii.gz']\n",
      "sub-039 ['data2/sub-039/anat/sub-039_rec-mial_T2w.nii.gz', 'data2/sub-039/anat/sub-039_rec-mial_dseg.nii.gz']\n",
      "sub-040 ['data2/sub-040/anat/sub-040_rec-mial_T2w.nii.gz', 'data2/sub-040/anat/sub-040_rec-mial_dseg.nii.gz']\n",
      "sub-041 ['data2/sub-041/anat/sub-041_rec-irtk_T2w.nii.gz', 'data2/sub-041/anat/sub-041_rec-irtk_dseg.nii.gz']\n",
      "sub-042 ['data2/sub-042/anat/sub-042_rec-irtk_T2w.nii.gz', 'data2/sub-042/anat/sub-042_rec-irtk_dseg.nii.gz']\n",
      "sub-043 ['data2/sub-043/anat/sub-043_rec-irtk_T2w.nii.gz', 'data2/sub-043/anat/sub-043_rec-irtk_dseg.nii.gz']\n",
      "sub-044 ['data2/sub-044/anat/sub-044_rec-irtk_T2w.nii.gz', 'data2/sub-044/anat/sub-044_rec-irtk_dseg.nii.gz']\n",
      "sub-045 ['data2/sub-045/anat/sub-045_rec-irtk_T2w.nii.gz', 'data2/sub-045/anat/sub-045_rec-irtk_dseg.nii.gz']\n",
      "sub-046 ['data2/sub-046/anat/sub-046_rec-irtk_T2w.nii.gz', 'data2/sub-046/anat/sub-046_rec-irtk_dseg.nii.gz']\n",
      "sub-047 ['data2/sub-047/anat/sub-047_rec-irtk_T2w.nii.gz', 'data2/sub-047/anat/sub-047_rec-irtk_dseg.nii.gz']\n",
      "sub-048 ['data2/sub-048/anat/sub-048_rec-irtk_T2w.nii.gz', 'data2/sub-048/anat/sub-048_rec-irtk_dseg.nii.gz']\n",
      "sub-049 ['data2/sub-049/anat/sub-049_rec-irtk_T2w.nii.gz', 'data2/sub-049/anat/sub-049_rec-irtk_dseg.nii.gz']\n",
      "sub-050 ['data2/sub-050/anat/sub-050_rec-irtk_T2w.nii.gz', 'data2/sub-050/anat/sub-050_rec-irtk_dseg.nii.gz']\n",
      "sub-051 ['data2/sub-051/anat/sub-051_rec-irtk_T2w.nii.gz', 'data2/sub-051/anat/sub-051_rec-irtk_dseg.nii.gz']\n",
      "sub-052 ['data2/sub-052/anat/sub-052_rec-irtk_T2w.nii.gz', 'data2/sub-052/anat/sub-052_rec-irtk_dseg.nii.gz']\n",
      "sub-053 ['data2/sub-053/anat/sub-053_rec-irtk_T2w.nii.gz', 'data2/sub-053/anat/sub-053_rec-irtk_dseg.nii.gz']\n",
      "sub-054 ['data2/sub-054/anat/sub-054_rec-irtk_T2w.nii.gz', 'data2/sub-054/anat/sub-054_rec-irtk_dseg.nii.gz']\n",
      "sub-055 ['data2/sub-055/anat/sub-055_rec-irtk_T2w.nii.gz', 'data2/sub-055/anat/sub-055_rec-irtk_dseg.nii.gz']\n",
      "sub-056 ['data2/sub-056/anat/sub-056_rec-irtk_T2w.nii.gz', 'data2/sub-056/anat/sub-056_rec-irtk_dseg.nii.gz']\n",
      "sub-057 ['data2/sub-057/anat/sub-057_rec-irtk_T2w.nii.gz', 'data2/sub-057/anat/sub-057_rec-irtk_dseg.nii.gz']\n",
      "sub-058 ['data2/sub-058/anat/sub-058_rec-irtk_T2w.nii.gz', 'data2/sub-058/anat/sub-058_rec-irtk_dseg.nii.gz']\n",
      "sub-059 ['data2/sub-059/anat/sub-059_rec-irtk_T2w.nii.gz', 'data2/sub-059/anat/sub-059_rec-irtk_dseg.nii.gz']\n",
      "sub-060 ['data2/sub-060/anat/sub-060_rec-irtk_T2w.nii.gz', 'data2/sub-060/anat/sub-060_rec-irtk_dseg.nii.gz']\n",
      "sub-061 ['data2/sub-061/anat/sub-061_rec-irtk_T2w.nii.gz', 'data2/sub-061/anat/sub-061_rec-irtk_dseg.nii.gz']\n",
      "sub-062 ['data2/sub-062/anat/sub-062_rec-irtk_T2w.nii.gz', 'data2/sub-062/anat/sub-062_rec-irtk_dseg.nii.gz']\n",
      "sub-063 ['data2/sub-063/anat/sub-063_rec-irtk_T2w.nii.gz', 'data2/sub-063/anat/sub-063_rec-irtk_dseg.nii.gz']\n",
      "sub-064 ['data2/sub-064/anat/sub-064_rec-irtk_T2w.nii.gz', 'data2/sub-064/anat/sub-064_rec-irtk_dseg.nii.gz']\n",
      "sub-065 ['data2/sub-065/anat/sub-065_rec-irtk_T2w.nii.gz', 'data2/sub-065/anat/sub-065_rec-irtk_dseg.nii.gz']\n",
      "sub-066 ['data2/sub-066/anat/sub-066_rec-irtk_T2w.nii.gz', 'data2/sub-066/anat/sub-066_rec-irtk_dseg.nii.gz']\n",
      "sub-067 ['data2/sub-067/anat/sub-067_rec-irtk_T2w.nii.gz', 'data2/sub-067/anat/sub-067_rec-irtk_dseg.nii.gz']\n",
      "sub-068 ['data2/sub-068/anat/sub-068_rec-irtk_T2w.nii.gz', 'data2/sub-068/anat/sub-068_rec-irtk_dseg.nii.gz']\n",
      "sub-069 ['data2/sub-069/anat/sub-069_rec-irtk_T2w.nii.gz', 'data2/sub-069/anat/sub-069_rec-irtk_dseg.nii.gz']\n",
      "sub-070 ['data2/sub-070/anat/sub-070_rec-irtk_T2w.nii.gz', 'data2/sub-070/anat/sub-070_rec-irtk_dseg.nii.gz']\n",
      "sub-071 ['data2/sub-071/anat/sub-071_rec-irtk_T2w.nii.gz', 'data2/sub-071/anat/sub-071_rec-irtk_dseg.nii.gz']\n",
      "sub-072 ['data2/sub-072/anat/sub-072_rec-irtk_T2w.nii.gz', 'data2/sub-072/anat/sub-072_rec-irtk_dseg.nii.gz']\n",
      "sub-073 ['data2/sub-073/anat/sub-073_rec-irtk_T2w.nii.gz', 'data2/sub-073/anat/sub-073_rec-irtk_dseg.nii.gz']\n",
      "sub-074 ['data2/sub-074/anat/sub-074_rec-irtk_T2w.nii.gz', 'data2/sub-074/anat/sub-074_rec-irtk_dseg.nii.gz']\n",
      "sub-075 ['data2/sub-075/anat/sub-075_rec-irtk_T2w.nii.gz', 'data2/sub-075/anat/sub-075_rec-irtk_dseg.nii.gz']\n",
      "sub-076 ['data2/sub-076/anat/sub-076_rec-irtk_T2w.nii.gz', 'data2/sub-076/anat/sub-076_rec-irtk_dseg.nii.gz']\n",
      "sub-077 ['data2/sub-077/anat/sub-077_rec-irtk_T2w.nii.gz', 'data2/sub-077/anat/sub-077_rec-irtk_dseg.nii.gz']\n",
      "sub-078 ['data2/sub-078/anat/sub-078_rec-irtk_T2w.nii.gz', 'data2/sub-078/anat/sub-078_rec-irtk_dseg.nii.gz']\n"
     ]
    },
    {
     "name": "stdout",
     "output_type": "stream",
     "text": [
      "sub-079 ['data2/sub-079/anat/sub-079_rec-irtk_T2w.nii.gz', 'data2/sub-079/anat/sub-079_rec-irtk_dseg.nii.gz']\n",
      "sub-080 ['data2/sub-080/anat/sub-080_rec-irtk_T2w.nii.gz', 'data2/sub-080/anat/sub-080_rec-irtk_dseg.nii.gz']\n"
     ]
    }
   ],
   "source": [
    "x, y, z = [], [], []\n",
    "\n",
    "for sub_id, paths in files.items():\n",
    "    print(sub_id, paths)\n",
    "    mri_image_shape = nib.load(paths[0]).shape\n",
    "    x.append(mri_image_shape[0])\n",
    "    y.append(mri_image_shape[1])\n",
    "    z.append(mri_image_shape[2])"
   ]
  },
  {
   "cell_type": "code",
   "execution_count": null,
   "metadata": {},
   "outputs": [],
   "source": []
  },
  {
   "cell_type": "code",
   "execution_count": null,
   "metadata": {},
   "outputs": [],
   "source": []
  }
 ],
 "metadata": {
  "kernelspec": {
   "display_name": "pytorch",
   "language": "python",
   "name": "pytorch"
  },
  "language_info": {
   "codemirror_mode": {
    "name": "ipython",
    "version": 3
   },
   "file_extension": ".py",
   "mimetype": "text/x-python",
   "name": "python",
   "nbconvert_exporter": "python",
   "pygments_lexer": "ipython3",
   "version": "3.8.10"
  },
  "toc": {
   "base_numbering": 1,
   "nav_menu": {},
   "number_sections": true,
   "sideBar": true,
   "skip_h1_title": false,
   "title_cell": "Table of Contents",
   "title_sidebar": "Contents",
   "toc_cell": false,
   "toc_position": {},
   "toc_section_display": true,
   "toc_window_display": false
  },
  "varInspector": {
   "cols": {
    "lenName": 16,
    "lenType": 16,
    "lenVar": 40
   },
   "kernels_config": {
    "python": {
     "delete_cmd_postfix": "",
     "delete_cmd_prefix": "del ",
     "library": "var_list.py",
     "varRefreshCmd": "print(var_dic_list())"
    },
    "r": {
     "delete_cmd_postfix": ") ",
     "delete_cmd_prefix": "rm(",
     "library": "var_list.r",
     "varRefreshCmd": "cat(var_dic_list()) "
    }
   },
   "oldHeight": 330.85,
   "position": {
    "height": "352.85px",
    "left": "1051px",
    "right": "20px",
    "top": "130px",
    "width": "721px"
   },
   "types_to_exclude": [
    "module",
    "function",
    "builtin_function_or_method",
    "instance",
    "_Feature"
   ],
   "varInspector_section_display": "block",
   "window_display": false
  }
 },
 "nbformat": 4,
 "nbformat_minor": 4
}
