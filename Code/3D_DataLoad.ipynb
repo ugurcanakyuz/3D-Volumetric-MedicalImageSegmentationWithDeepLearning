{
 "cells": [
  {
   "cell_type": "code",
   "execution_count": 1,
   "metadata": {},
   "outputs": [],
   "source": [
    "import os\n",
    "\n",
    "import matplotlib.pyplot as plt\n",
    "import nibabel as nib\n",
    "import numpy as np\n",
    "import pandas as pd\n",
    "import torch\n",
    "import torchvision\n",
    "from torch.utils.data import Dataset, DataLoader\n",
    "import torchvision.transforms as transforms\n",
    "\n",
    "from modules.Utils import get_file_names"
   ]
  },
  {
   "cell_type": "code",
   "execution_count": 2,
   "metadata": {},
   "outputs": [],
   "source": [
    "class FeTADataSet(Dataset):\n",
    "    # def __init__(self, quality=[], labels=[], pathologies=[], load_3d=None):\n",
    "    def __init__(self, path=\"feta_2.1\", train=True, transform=None, pathology=\"all\"):\n",
    "        \"\"\"\"\"\"\n",
    "\n",
    "        count_train = 70  # First 70 MRI image consist of 40 Pathological and 20 Neurotypical.\n",
    "        self.__path_base = path\n",
    "        self.__train = train\n",
    "        self.__transform = transform\n",
    "\n",
    "        self.meta_data = pd.read_csv(os.path.join(self.__path_base, \"participants.tsv\"), sep=\"\\t\")\n",
    "        self.__paths_file = get_file_names(self.__path_base)\n",
    "\n",
    "        # Images below might have bad qualities\n",
    "        # self.meta_data = self.meta_data.drop(index=self.meta_data[\n",
    "        # self.meta_data[\"participant_id\"]==\"sub-007\"\n",
    "        # ].index)\n",
    "        # self.meta_data = self.meta_data.drop(index=self.meta_data[\n",
    "        # self.meta_data[\"participant_id\"]==\"sub-009\"\n",
    "        # ].index)\n",
    "\n",
    "        if pathology == \"Pathological\":\n",
    "            self.meta_data = self.meta_data[self.meta_data.Pathology == \"Pathological\"]\n",
    "        elif pathology == \"Neurotypical\":\n",
    "            self.meta_data = self.meta_data[self.meta_data.Pathology == \"Neurotypical\"]\n",
    "        else:\n",
    "            # Return data for training or test.\n",
    "            if self.__train:\n",
    "                self.meta_data = self.meta_data[:count_train]\n",
    "            else:\n",
    "                self.meta_data = self.meta_data[count_train:]\n",
    "                self.meta_data = self.meta_data.reset_index().drop(\"index\", axis=1)\n",
    "\n",
    "\n",
    "    def __getitem__(self, index):\n",
    "        \"\"\"\"\"\"\n",
    "\n",
    "        data = self.__paths_file[self.meta_data.participant_id[index]]\n",
    "        path_image, path_mask = data[0], data[1]\n",
    "\n",
    "        mri_image = nib.load(path_image).get_fdata()\n",
    "        mri_mask = nib.load(path_mask).get_fdata()\n",
    "\n",
    "        if self.__transform:\n",
    "            mri_image = torch.tensor(mri_image)\n",
    "            mri_image = mri_image.view(1, 256, 256, 256)\n",
    "            mri_image = self.__transform(mri_image)\n",
    "            mri_image = mri_image.view(256, 256, 256)\n",
    "\n",
    "        return mri_image, mri_mask\n",
    "\n",
    "    def __len__(self):\n",
    "        return self.meta_data.shape[0]"
   ]
  },
  {
   "cell_type": "code",
   "execution_count": 3,
   "metadata": {},
   "outputs": [],
   "source": [
    "train_dataset = FeTADataSet(train=True)\n",
    "test_dataset = FeTADataSet(train=False)\n",
    "\n",
    "train_loader = DataLoader(dataset=train_dataset,\n",
    "                         batch_size=4,\n",
    "                         shuffle=True,\n",
    "                         num_workers=2)\n",
    "\n",
    "test_loader = DataLoader(dataset=test_dataset,\n",
    "                         batch_size=2,\n",
    "                         shuffle=True,\n",
    "                         num_workers=2)"
   ]
  },
  {
   "cell_type": "code",
   "execution_count": null,
   "metadata": {},
   "outputs": [],
   "source": [
    "images, masks = train_dataset[0][0], train_dataset[0][1]"
   ]
  },
  {
   "cell_type": "code",
   "execution_count": null,
   "metadata": {
    "scrolled": false
   },
   "outputs": [],
   "source": [
    "print(images[128, 128, :])"
   ]
  },
  {
   "cell_type": "code",
   "execution_count": null,
   "metadata": {},
   "outputs": [],
   "source": [
    "print(masks[128, 128, :])"
   ]
  },
  {
   "cell_type": "code",
   "execution_count": null,
   "metadata": {},
   "outputs": [],
   "source": [
    "meta_data = pd.read_csv(os.path.join(\"../Code/feta_2.1/participants.tsv\"), sep=\"\\t\")"
   ]
  },
  {
   "cell_type": "markdown",
   "metadata": {},
   "source": [
    "  "
   ]
  },
  {
   "cell_type": "code",
   "execution_count": null,
   "metadata": {},
   "outputs": [],
   "source": [
    "import torchio as tio\n",
    "znorm_transform = tio.ZNormalization(masking_method=tio.ZNormalization.mean)\n",
    "\n",
    "transform_ = transforms.Compose([tio.ZNormalization(masking_method=tio.ZNormalization.mean)])\n",
    "\n",
    "train_dataset_transform = FeTADataSet(train=True, transform=transform_)\n"
   ]
  },
  {
   "cell_type": "code",
   "execution_count": null,
   "metadata": {},
   "outputs": [],
   "source": [
    "images_t, masks_t = train_dataset_transform[0][0], train_dataset_transform[0][1]"
   ]
  },
  {
   "cell_type": "code",
   "execution_count": null,
   "metadata": {},
   "outputs": [],
   "source": [
    "print(images_t[128, 128, :].shape)"
   ]
  },
  {
   "cell_type": "code",
   "execution_count": null,
   "metadata": {},
   "outputs": [],
   "source": [
    "print(masks_t[128, 128, :].shape)"
   ]
  },
  {
   "cell_type": "code",
   "execution_count": null,
   "metadata": {},
   "outputs": [],
   "source": []
  },
  {
   "cell_type": "code",
   "execution_count": 2,
   "metadata": {},
   "outputs": [
    {
     "data": {
      "text/html": [
       "<div>\n",
       "<style scoped>\n",
       "    .dataframe tbody tr th:only-of-type {\n",
       "        vertical-align: middle;\n",
       "    }\n",
       "\n",
       "    .dataframe tbody tr th {\n",
       "        vertical-align: top;\n",
       "    }\n",
       "\n",
       "    .dataframe thead th {\n",
       "        text-align: right;\n",
       "    }\n",
       "</style>\n",
       "<table border=\"1\" class=\"dataframe\">\n",
       "  <thead>\n",
       "    <tr style=\"text-align: right;\">\n",
       "      <th></th>\n",
       "      <th>participant_id</th>\n",
       "      <th>Pathology</th>\n",
       "      <th>Gestational age</th>\n",
       "    </tr>\n",
       "  </thead>\n",
       "  <tbody>\n",
       "    <tr>\n",
       "      <th>0</th>\n",
       "      <td>sub-001</td>\n",
       "      <td>Pathological</td>\n",
       "      <td>27.9</td>\n",
       "    </tr>\n",
       "    <tr>\n",
       "      <th>1</th>\n",
       "      <td>sub-002</td>\n",
       "      <td>Pathological</td>\n",
       "      <td>28.2</td>\n",
       "    </tr>\n",
       "    <tr>\n",
       "      <th>2</th>\n",
       "      <td>sub-003</td>\n",
       "      <td>Pathological</td>\n",
       "      <td>27.4</td>\n",
       "    </tr>\n",
       "    <tr>\n",
       "      <th>3</th>\n",
       "      <td>sub-004</td>\n",
       "      <td>Pathological</td>\n",
       "      <td>25.5</td>\n",
       "    </tr>\n",
       "    <tr>\n",
       "      <th>4</th>\n",
       "      <td>sub-005</td>\n",
       "      <td>Pathological</td>\n",
       "      <td>22.6</td>\n",
       "    </tr>\n",
       "    <tr>\n",
       "      <th>...</th>\n",
       "      <td>...</td>\n",
       "      <td>...</td>\n",
       "      <td>...</td>\n",
       "    </tr>\n",
       "    <tr>\n",
       "      <th>75</th>\n",
       "      <td>sub-076</td>\n",
       "      <td>Neurotypical</td>\n",
       "      <td>23.2</td>\n",
       "    </tr>\n",
       "    <tr>\n",
       "      <th>76</th>\n",
       "      <td>sub-077</td>\n",
       "      <td>Pathological</td>\n",
       "      <td>26.9</td>\n",
       "    </tr>\n",
       "    <tr>\n",
       "      <th>77</th>\n",
       "      <td>sub-078</td>\n",
       "      <td>Pathological</td>\n",
       "      <td>24.0</td>\n",
       "    </tr>\n",
       "    <tr>\n",
       "      <th>78</th>\n",
       "      <td>sub-079</td>\n",
       "      <td>Neurotypical</td>\n",
       "      <td>29.1</td>\n",
       "    </tr>\n",
       "    <tr>\n",
       "      <th>79</th>\n",
       "      <td>sub-080</td>\n",
       "      <td>Pathological</td>\n",
       "      <td>26.9</td>\n",
       "    </tr>\n",
       "  </tbody>\n",
       "</table>\n",
       "<p>80 rows × 3 columns</p>\n",
       "</div>"
      ],
      "text/plain": [
       "   participant_id     Pathology  Gestational age\n",
       "0         sub-001  Pathological             27.9\n",
       "1         sub-002  Pathological             28.2\n",
       "2         sub-003  Pathological             27.4\n",
       "3         sub-004  Pathological             25.5\n",
       "4         sub-005  Pathological             22.6\n",
       "..            ...           ...              ...\n",
       "75        sub-076  Neurotypical             23.2\n",
       "76        sub-077  Pathological             26.9\n",
       "77        sub-078  Pathological             24.0\n",
       "78        sub-079  Neurotypical             29.1\n",
       "79        sub-080  Pathological             26.9\n",
       "\n",
       "[80 rows x 3 columns]"
      ]
     },
     "execution_count": 2,
     "metadata": {},
     "output_type": "execute_result"
    }
   ],
   "source": [
    "meta_data = pd.read_csv(os.path.join(\"../Code/feta_2.1/participants.tsv\"), sep=\"\\t\")\n",
    "meta_data"
   ]
  },
  {
   "cell_type": "code",
   "execution_count": 41,
   "metadata": {},
   "outputs": [],
   "source": [
    "mial_srtk = meta_data[:40]\n",
    "simple_irtk = meta_data[40:]"
   ]
  },
  {
   "cell_type": "code",
   "execution_count": 67,
   "metadata": {},
   "outputs": [],
   "source": [
    "index1 = mial_srtk[(mial_srtk[\"Gestational age\"]<=28) & (mial_srtk[\"Pathology\"]==\"Neurotypical\")].index.to_list()\n",
    "index2 = mial_srtk[(mial_srtk[\"Gestational age\"]<=28) & (mial_srtk[\"Pathology\"]==\"Pathological\")].index.to_list()\n",
    "\n",
    "index3 = mial_srtk[(mial_srtk[\"Gestational age\"]>28) & (mial_srtk[\"Pathology\"]==\"Neurotypical\")].index.to_list()\n",
    "index4 = mial_srtk[(mial_srtk[\"Gestational age\"]>28) & (mial_srtk[\"Pathology\"]==\"Pathological\")].index.to_list()\n",
    "\n",
    "\n",
    "\n",
    "index5 = simple_irtk[(simple_irtk[\"Gestational age\"]<=28) & (simple_irtk[\"Pathology\"]==\"Neurotypical\")].index.to_list()\n",
    "index6 = simple_irtk[(simple_irtk[\"Gestational age\"]<=28) & (simple_irtk[\"Pathology\"]==\"Pathological\")].index.to_list()\n",
    "\n",
    "index7 = simple_irtk[(simple_irtk[\"Gestational age\"]>28) & (simple_irtk[\"Pathology\"]==\"Neurotypical\")].index.to_list()\n",
    "index8 = simple_irtk[(simple_irtk[\"Gestational age\"]>28) & (simple_irtk[\"Pathology\"]==\"Pathological\")].index.to_list()"
   ]
  },
  {
   "cell_type": "code",
   "execution_count": 105,
   "metadata": {},
   "outputs": [],
   "source": [
    "train, validation, test = [], [], []\n",
    "\n",
    "train.append(index1[:5])\n",
    "train.append(index2[:16])\n",
    "train.append(index3[:6])\n",
    "train.append(index4[:3])\n",
    "train.append(index5[:5])\n",
    "train.append(index6[:13])\n",
    "train.append(index7[:9])\n",
    "train.append(index8[:3])\n",
    "\n",
    "train = [item for sub_arr in train for item in sub_arr]\n",
    "\n",
    "validation.append(index1[5:6])\n",
    "validation.append(index2[16:18])\n",
    "validation.append(index3[6:7])\n",
    "validation.append(index4[3:4])\n",
    "validation.append(index5[5:6])\n",
    "validation.append(index6[13:15])\n",
    "validation.append(index7[9:10])\n",
    "validation.append(index8[3:4])\n",
    "\n",
    "validation = [item for sub_arr in validation for item in sub_arr]\n",
    "\n",
    "test.append(index1[6:])\n",
    "test.append(index2[18:])\n",
    "test.append(index3[7:])\n",
    "test.append(index4[4:])\n",
    "test.append(index5[6:])\n",
    "test.append(index6[15:])\n",
    "test.append(index7[10:])\n",
    "test.append(index8[4:])\n",
    "\n",
    "test = [item for sub_arr in test for item in sub_arr]"
   ]
  },
  {
   "cell_type": "code",
   "execution_count": null,
   "metadata": {},
   "outputs": [],
   "source": []
  },
  {
   "cell_type": "code",
   "execution_count": null,
   "metadata": {},
   "outputs": [],
   "source": []
  },
  {
   "cell_type": "code",
   "execution_count": 34,
   "metadata": {
    "collapsed": true
   },
   "outputs": [
    {
     "data": {
      "text/plain": [
       "' \\nThere are 80 MRI images of 80 subjects. Gestational ages of subjects ranges 20 weeks to 35 weeks. \\nThere are Pathological and Neurotypical subjects.\\nFirst 40 MRI images (sub-001 - sub-040) constructed by mialSRTK method. \\nOther 40 MRI images (sub-041 - sub-080) constructed by simpleIRTK method.\\n\\nmialSRTK reconstruction:\\n    * Gestational age <=28 (28 choosed intuitively for diversity gestational weeks and smoother age disturbition)\\n        - Neurotypical: 7 MRI images.   [train:5, val:1, test:1]\\n        - Pathological: 20 MRI images.  [train:16, val:2, test:2]\\n    * Gestational age > 28\\n        - Neurotypical: 8 MRI images.   [train:6, val:1, test:1]\\n        - Pathological: 5 MRI images.   [train:3, val:1, test:1]\\n        \\nsimpleIRTK reconstruction:\\n    * Gestational age <=28\\n        - Neurotypical: 7 MRI images.   [train:5, val:1, test:1]\\n        - Pathological: 17 MRI images.  [train:13, val:2, test:2]\\n    * Gestational age > 28\\n        - Neurotypical: 11 MRI images.  [train:9, val:1, test:1]\\n        - Pathological: 5 MRI images.   [train:3, val:1, test:1]      \\n'"
      ]
     },
     "execution_count": 34,
     "metadata": {},
     "output_type": "execute_result"
    }
   ],
   "source": [
    "### Dataset Information ###\n",
    "\"\"\" \n",
    "There are 80 MRI images of 80 subjects. Gestational ages of subjects ranges 20 weeks to 35 weeks. \n",
    "There are Pathological and Neurotypical subjects.\n",
    "First 40 MRI images (sub-001 - sub-040) constructed by mialSRTK method. \n",
    "Other 40 MRI images (sub-041 - sub-080) constructed by simpleIRTK method.\n",
    "\n",
    "mialSRTK reconstruction:\n",
    "    * Gestational age <=28 (28 choosed intuitively for diversity gestational weeks and smoother age disturbition)\n",
    "        - Neurotypical: 7 MRI images.   [train:5, val:1, test:1]\n",
    "        - Pathological: 20 MRI images.  [train:16, val:2, test:2]\n",
    "    * Gestational age > 28\n",
    "        - Neurotypical: 8 MRI images.   [train:6, val:1, test:1]\n",
    "        - Pathological: 5 MRI images.   [train:3, val:1, test:1]\n",
    "        \n",
    "simpleIRTK reconstruction:\n",
    "    * Gestational age <=28\n",
    "        - Neurotypical: 7 MRI images.   [train:5, val:1, test:1]\n",
    "        - Pathological: 17 MRI images.  [train:13, val:2, test:2]\n",
    "    * Gestational age > 28\n",
    "        - Neurotypical: 11 MRI images.  [train:9, val:1, test:1]\n",
    "        - Pathological: 5 MRI images.   [train:3, val:1, test:1]      \n",
    "\"\"\"\n",
    "\n"
   ]
  },
  {
   "cell_type": "code",
   "execution_count": null,
   "metadata": {},
   "outputs": [],
   "source": []
  },
  {
   "cell_type": "code",
   "execution_count": null,
   "metadata": {},
   "outputs": [],
   "source": []
  },
  {
   "cell_type": "code",
   "execution_count": null,
   "metadata": {},
   "outputs": [],
   "source": []
  },
  {
   "cell_type": "code",
   "execution_count": null,
   "metadata": {},
   "outputs": [],
   "source": []
  }
 ],
 "metadata": {
  "kernelspec": {
   "display_name": "pytorch",
   "language": "python",
   "name": "pytorch"
  },
  "language_info": {
   "codemirror_mode": {
    "name": "ipython",
    "version": 3
   },
   "file_extension": ".py",
   "mimetype": "text/x-python",
   "name": "python",
   "nbconvert_exporter": "python",
   "pygments_lexer": "ipython3",
   "version": "3.8.10"
  },
  "toc": {
   "base_numbering": 1,
   "nav_menu": {},
   "number_sections": true,
   "sideBar": true,
   "skip_h1_title": false,
   "title_cell": "Table of Contents",
   "title_sidebar": "Contents",
   "toc_cell": false,
   "toc_position": {},
   "toc_section_display": true,
   "toc_window_display": false
  },
  "varInspector": {
   "cols": {
    "lenName": 16,
    "lenType": 16,
    "lenVar": 40
   },
   "kernels_config": {
    "python": {
     "delete_cmd_postfix": "",
     "delete_cmd_prefix": "del ",
     "library": "var_list.py",
     "varRefreshCmd": "print(var_dic_list())"
    },
    "r": {
     "delete_cmd_postfix": ") ",
     "delete_cmd_prefix": "rm(",
     "library": "var_list.r",
     "varRefreshCmd": "cat(var_dic_list()) "
    }
   },
   "oldHeight": 330.85,
   "position": {
    "height": "72px",
    "left": "1051px",
    "right": "20px",
    "top": "130px",
    "width": "721px"
   },
   "types_to_exclude": [
    "module",
    "function",
    "builtin_function_or_method",
    "instance",
    "_Feature"
   ],
   "varInspector_section_display": "none",
   "window_display": false
  }
 },
 "nbformat": 4,
 "nbformat_minor": 4
}
