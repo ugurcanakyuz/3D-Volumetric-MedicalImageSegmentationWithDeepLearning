{
 "cells": [
  {
   "cell_type": "code",
   "execution_count": null,
   "metadata": {},
   "outputs": [],
   "source": [
    "import os\n",
    "\n",
    "import matplotlib.pyplot as plt\n",
    "import nibabel as nib\n",
    "import numpy as np\n",
    "import pandas as pd\n",
    "import torch\n",
    "import torchvision\n",
    "\n",
    "from torch.utils.data import Dataset, DataLoader"
   ]
  },
  {
   "cell_type": "code",
   "execution_count": null,
   "metadata": {},
   "outputs": [],
   "source": [
    "class FeTADataSet(Dataset):\n",
    "    #def __init__(self, quality=[], labels=[], pathologies=[], load_3d=None):\n",
    "    def __init__(self, train=True, pathology=\"all\"):\n",
    "        \"\"\"\"\"\"\n",
    "        self.path_base = \"feta_2.1\"\n",
    "        self.train = train\n",
    "        \n",
    "        self.meta_data = pd.read_csv(os.path.join(self.path_base, \"participants.tsv\"), sep=\"\\t\")\n",
    "        count_train = 70  # First 70 MRI image consist of 40 Pathological and 20 Neurotypical.\n",
    "        \n",
    "        #Images below might have bad qualities\n",
    "        #self.meta_data = self.meta_data.drop(index=self.meta_data[\n",
    "                                                    #self.meta_data[\"participant_id\"]==\"sub-007\"\n",
    "                                                    #].index)\n",
    "        #self.meta_data = self.meta_data.drop(index=self.meta_data[\n",
    "                                                    #self.meta_data[\"participant_id\"]==\"sub-009\"\n",
    "                                                    #].index)\n",
    "                \n",
    "        if pathology == \"Pathological\":\n",
    "            self.meta_data = self.meta_data[self.meta_data.Pathology==\"Pathological\"]\n",
    "        elif pathology == \"Neurotypical\":\n",
    "            self.meta_data = self.meta_data[self.meta_data.Pathology==\"Neurotypical\"]\n",
    "        else:\n",
    "            # Return data for training or test. \n",
    "            if self.train:\n",
    "                self.meta_data = self.meta_data[:count_train]\n",
    "            else:\n",
    "                self.meta_data = self.meta_data[count_train:]\n",
    "                self.meta_data = self.meta_data.reset_index().drop(\"index\", axis=1)\n",
    "        \n",
    "        self.n_samples = self.meta_data.shape[0]\n",
    "        \n",
    "    def __getitem__(self, index):\n",
    "        \"\"\"\"\"\"\n",
    "        reconstruction = \"\"\n",
    "\n",
    "        if index < 40 and self.train==True:\n",
    "            reconstruction = \"_rec-mial\"\n",
    "        else:\n",
    "            reconstruction = \"_rec-irtk\"\n",
    "            \n",
    "            \n",
    "        path_image = os.path.join(self.path_base, \n",
    "                                  self.meta_data.participant_id[index], \n",
    "                                  \"anat\", \n",
    "                                  self.meta_data.participant_id[index]+reconstruction+\"_T2w.nii.gz\")\n",
    "        \n",
    "        path_mask = os.path.join(self.path_base, \n",
    "                                 self.meta_data.participant_id[index], \n",
    "                                 \"anat\", \n",
    "                                  self.meta_data.participant_id[index]+reconstruction+\"_dseg.nii.gz\")\n",
    "        \n",
    "        mri_image = nib.load(path_image).get_fdata()        \n",
    "        mri_mask = nib.load(path_mask).get_fdata()\n",
    "        \n",
    "        return mri_image, mri_mask\n",
    "        \n",
    "    def __len__(self):\n",
    "        return self.n_samples\n",
    "    "
   ]
  },
  {
   "cell_type": "code",
   "execution_count": null,
   "metadata": {},
   "outputs": [],
   "source": [
    "train_dataset = FeTADataSet(train=True)\n",
    "test_dataset = FeTADataSet(train=False)\n",
    "\n",
    "train_loader = DataLoader(dataset=train_dataset,\n",
    "                         batch_size=4,\n",
    "                         shuffle=True,\n",
    "                         num_workers=2)\n",
    "\n",
    "test_loader = DataLoader(dataset=test_dataset,\n",
    "                         batch_size=2,\n",
    "                         shuffle=True,\n",
    "                         num_workers=2)"
   ]
  },
  {
   "cell_type": "code",
   "execution_count": null,
   "metadata": {},
   "outputs": [],
   "source": [
    "dataiter = iter(train_loader)\n",
    "images, masks = dataiter.next()"
   ]
  },
  {
   "cell_type": "code",
   "execution_count": null,
   "metadata": {
    "scrolled": true
   },
   "outputs": [],
   "source": []
  },
  {
   "cell_type": "code",
   "execution_count": null,
   "metadata": {},
   "outputs": [],
   "source": [
    "meta_data = pd.read_csv(os.path.join(\"../Code/feta_2.1/participants.tsv\"), sep=\"\\t\")"
   ]
  },
  {
   "cell_type": "markdown",
   "metadata": {},
   "source": [
    "  "
   ]
  },
  {
   "cell_type": "code",
   "execution_count": null,
   "metadata": {},
   "outputs": [],
   "source": []
  },
  {
   "cell_type": "code",
   "execution_count": null,
   "metadata": {},
   "outputs": [],
   "source": []
  },
  {
   "cell_type": "code",
   "execution_count": null,
   "metadata": {},
   "outputs": [],
   "source": []
  },
  {
   "cell_type": "code",
   "execution_count": null,
   "metadata": {},
   "outputs": [],
   "source": []
  }
 ],
 "metadata": {
  "kernelspec": {
   "display_name": "pytorch",
   "language": "python",
   "name": "pytorch"
  },
  "language_info": {
   "codemirror_mode": {
    "name": "ipython",
    "version": 3
   },
   "file_extension": ".py",
   "mimetype": "text/x-python",
   "name": "python",
   "nbconvert_exporter": "python",
   "pygments_lexer": "ipython3",
   "version": "3.8.10"
  },
  "toc": {
   "base_numbering": 1,
   "nav_menu": {},
   "number_sections": true,
   "sideBar": true,
   "skip_h1_title": false,
   "title_cell": "Table of Contents",
   "title_sidebar": "Contents",
   "toc_cell": false,
   "toc_position": {},
   "toc_section_display": true,
   "toc_window_display": false
  },
  "varInspector": {
   "cols": {
    "lenName": 16,
    "lenType": 16,
    "lenVar": 40
   },
   "kernels_config": {
    "python": {
     "delete_cmd_postfix": "",
     "delete_cmd_prefix": "del ",
     "library": "var_list.py",
     "varRefreshCmd": "print(var_dic_list())"
    },
    "r": {
     "delete_cmd_postfix": ") ",
     "delete_cmd_prefix": "rm(",
     "library": "var_list.r",
     "varRefreshCmd": "cat(var_dic_list()) "
    }
   },
   "oldHeight": 330.85,
   "position": {
    "height": "72px",
    "left": "1051px",
    "right": "20px",
    "top": "130px",
    "width": "721px"
   },
   "types_to_exclude": [
    "module",
    "function",
    "builtin_function_or_method",
    "instance",
    "_Feature"
   ],
   "varInspector_section_display": "none",
   "window_display": false
  }
 },
 "nbformat": 4,
 "nbformat_minor": 4
}
