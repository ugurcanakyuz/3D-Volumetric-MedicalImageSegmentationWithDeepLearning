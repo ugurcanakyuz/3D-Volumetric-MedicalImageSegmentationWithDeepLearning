{
 "cells": [
  {
   "cell_type": "markdown",
   "metadata": {},
   "source": [
    "# Dimension Test\n",
    "This test was created to investigate if the dimensions has redundant zero values. To measure redundant zero layers firstly indexex of the brain area in 3D space found. Then remain space out of the 3D brain area showed us the zero layers.\n",
    "\n",
    "Let's say if the largest layer in coronal orientation starts on 25.pixel and ends on 200.layer its width is 175 pixel. So 255-175 = 80 layers in coronal orientation is full of zeros.\n",
    "\n",
    "However, it looks that putting efort to rescaling images in the first place may be not worthful. Check details below. \n",
    "Date: 00:32 30/01/2022"
   ]
  },
  {
   "cell_type": "code",
   "execution_count": 1,
   "metadata": {},
   "outputs": [],
   "source": [
    "import json\n",
    "import os\n",
    "\n",
    "import matplotlib.pyplot as plt\n",
    "import nibabel as nib\n",
    "import numpy as np\n",
    "import pandas as pd\n",
    "\n",
    "from modules.Utils import get_file_names"
   ]
  },
  {
   "cell_type": "code",
   "execution_count": 41,
   "metadata": {},
   "outputs": [],
   "source": [
    "path_data = \"feta_2.1/\"\n",
    "\n",
    "meta_data = pd.read_csv(os.path.join(path_data, \"participants.tsv\"), sep=\"\\t\")\n",
    "subjects = meta_data[\"participant_id\"].to_list()\n",
    "files = get_file_names(path_data)"
   ]
  },
  {
   "cell_type": "code",
   "execution_count": 3,
   "metadata": {},
   "outputs": [],
   "source": [
    "def find_index(indexes):\n",
    "    for i, item in enumerate(indexes):\n",
    "        if not item:\n",
    "            return i"
   ]
  },
  {
   "cell_type": "code",
   "execution_count": 4,
   "metadata": {},
   "outputs": [],
   "source": [
    "def get_slice_info(arr):\n",
    "    edge_size = 256\n",
    "    slice_indexes = {'x':[],\n",
    "                     'y':[],\n",
    "                     'z':[],\n",
    "                    }\n",
    "    \n",
    "    indexes = [np.all(arr[i, :, :]==0) for i in range(edge_size)]\n",
    "    start_point = find_index(indexes)\n",
    "    slice_indexes['x'].append(start_point)\n",
    "    indexes.reverse()\n",
    "    stop_point = edge_size - find_index(indexes) - 1\n",
    "    slice_indexes['x'].append(stop_point)\n",
    "    slice_indexes['x'].append(stop_point-start_point)\n",
    "    \n",
    "    indexes = [np.all(arr[:, i, :]==0) for i in range(edge_size)]\n",
    "    start_point = find_index(indexes)\n",
    "    slice_indexes['y'].append(start_point)\n",
    "    indexes.reverse()\n",
    "    stop_point = edge_size - find_index(indexes) - 1\n",
    "    slice_indexes['y'].append(stop_point)\n",
    "    slice_indexes['y'].append(stop_point-start_point)\n",
    "    \n",
    "    indexes = [np.all(arr[:, :, i]==0) for i in range(edge_size)]\n",
    "    start_point = find_index(indexes)\n",
    "    slice_indexes['z'].append(start_point)\n",
    "    indexes.reverse()\n",
    "    stop_point = edge_size - find_index(indexes) - 1\n",
    "    slice_indexes['z'].append(stop_point)\n",
    "    slice_indexes['z'].append(stop_point-start_point)\n",
    "    \n",
    "    return slice_indexes"
   ]
  },
  {
   "cell_type": "code",
   "execution_count": 5,
   "metadata": {},
   "outputs": [],
   "source": [
    "slice_info_image = {}\n",
    "slice_info_mask = {}\n",
    "\n",
    "for sub in subjects:    \n",
    "    image = nib.load(files[sub][0]).get_fdata()\n",
    "    info = get_slice_info(image)\n",
    "    slice_info_image[sub] = []\n",
    "    [slice_info_image[sub].append(item) for col in info.items() for item in col[1]]\n",
    "    \n",
    "    mask = nib.load(files[sub][1]).get_fdata()\n",
    "    info = get_slice_info(mask)\n",
    "    slice_info_mask[sub] = []\n",
    "    [slice_info_mask[sub].append(item) for col in info.items() for item in col[1]]"
   ]
  },
  {
   "cell_type": "code",
   "execution_count": 6,
   "metadata": {},
   "outputs": [],
   "source": [
    "cols = [\"x_start_point\", \"x_end_point\", \"x_width\", \n",
    "        \"y_start_point\", \"y_end_point\", \"y_width\",\n",
    "        \"z_start_point\", \"z_end_point\", \"z_width\"]"
   ]
  },
  {
   "cell_type": "code",
   "execution_count": 35,
   "metadata": {},
   "outputs": [
    {
     "data": {
      "text/plain": [
       "x_start_point     47\n",
       "x_end_point      228\n",
       "x_width          221\n",
       "y_start_point     65\n",
       "y_end_point      255\n",
       "y_width          255\n",
       "z_start_point     50\n",
       "z_end_point      235\n",
       "z_width          235\n",
       "dtype: int64"
      ]
     },
     "execution_count": 35,
     "metadata": {},
     "output_type": "execute_result"
    }
   ],
   "source": [
    "df_images = pd.DataFrame(slice_info_image).transpose()\n",
    "df_images.columns = cols\n",
    "df_images.max(axis=0)"
   ]
  },
  {
   "cell_type": "code",
   "execution_count": 36,
   "metadata": {},
   "outputs": [
    {
     "data": {
      "text/plain": [
       "x_start_point      0\n",
       "x_end_point      106\n",
       "x_width          103\n",
       "y_start_point      0\n",
       "y_end_point      130\n",
       "y_width          128\n",
       "z_start_point      0\n",
       "z_end_point      119\n",
       "z_width          110\n",
       "dtype: int64"
      ]
     },
     "execution_count": 36,
     "metadata": {},
     "output_type": "execute_result"
    }
   ],
   "source": [
    "df_images.min(axis=0)"
   ]
  },
  {
   "cell_type": "code",
   "execution_count": 37,
   "metadata": {},
   "outputs": [
    {
     "data": {
      "image/png": "[encoded data removed]",
      "text/plain": [
       "<Figure size 720x720 with 1 Axes>"
      ]
     },
     "metadata": {
      "needs_background": "light"
     },
     "output_type": "display_data"
    }
   ],
   "source": [
    "# Width range for images.\n",
    "bins = np.arange(100, 255, 15) # fixed bin size\n",
    "\n",
    "plt.figure(figsize=(10, 10))\n",
    "x_data = df_images.x_width.to_list()\n",
    "y_data = df_images.y_width.to_list()\n",
    "z_data = df_images.z_width.to_list()\n",
    "plt.hist([x_data, y_data, z_data], label=['x', 'y', 'z'], bins=bins, alpha=0.5)\n",
    "plt.legend(loc='upper right')\n",
    "plt.ylabel(\"Number of widths\")\n",
    "plt.xlabel(\"Widths\")\n",
    "plt.show()"
   ]
  },
  {
   "cell_type": "code",
   "execution_count": 38,
   "metadata": {},
   "outputs": [
    {
     "data": {
      "text/plain": [
       "x_start_point     54\n",
       "x_end_point      212\n",
       "x_width          191\n",
       "y_start_point     71\n",
       "y_end_point      255\n",
       "y_width          239\n",
       "z_start_point     67\n",
       "z_end_point      213\n",
       "z_width          190\n",
       "dtype: int64"
      ]
     },
     "execution_count": 38,
     "metadata": {},
     "output_type": "execute_result"
    }
   ],
   "source": [
    "df_masks = pd.DataFrame(slice_info_mask).transpose()\n",
    "df_masks.columns = cols\n",
    "df_masks.max(axis=0)"
   ]
  },
  {
   "cell_type": "code",
   "execution_count": 39,
   "metadata": {},
   "outputs": [
    {
     "data": {
      "text/plain": [
       "x_start_point      4\n",
       "x_end_point       94\n",
       "x_width           81\n",
       "y_start_point      9\n",
       "y_end_point      118\n",
       "y_width          103\n",
       "z_start_point      0\n",
       "z_end_point      106\n",
       "z_width           93\n",
       "dtype: int64"
      ]
     },
     "execution_count": 39,
     "metadata": {},
     "output_type": "execute_result"
    }
   ],
   "source": [
    "df_masks.min(axis=0)"
   ]
  },
  {
   "cell_type": "code",
   "execution_count": 40,
   "metadata": {},
   "outputs": [
    {
     "data": {
      "image/png": "[encoded data removed]",
      "text/plain": [
       "<Figure size 720x720 with 1 Axes>"
      ]
     },
     "metadata": {
      "needs_background": "light"
     },
     "output_type": "display_data"
    }
   ],
   "source": [
    "# Width range for masks.\n",
    "bins = np.arange(100, 255, 15) # fixed bin size\n",
    "\n",
    "plt.figure(figsize=(10, 10))\n",
    "x_data = df_masks.x_width.to_list()\n",
    "y_data = df_masks.y_width.to_list()\n",
    "z_data = df_masks.z_width.to_list()\n",
    "plt.hist([x_data, y_data, z_data], label=['x', 'y', 'z'], bins=bins, alpha=0.5)\n",
    "plt.legend(loc='upper right')\n",
    "plt.ylabel(\"Number of widths\")\n",
    "plt.xlabel(\"Widths\")\n",
    "plt.show()"
   ]
  },
  {
   "cell_type": "code",
   "execution_count": null,
   "metadata": {},
   "outputs": [],
   "source": [
    "idx = get_slice_info(mask)\n",
    "fig, ax = plt.subplots(3, 2, figsize=(8, 8))\n",
    "ax[0, 0].imshow(mask[idx['x'][0], :, :])\n",
    "ax[0, 1].imshow(mask[idx['x'][1], :, :])\n",
    "ax[1, 0].imshow(mask[:, idx['y'][0], :])\n",
    "ax[1, 1].imshow(mask[:, idx['y'][1], :])\n",
    "ax[2, 0].imshow(mask[:, :, idx['z'][0]])\n",
    "ax[2, 1].imshow(mask[:, :, idx['z'][1]])\n",
    "plt.show()"
   ]
  },
  {
   "cell_type": "code",
   "execution_count": null,
   "metadata": {},
   "outputs": [],
   "source": []
  },
  {
   "cell_type": "code",
   "execution_count": null,
   "metadata": {},
   "outputs": [],
   "source": []
  }
 ],
 "metadata": {
  "kernelspec": {
   "display_name": "cv4py3",
   "language": "python",
   "name": "cv4py3"
  },
  "language_info": {
   "codemirror_mode": {
    "name": "ipython",
    "version": 3
   },
   "file_extension": ".py",
   "mimetype": "text/x-python",
   "name": "python",
   "nbconvert_exporter": "python",
   "pygments_lexer": "ipython3",
   "version": "3.8.10"
  },
  "varInspector": {
   "cols": {
    "lenName": 16,
    "lenType": 16,
    "lenVar": 40
   },
   "kernels_config": {
    "python": {
     "delete_cmd_postfix": "",
     "delete_cmd_prefix": "del ",
     "library": "var_list.py",
     "varRefreshCmd": "print(var_dic_list())"
    },
    "r": {
     "delete_cmd_postfix": ") ",
     "delete_cmd_prefix": "rm(",
     "library": "var_list.r",
     "varRefreshCmd": "cat(var_dic_list()) "
    }
   },
   "types_to_exclude": [
    "module",
    "function",
    "builtin_function_or_method",
    "instance",
    "_Feature"
   ],
   "window_display": false
  }
 },
 "nbformat": 4,
 "nbformat_minor": 4
}
