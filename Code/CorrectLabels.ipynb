{
 "cells": [
  {
   "cell_type": "code",
   "execution_count": null,
   "metadata": {
    "scrolled": false
   },
   "outputs": [],
   "source": [
    "import os\n",
    "import sys\n",
    "\n",
    "import matplotlib.pyplot as plt\n",
    "import nibabel as nib\n",
    "import numpy as np\n",
    "import pandas as pd\n",
    "import shutil\n",
    "\n",
    "from modules.Utils import get_file_names"
   ]
  },
  {
   "cell_type": "code",
   "execution_count": null,
   "metadata": {},
   "outputs": [],
   "source": [
    "dhcp = get_file_names(\"data/verify/\")\n",
    "dhcp_name = list(dhcp.keys())[1]\n",
    "dhcp_name"
   ]
  },
  {
   "cell_type": "code",
   "execution_count": null,
   "metadata": {},
   "outputs": [],
   "source": [
    "for sub, paths in dhcp.items():\n",
    "    path_mask = paths[1]\n",
    "    mask = nib.load(path_mask).get_fdata()\n",
    "\n",
    "    # Merge hippocampi and amygdala with deep gray matter\n",
    "    mask[mask==9] = 7\n",
    "    \n",
    "    # Assign new label values to avoid create a conflict between label values.\n",
    "    mask[mask==4] = 14\n",
    "    mask[mask==5] = 15\n",
    "    mask[mask==6] = 16\n",
    "    mask[mask==7] = 17\n",
    "    mask[mask==8] = 18\n",
    "    \n",
    "    # 4 is the background label.\n",
    "    mask[mask==14] = 0\n",
    "    \n",
    "    # Assign new label values that compatible with feta2.1.\n",
    "    mask[mask==15] = 4\n",
    "    mask[mask==16] = 5\n",
    "    mask[mask==17] = 6\n",
    "    mask[mask==18] = 7\n",
    "    \n",
    "    mask = nib.Nifti1Image(mask, np.eye(4))\n",
    "    os.remove(path_mask)\n",
    "    new_path = path_mask.replace(\"drawem9\", \"drawem7\")\n",
    "    nib.save(mask, new_path)\n",
    "    \n",
    "print(\"Done\")"
   ]
  },
  {
   "cell_type": "code",
   "execution_count": null,
   "metadata": {},
   "outputs": [],
   "source": [
    "np.unique(nib.load(new_path).get_fdata())"
   ]
  },
  {
   "cell_type": "code",
   "execution_count": null,
   "metadata": {},
   "outputs": [],
   "source": []
  },
  {
   "cell_type": "code",
   "execution_count": null,
   "metadata": {},
   "outputs": [],
   "source": []
  },
  {
   "cell_type": "code",
   "execution_count": null,
   "metadata": {},
   "outputs": [],
   "source": []
  }
 ],
 "metadata": {
  "kernelspec": {
   "display_name": "pytorch",
   "language": "python",
   "name": "pytorch"
  },
  "language_info": {
   "codemirror_mode": {
    "name": "ipython",
    "version": 3
   },
   "file_extension": ".py",
   "mimetype": "text/x-python",
   "name": "python",
   "nbconvert_exporter": "python",
   "pygments_lexer": "ipython3",
   "version": "3.8.10"
  },
  "varInspector": {
   "cols": {
    "lenName": 16,
    "lenType": 16,
    "lenVar": 40
   },
   "kernels_config": {
    "python": {
     "delete_cmd_postfix": "",
     "delete_cmd_prefix": "del ",
     "library": "var_list.py",
     "varRefreshCmd": "print(var_dic_list())"
    },
    "r": {
     "delete_cmd_postfix": ") ",
     "delete_cmd_prefix": "rm(",
     "library": "var_list.r",
     "varRefreshCmd": "cat(var_dic_list()) "
    }
   },
   "types_to_exclude": [
    "module",
    "function",
    "builtin_function_or_method",
    "instance",
    "_Feature"
   ],
   "window_display": false
  }
 },
 "nbformat": 4,
 "nbformat_minor": 4
}
