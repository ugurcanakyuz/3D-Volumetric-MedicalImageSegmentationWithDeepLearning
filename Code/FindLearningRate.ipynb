{
 "cells": [
  {
   "cell_type": "code",
   "execution_count": null,
   "metadata": {},
   "outputs": [],
   "source": [
    "import os\n",
    "\n",
    "import matplotlib.pyplot as plt\n",
    "import numpy as np\n",
    "import pandas as pd\n",
    "import torch\n",
    "import torch.nn as nn\n",
    "import torch.nn.functional as F\n",
    "import torchio as tio\n",
    "from torchsummary import summary\n",
    "import torchvision\n",
    "import torchvision.transforms as transforms\n",
    "\n",
    "\n",
    "from modules.Dataset import FeTADataSet\n",
    "from modules.Evaluator import Evaluator3D\n",
    "from modules.LossFunctions import DC_and_CE_loss, GDiceLossV2\n",
    "from modules.Trainer import Trainer3D\n",
    "from modules.UNet import UNet3D\n",
    "from modules.Utils import calculate_dice_score, create_onehot_mask, create_patch_indexes, init_weights_kaiming\n",
    "from modules.Utils import EarlyStopping, LearningRateFinder, TensorboardModules "
   ]
  },
  {
   "cell_type": "code",
   "execution_count": null,
   "metadata": {},
   "outputs": [],
   "source": [
    "device = torch.device('cuda' if torch.cuda.is_available() else 'cpu')\n",
    "\n",
    "# Hyper-parameters \n",
    "params = {\"num_epochs\": 250,\n",
    "          \"batch_size\": 1,\n",
    "          \"lr\": 0.1,\n",
    "          \"momentum\": 0.9,\n",
    "          \"nesterov\": True,\n",
    "          \"patch_sizes\": (128, 128, 128),\n",
    "          \"image_sizes\": (256, 256, 256),\n",
    "          \"ES\":{\"patience\": 5, \"min_delta\": 1e-3},\n",
    "          #\"CLR\":{\"base\": 1e-07, \"max\": 0.1, \"up\": 4, \"down\": 8, \"mode\": \"triangular2\"},\n",
    "          \"SLR\":{'step_size': 10, \"gamma\": 1e-1}\n",
    "         }"
   ]
  },
  {
   "cell_type": "code",
   "execution_count": null,
   "metadata": {},
   "outputs": [],
   "source": [
    "labels = pd.read_csv(\"feta_2.1/dseg.tsv\", sep='\\t', index_col=\"index\")\n",
    "\n",
    "transform_ = None#transforms.Compose([tio.ZNormalization(masking_method=tio.ZNormalization.mean)])\n",
    "\n",
    "train = FeTADataSet(\"train\", path=\"data2\", transform=transform_)\n",
    "val = FeTADataSet(\"val\", path=\"data2\", transform=transform_)\n",
    "\n",
    "torch.manual_seed(0)\n",
    "train_loader = torch.utils.data.DataLoader(dataset=train[:10], batch_size=params[\"batch_size\"], shuffle=True)\n",
    "val_loader = torch.utils.data.DataLoader(dataset=val[:10], batch_size=params[\"batch_size\"], shuffle=True)"
   ]
  },
  {
   "cell_type": "code",
   "execution_count": null,
   "metadata": {},
   "outputs": [],
   "source": [
    "model = UNet3D().to(device)\n",
    "model.apply(init_weights_kaiming)\n",
    "\n",
    "\n",
    "criterion = DC_and_CE_loss({'batch_dice': True, 'smooth': 1e-5, 'do_bg': False, 'square': False}, {})\n",
    "optimizer = torch.optim.SGD(model.parameters(), lr=params[\"lr\"], \n",
    "                            momentum=params[\"momentum\"], nesterov=params[\"nesterov\"])\n",
    "\n",
    "# Initalize trainer for training.\n",
    "trainer = Trainer3D(model, train_loader, optimizer, criterion, params[\"patch_sizes\"], \n",
    "                    params[\"num_epochs\"])\n",
    "\n",
    "# Learning rate finder.\n",
    "lr_finder = LearningRateFinder(trainer)\n",
    "lr_finder.find(startLR=1e-9)"
   ]
  },
  {
   "cell_type": "code",
   "execution_count": null,
   "metadata": {},
   "outputs": [],
   "source": []
  }
 ],
 "metadata": {
  "kernelspec": {
   "display_name": "pytorch",
   "language": "python",
   "name": "pytorch"
  },
  "language_info": {
   "codemirror_mode": {
    "name": "ipython",
    "version": 3
   },
   "file_extension": ".py",
   "mimetype": "text/x-python",
   "name": "python",
   "nbconvert_exporter": "python",
   "pygments_lexer": "ipython3",
   "version": "3.8.10"
  },
  "varInspector": {
   "cols": {
    "lenName": 16,
    "lenType": 16,
    "lenVar": 40
   },
   "kernels_config": {
    "python": {
     "delete_cmd_postfix": "",
     "delete_cmd_prefix": "del ",
     "library": "var_list.py",
     "varRefreshCmd": "print(var_dic_list())"
    },
    "r": {
     "delete_cmd_postfix": ") ",
     "delete_cmd_prefix": "rm(",
     "library": "var_list.r",
     "varRefreshCmd": "cat(var_dic_list()) "
    }
   },
   "types_to_exclude": [
    "module",
    "function",
    "builtin_function_or_method",
    "instance",
    "_Feature"
   ],
   "window_display": false
  }
 },
 "nbformat": 4,
 "nbformat_minor": 4
}
