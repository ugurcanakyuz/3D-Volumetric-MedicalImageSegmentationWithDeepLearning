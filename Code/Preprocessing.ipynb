{
 "cells": [
  {
   "cell_type": "code",
   "execution_count": null,
   "metadata": {},
   "outputs": [],
   "source": [
    "import os\n",
    "import matplotlib.pyplot as plt\n",
    "import nibabel as nib\n",
    "import numpy as np\n",
    "\n",
    "from modules.Dataset import FeTADataSet\n",
    "from modules.Utils import get_file_names"
   ]
  },
  {
   "cell_type": "code",
   "execution_count": null,
   "metadata": {},
   "outputs": [],
   "source": [
    "def remove_zeros_axial(image, mask):\n",
    "    \"\"\"Remove zero slices in axial orientation. Also permute the axis of mri images. \n",
    "     First axis will be used for axial.\"\"\"\n",
    "\n",
    "    # Permute images axis to get axial view in the first dimension.\n",
    "    image = np.transpose(image, (2, 0, 1))\n",
    "    mask = np.transpose(mask, (2, 0, 1))\n",
    "\n",
    "    # Find zero slices.\n",
    "    indexes = np.where(np.all(np.all(np.array(masks)==False, axis=2), axis=1))[0] \n",
    "    image = np.delete(image, indexes, axis=0)\n",
    "    mask = np.delete(mask, indexes, axis=0) \n",
    "\n",
    "    # Convert images in numpy to nifti.\n",
    "    image = nib.Nifti1Image(image, np.eye(4))\n",
    "    mask = nib.Nifti1Image(mask, np.eye(4))\n",
    "\n",
    "    return image, mask"
   ]
  },
  {
   "cell_type": "code",
   "execution_count": null,
   "metadata": {},
   "outputs": [],
   "source": [
    "def add_padding(image, mask, ax):\n",
    "    \"\"\"Adds zero padding to each dimension of 3D image to complete dimension sizes 128. \n",
    "    \"\"\"\n",
    "    \n",
    "    size = image.shape[ax]\n",
    "    remainder = 128-size\n",
    "    \n",
    "    if remainder%2==0:\n",
    "        pad_ = (remainder//2, remainder//2)\n",
    "    else:\n",
    "        pad_ = (int(np.ceil(remainder/2)), int(np.floor(remainder/2)))\n",
    "        assert pad_[0]+pad_[1]+size==128, pad_[0]+pad_[1]+size\n",
    "    \n",
    "    if ax == 0:\n",
    "        image = np.pad(image, ((pad_[0], pad_[1]), (0, 0), (0, 0)), constant_values=0)\n",
    "        mask = np.pad(mask, ((pad_[0], pad_[1]), (0, 0), (0, 0)), constant_values=0)\n",
    "    elif ax == 1:\n",
    "        image = np.pad(image, ((0, 0), (pad_[0], pad_[1]), (0, 0)), constant_values=0)\n",
    "        mask = np.pad(mask, ((0, 0), (pad_[0], pad_[1]), (0, 0)), constant_values=0)\n",
    "    elif ax == 2:\n",
    "        image = np.pad(image, ((0, 0), (0, 0), (pad_[0], pad_[1])), constant_values=0)\n",
    "        mask = np.pad(mask, ((0, 0), (0, 0), (pad_[0], pad_[1])), constant_values=0)\n",
    "    \n",
    "    return images, masks"
   ]
  },
  {
   "cell_type": "code",
   "execution_count": null,
   "metadata": {},
   "outputs": [],
   "source": [
    "def correct_indexes(indexes):\n",
    "    \"\"\" If brain region size lower than 128 do not remove all zero indexes.\n",
    "    \"\"\"\n",
    "    \n",
    "    for pair in zip(indexes, np.roll(indexes, 1)):\n",
    "        if pair[1]-pair[0]>1 and pair[1]-pair[0]<128:\n",
    "            # indexes = [0, 1, 2, 3, 254, 255, 256]\n",
    "            # x1 = 3, x2 = 254\n",
    "            x1 = pair[0]\n",
    "            x2 = pair[1]\n",
    "                       \n",
    "            x2_index = indexes.tolist().index(x2)  # for example index of 251 is 4 above\n",
    "        \n",
    "            total_zero_indexes = pair[0] + (256-pair[1])\n",
    "            brain_region_size = 256-total_zero_indexes\n",
    "            total_margin = 128 - brain_region_size\n",
    "\n",
    "            pad_start = np.ceil(total_margin/2).astype(int)\n",
    "            pad_end = np.floor(total_margin/2).astype(int)\n",
    "\n",
    "            start_indexes = indexes[:x1][:-pad_start]\n",
    "            end_indexes = indexes[x2_index:][pad_end:]\n",
    "\n",
    "            indexes = np.concatenate((start_indexes, end_indexes))  \n",
    "            \n",
    "    return indexes"
   ]
  },
  {
   "cell_type": "code",
   "execution_count": null,
   "metadata": {},
   "outputs": [],
   "source": [
    "def removes_zeros_all(image, mask):\n",
    "    \"\"\"Remove zero slices in all orientations.\"\"\" \n",
    "\n",
    "    # Find zero slices and remove in axis 0.\n",
    "    indexes = np.where(np.all(np.all(np.array(image)==False, axis=2), axis=1))[0]\n",
    "    indexes = correct_indexes(indexes)\n",
    "    image = np.delete(image, indexes, axis=0)\n",
    "    mask = np.delete(mask, indexes, axis=0)\n",
    "    \n",
    "    ax = 0\n",
    "    if image.shape[ax]<128:\n",
    "        image, mask = add_padding(image, mask, ax)\n",
    "\n",
    "    # Find zero slices and remove in axis 1.\n",
    "    indexes = np.where(np.all(np.all(np.array(image)==False, axis=0), axis=1))[0]\n",
    "    indexes = correct_indexes(indexes)\n",
    "    image = np.delete(image, indexes, axis=1)\n",
    "    mask = np.delete(mask, indexes, axis=1)\n",
    "    \n",
    "    ax = 1\n",
    "    if image.shape[ax]<128:\n",
    "        image, mask = add_padding(image, mask, ax)\n",
    "\n",
    "    # Find zero slices and remove in axis 2.\n",
    "    indexes = np.where(np.all(np.all(np.array(image)==False, axis=1), axis=0))[0]\n",
    "    indexes = correct_indexes(indexes)\n",
    "    image = np.delete(image, indexes, axis=2)\n",
    "    mask = np.delete(mask, indexes, axis=2)\n",
    "    \n",
    "    ax = 2\n",
    "    if image.shape[ax]<128:\n",
    "        image, mask = add_padding(image, mask, ax)\n",
    "\n",
    "    # Convert images in numpy to nifti.\n",
    "    image = nib.Nifti1Image(image, np.eye(4))\n",
    "    mask = nib.Nifti1Image(mask, np.eye(4))\n",
    "    \n",
    "    return image, mask"
   ]
  },
  {
   "cell_type": "code",
   "execution_count": null,
   "metadata": {},
   "outputs": [],
   "source": [
    "def save_data(image, mask, path_image, path_mask):    \n",
    "    # Only change the main folder name. Rest of the paths will be same.\n",
    "    new_path_image = os.path.join(\"data7\", *path_image.split(os.sep)[1:])\n",
    "    new_path_mask = os.path.join(\"data7\", *path_mask.split(os.sep)[1:])\n",
    "\n",
    "    # Create sub path.\n",
    "    new_folder_path = os.path.join(*new_path_image.split(os.sep)[:-1])\n",
    "    if not os.path.exists(new_folder_path):\n",
    "        os.makedirs(new_folder_path)\n",
    "\n",
    "    # Save new paths.\n",
    "    nib.save(image, new_path_image)\n",
    "    nib.save(mask, new_path_mask)   "
   ]
  },
  {
   "cell_type": "code",
   "execution_count": null,
   "metadata": {
    "scrolled": true
   },
   "outputs": [],
   "source": [
    "files = get_file_names(\"feta_2.1/\")\n",
    "\n",
    "for sub, (path_image, path_mask) in files.items():\n",
    "    print(sub)\n",
    "    # Load nifti images.\n",
    "    image = nib.load(path_image).get_fdata()\n",
    "    mask = nib.load(path_mask).get_fdata()\n",
    "    \n",
    "    # new_image, new_mask =  remove_zeros_axial(image, mask)\n",
    "    new_image, new_mask = removes_zeros_all(image, mask)\n",
    "    save_data(new_image, new_mask, path_image, path_mask)"
   ]
  },
  {
   "cell_type": "code",
   "execution_count": null,
   "metadata": {},
   "outputs": [],
   "source": [
    "files = get_file_names(\"data2\")\n",
    "shapes = {'x':[], 'y':[], 'z':[]}\n",
    "\n",
    "for sub, (path_image, path_mask) in files.items():\n",
    "    # Load nifti images.\n",
    "    images = nib.load(path_image).get_fdata()\n",
    "    \n",
    "    x1, y1, z1 = images.shape\n",
    "    shapes['x'].append(x1)\n",
    "    shapes['y'].append(y1)\n",
    "    shapes['z'].append(z1)\n",
    "    \n",
    "\n",
    "print(f\"x: {min(shapes['x'])}, y: {min(shapes['y'])}, z: {min(shapes['z'])}\")"
   ]
  },
  {
   "cell_type": "code",
   "execution_count": null,
   "metadata": {},
   "outputs": [],
   "source": [
    "files = get_file_names(\"feta_2.1/\")\n",
    "images = nib.load(files[\"sub-013\"][0]).get_fdata()\n",
    "masks = nib.load(files[\"sub-013\"][1]).get_fdata()\n",
    "_, ax = plt.subplots(1, 2, figsize=(8, 8))\n",
    "idx = 103\n",
    "ax[0].imshow(images[:, :, idx])\n",
    "ax[1].imshow(masks[:, :, idx])"
   ]
  },
  {
   "cell_type": "code",
   "execution_count": null,
   "metadata": {},
   "outputs": [],
   "source": [
    "files = get_file_names(\"data2\")\n",
    "images = nib.load(files[\"sub-013\"][0]).get_fdata()\n",
    "masks = nib.load(files[\"sub-013\"][1]).get_fdata()\n",
    "_, ax = plt.subplots(1, 2, figsize=(8, 8))\n",
    "idx = 100\n",
    "ax[0].imshow(images[:, :, idx])\n",
    "ax[1].imshow(masks[:, :, idx])"
   ]
  },
  {
   "cell_type": "code",
   "execution_count": null,
   "metadata": {},
   "outputs": [],
   "source": []
  }
 ],
 "metadata": {
  "kernelspec": {
   "display_name": "cv4py3",
   "language": "python",
   "name": "cv4py3"
  },
  "language_info": {
   "codemirror_mode": {
    "name": "ipython",
    "version": 3
   },
   "file_extension": ".py",
   "mimetype": "text/x-python",
   "name": "python",
   "nbconvert_exporter": "python",
   "pygments_lexer": "ipython3",
   "version": "3.8.10"
  },
  "toc": {
   "base_numbering": 1,
   "nav_menu": {},
   "number_sections": true,
   "sideBar": true,
   "skip_h1_title": false,
   "title_cell": "Table of Contents",
   "title_sidebar": "Contents",
   "toc_cell": false,
   "toc_position": {},
   "toc_section_display": true,
   "toc_window_display": false
  },
  "varInspector": {
   "cols": {
    "lenName": 16,
    "lenType": 16,
    "lenVar": 40
   },
   "kernels_config": {
    "python": {
     "delete_cmd_postfix": "",
     "delete_cmd_prefix": "del ",
     "library": "var_list.py",
     "varRefreshCmd": "print(var_dic_list())"
    },
    "r": {
     "delete_cmd_postfix": ") ",
     "delete_cmd_prefix": "rm(",
     "library": "var_list.r",
     "varRefreshCmd": "cat(var_dic_list()) "
    }
   },
   "types_to_exclude": [
    "module",
    "function",
    "builtin_function_or_method",
    "instance",
    "_Feature"
   ],
   "window_display": false
  }
 },
 "nbformat": 4,
 "nbformat_minor": 4
}
