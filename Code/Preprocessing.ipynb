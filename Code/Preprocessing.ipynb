{
 "cells": [
  {
   "cell_type": "code",
   "execution_count": 1,
   "metadata": {},
   "outputs": [],
   "source": [
    "import os\n",
    "import nibabel as nib\n",
    "import numpy as np\n",
    "\n",
    "from modules.Dataset import FeTADataSet\n",
    "from modules.Utils import get_file_names"
   ]
  },
  {
   "cell_type": "code",
   "execution_count": 2,
   "metadata": {},
   "outputs": [],
   "source": [
    "\"\"\" Remove zero slices in axial orientation. Also permute the axis of mri images. First axis will be used for axial.\n",
    "\"\"\"\n",
    "\n",
    "files = get_file_names(\"feta_2.1/\")\n",
    "\n",
    "for sub, (path_image, path_mask) in files.items():\n",
    "        # Load nifti images.\n",
    "        images = nib.load(path_image).get_fdata()\n",
    "        masks = nib.load(path_mask).get_fdata()\n",
    "        \n",
    "        # Permute images axis to get axial view in the first dimension.\n",
    "        images = np.transpose(images, (2, 0, 1))\n",
    "        masks = np.transpose(masks, (2, 0, 1))\n",
    "        \n",
    "        # Find zero slices.\n",
    "        indexes = np.where(np.all(np.all(np.array(masks)==False, axis=2)==True, axis=1))[0] \n",
    "        images = np.delete(images, indexes, axis=0)\n",
    "        masks = np.delete(masks, indexes, axis=0) \n",
    "        \n",
    "        # Convert images in numpy to nifti.\n",
    "        images = nib.Nifti1Image(images, np.eye(4))\n",
    "        masks = nib.Nifti1Image(masks, np.eye(4))\n",
    "        \n",
    "        # Only change the main folder name. Rest of the paths will be same.\n",
    "        new_path_image = os.path.join(\"data\", *path_image.split('/')[1:])\n",
    "        new_path_mask = os.path.join(\"data\", *path_mask.split('/')[1:])\n",
    "        \n",
    "        # Create sub path.\n",
    "        new_folder_path = os.path.join(*new_path_image.split('/')[:-1])\n",
    "        if not os.path.exists(new_folder_path):\n",
    "            os.makedirs(new_folder_path)\n",
    "        \n",
    "        # Save new paths.\n",
    "        nib.save(images, new_path_image)\n",
    "        nib.save(masks, new_path_mask)\n",
    "        "
   ]
  },
  {
   "cell_type": "code",
   "execution_count": null,
   "metadata": {},
   "outputs": [],
   "source": [
    "val = FeTADataSet(\"val\", path=\"data/\", transform=None)"
   ]
  },
  {
   "cell_type": "code",
   "execution_count": null,
   "metadata": {},
   "outputs": [],
   "source": [
    "im = train[0][0]\n",
    "mask = train[0][1]"
   ]
  },
  {
   "cell_type": "code",
   "execution_count": 2,
   "metadata": {},
   "outputs": [],
   "source": []
  },
  {
   "cell_type": "code",
   "execution_count": null,
   "metadata": {},
   "outputs": [],
   "source": [
    "def convert_to_tuple(dataset):\n",
    "    new_dataset = ()\n",
    "    \n",
    "    for i in range(len(dataset)):\n",
    "        data = tuple(zip(dataset[i][0], dataset[i][1]))\n",
    "        new_dataset += data\n",
    "        \n",
    "    return new_dataset"
   ]
  },
  {
   "cell_type": "code",
   "execution_count": null,
   "metadata": {},
   "outputs": [],
   "source": [
    "x = convert_to_tuple(val)"
   ]
  },
  {
   "cell_type": "code",
   "execution_count": null,
   "metadata": {},
   "outputs": [],
   "source": []
  }
 ],
 "metadata": {
  "kernelspec": {
   "display_name": "cv4py3",
   "language": "python",
   "name": "cv4py3"
  },
  "language_info": {
   "codemirror_mode": {
    "name": "ipython",
    "version": 3
   },
   "file_extension": ".py",
   "mimetype": "text/x-python",
   "name": "python",
   "nbconvert_exporter": "python",
   "pygments_lexer": "ipython3",
   "version": "3.8.10"
  },
  "toc": {
   "base_numbering": 1,
   "nav_menu": {},
   "number_sections": true,
   "sideBar": true,
   "skip_h1_title": false,
   "title_cell": "Table of Contents",
   "title_sidebar": "Contents",
   "toc_cell": false,
   "toc_position": {},
   "toc_section_display": true,
   "toc_window_display": false
  },
  "varInspector": {
   "cols": {
    "lenName": 16,
    "lenType": 16,
    "lenVar": 40
   },
   "kernels_config": {
    "python": {
     "delete_cmd_postfix": "",
     "delete_cmd_prefix": "del ",
     "library": "var_list.py",
     "varRefreshCmd": "print(var_dic_list())"
    },
    "r": {
     "delete_cmd_postfix": ") ",
     "delete_cmd_prefix": "rm(",
     "library": "var_list.r",
     "varRefreshCmd": "cat(var_dic_list()) "
    }
   },
   "types_to_exclude": [
    "module",
    "function",
    "builtin_function_or_method",
    "instance",
    "_Feature"
   ],
   "window_display": false
  }
 },
 "nbformat": 4,
 "nbformat_minor": 4
}
