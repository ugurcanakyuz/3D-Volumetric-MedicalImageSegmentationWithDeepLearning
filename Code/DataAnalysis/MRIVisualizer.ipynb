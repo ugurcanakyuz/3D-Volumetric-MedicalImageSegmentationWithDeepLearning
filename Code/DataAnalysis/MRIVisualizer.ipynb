{
 "cells": [
  {
   "cell_type": "markdown",
   "metadata": {
    "lang": "en"
   },
   "source": [
    "# Data\n",
    "\n",
    "This notebook was created for machine learning research on FeTA2.1 dataset. [\"The dataset facilitates the development of novel machine-learning and deep-learning based multi-class segmentation methods for the quantification of brain development on fetal MRI. The ultimate goal is to capture pathological developmental trajectories by the automated quantification of the prenatal development, for which automated approaches free of observer bias are indispensable.\"](http://neuroimaging.ch/feta) Some brief information about the labels can be found below. For more information, please follow the links in the notes.\n",
    "\n",
    "| dHCP label | Name | Notes |\n",
    "| :- | -: | :-: |\n",
    "| Label 1 | Intracranial space and extra-axial CSF spaces | Cerebrospinal fluid (CSF) is a clear, colorless body fluid found within the tissue that surrounds the brain and spinal cord of all vertebrates.[[1]](https://en.wikipedia.org/wiki/Cerebrospinal_fluid) \n",
    "| Label 2 | Gray Matter | Grey matter (or gray matter) is a major component of the central nervous system, consisting of neuronal cell bodies, neuropil (dendrites and unmyelinated axons), glial cells (astrocytes and oligodendrocytes), synapses, and capillaries.[[2]](https://en.wikipedia.org/wiki/Grey_matter) \n",
    "| Label 3 | White Matter | White matter refers to areas of the central nervous system (CNS) that are mainly made up of myelinated axons, also called tracts. [[3]](https://en.wikipedia.org/wiki/White_matter)\n",
    "| Label 4 | Ventricles | The ventricles are structures that produce cerebrospinal fluid, and transport it around the cranial cavity. [[4]](https://teachmeanatomy.info/neuroanatomy/vessels/ventricles/)\n",
    "| Label 5 | Cerebellum | The cerebellum (which is Latin for “little brain”) is a major structure of the hindbrain that is located near the brainstem. This part of the brain is responsible for coordinating voluntary movements. It is also responsible for a number of functions including motor skills such as balance, coordination, and posture. [[5]](https://www.verywellmind.com/what-is-the-cerebellum-2794964)\n",
    "| Label 6 | Deep gray matter | Grey matter is classed as either superficial or deep. The superficial grey matter, also called brain cortex, is on the outside of the brain. The deep grey matter is made up of neurons from which originate deep nerve fibres. These neurons tend to form clumps of basal nuclei.[[6]](https://www.msif.org/news/2014/12/16/role-deep-grey-matter-brain-plays-ms/)\n",
    "| Label 7 | Brainstem and spinal cord| The brainstem (or brain stem) is the posterior stalk-like part of the brain that connects the cerebrum with the spinal cord. [[7]](https://en.wikipedia.org/wiki/Brainstem)\n",
    "\n",
    "<br><br>\n",
    "\n",
    "![Structure of the brain](notebook_images/brain2.jpg \"Structure of the brain 1.\")\n",
    "<br><p><center>Structure of the brain 1.<a href=\"https://www.kenhub.com/en/library/learning-strategies/parts-of-the-brain-learn-with-diagrams-and-quizzes\">[8]</a></center></p>\n",
    "<br><br>\n",
    "\n",
    "![Structure of the brain](notebook_images/brain3.jpg \"Structure of the brain 2.\")\n",
    "<br><p><center>Structure of the brain 2.<a href=\"https://www.researchgate.net/publication/224283818_Patientoriented_simulation_based_on_Monte_Carlo_algorithm_by_using_MRI_data\">[9]</a></center></p>\n",
    "<br><br>\n",
    "<font> sub-007 and sub-008 in FeTA dataset are spina bifida cases. [See reference.](https://arxiv.org/abs/2111.02408)</font> <font color=\"red\" size=\"3\"> !</font>\n",
    "<br><br>\n",
    "<p>* dHCP dataset has been added and new details will be added.</p>\n",
    "<br><br>"
   ]
  },
  {
   "cell_type": "code",
   "execution_count": 1,
   "metadata": {
    "ExecuteTime": {
     "end_time": "2021-12-01T07:57:29.929850Z",
     "start_time": "2021-12-01T07:57:29.923373Z"
    }
   },
   "outputs": [],
   "source": [
    "import glob\n",
    "import json\n",
    "import os\n",
    "import sys\n",
    "sys.path.append(os.path.abspath('..'))\n",
    "\n",
    "import matplotlib.pyplot as plt\n",
    "import nibabel as nib\n",
    "import pandas as pd\n",
    "from ipywidgets import fixed, interactive\n",
    "\n",
    "from modules.Visualization import Visualization\n",
    "from modules.Utils import create_patch_indexes\n",
    "from modules.Utils import get_file_names"
   ]
  },
  {
   "cell_type": "code",
   "execution_count": 2,
   "metadata": {},
   "outputs": [],
   "source": [
    "def show_data(folder, meta_data, subject):\n",
    "    \"\"\"Shows the data with interactive IPython widgets.\n",
    "    \n",
    "    Parameters\n",
    "    ------------\n",
    "    subject: str\n",
    "        Name (number) of the subject like sub-040.\n",
    "    meta_data: pandas.core.frame.DataFrame\n",
    "        Meta data of the subject.\n",
    "        \n",
    "    Returns\n",
    "    -------\n",
    "    None\n",
    "    \"\"\"\n",
    "    \n",
    "    visualization = Visualization(folder)\n",
    "    interactive_plot = interactive(visualization.draw_layout,\n",
    "                                   index=(0, 255),\n",
    "                                   sub_name = fixed(subject),\n",
    "                                   orientation=[\"axial\", \"coronal\", \"sagittal\"])\n",
    "    \n",
    "    #output = interactive_plot.children[-1]\n",
    "    display(meta_data)\n",
    "    display(interactive_plot)"
   ]
  },
  {
   "cell_type": "code",
   "execution_count": 3,
   "metadata": {
    "ExecuteTime": {
     "end_time": "2021-12-01T07:59:53.610063Z",
     "start_time": "2021-12-01T07:59:53.606696Z"
    }
   },
   "outputs": [],
   "source": [
    "dhcp = '..\\\\Data\\\\rel3_dhcp_anat_pipeline\\\\'\n",
    "feta = '..\\\\Data\\\\feta_processed\\\\'\n",
    "folder = feta\n",
    "meta_file = 'participants.tsv'\n",
    "\n",
    "subjects_meta = pd.read_csv(os.path.join(folder, meta_file), sep='\\t')\n",
    "subjects = subjects_meta.participant_id.to_list()"
   ]
  },
  {
   "cell_type": "code",
   "execution_count": 4,
   "metadata": {
    "scrolled": false
   },
   "outputs": [
    {
     "data": {
      "text/html": [
       "<div>\n",
       "<style scoped>\n",
       "    .dataframe tbody tr th:only-of-type {\n",
       "        vertical-align: middle;\n",
       "    }\n",
       "\n",
       "    .dataframe tbody tr th {\n",
       "        vertical-align: top;\n",
       "    }\n",
       "\n",
       "    .dataframe thead th {\n",
       "        text-align: right;\n",
       "    }\n",
       "</style>\n",
       "<table border=\"1\" class=\"dataframe\">\n",
       "  <thead>\n",
       "    <tr style=\"text-align: right;\">\n",
       "      <th></th>\n",
       "      <th>participant_id</th>\n",
       "      <th>Pathology</th>\n",
       "      <th>Gestational age</th>\n",
       "    </tr>\n",
       "  </thead>\n",
       "  <tbody>\n",
       "    <tr>\n",
       "      <th>32</th>\n",
       "      <td>sub-033</td>\n",
       "      <td>Neurotypical</td>\n",
       "      <td>30.0</td>\n",
       "    </tr>\n",
       "  </tbody>\n",
       "</table>\n",
       "</div>"
      ],
      "text/plain": [
       "   participant_id     Pathology  Gestational age\n",
       "32        sub-033  Neurotypical             30.0"
      ]
     },
     "metadata": {},
     "output_type": "display_data"
    },
    {
     "data": {
      "application/vnd.jupyter.widget-view+json": {
       "model_id": "e004fe9c4cd84333a7fd6c4292caa021",
       "version_major": 2,
       "version_minor": 0
      },
      "text/plain": [
       "interactive(children=(IntSlider(value=127, description='index', max=255), Dropdown(description='orientation', …"
      ]
     },
     "metadata": {},
     "output_type": "display_data"
    }
   ],
   "source": [
    "# There are 80 subjects.\n",
    "# 3, 7, 14, 15, 16, 19, 20 and 21\n",
    "subject = subjects[32]\n",
    "meta_data = subjects_meta[subjects_meta[\"participant_id\"] == subject]\n",
    "show_data(folder, meta_data, subject)"
   ]
  },
  {
   "cell_type": "code",
   "execution_count": null,
   "metadata": {
    "scrolled": false
   },
   "outputs": [],
   "source": []
  },
  {
   "cell_type": "code",
   "execution_count": null,
   "metadata": {},
   "outputs": [],
   "source": []
  },
  {
   "cell_type": "code",
   "execution_count": null,
   "metadata": {},
   "outputs": [],
   "source": []
  }
 ],
 "metadata": {
  "kernelspec": {
   "display_name": "pytorch",
   "language": "python",
   "name": "pytorch"
  },
  "language_info": {
   "codemirror_mode": {
    "name": "ipython",
    "version": 3
   },
   "file_extension": ".py",
   "mimetype": "text/x-python",
   "name": "python",
   "nbconvert_exporter": "python",
   "pygments_lexer": "ipython3",
   "version": "3.10.7"
  },
  "nbTranslate": {
   "displayLangs": [
    "tr"
   ],
   "hotkey": "alt-t",
   "langInMainMenu": true,
   "sourceLang": "en",
   "targetLang": "tr",
   "useGoogleTranslate": true
  },
  "toc": {
   "base_numbering": 1,
   "nav_menu": {},
   "number_sections": true,
   "sideBar": true,
   "skip_h1_title": false,
   "title_cell": "Table of Contents",
   "title_sidebar": "Contents",
   "toc_cell": false,
   "toc_position": {},
   "toc_section_display": true,
   "toc_window_display": false
  },
  "varInspector": {
   "cols": {
    "lenName": 16,
    "lenType": 16,
    "lenVar": 40
   },
   "kernels_config": {
    "python": {
     "delete_cmd_postfix": "",
     "delete_cmd_prefix": "del ",
     "library": "var_list.py",
     "varRefreshCmd": "print(var_dic_list())"
    },
    "r": {
     "delete_cmd_postfix": ") ",
     "delete_cmd_prefix": "rm(",
     "library": "var_list.r",
     "varRefreshCmd": "cat(var_dic_list()) "
    }
   },
   "oldHeight": 397.85,
   "position": {
    "height": "575.85px",
    "left": "609px",
    "right": "20px",
    "top": "136px",
    "width": "769px"
   },
   "types_to_exclude": [
    "module",
    "function",
    "builtin_function_or_method",
    "instance",
    "_Feature"
   ],
   "varInspector_section_display": "block",
   "window_display": false
  }
 },
 "nbformat": 4,
 "nbformat_minor": 4
}
