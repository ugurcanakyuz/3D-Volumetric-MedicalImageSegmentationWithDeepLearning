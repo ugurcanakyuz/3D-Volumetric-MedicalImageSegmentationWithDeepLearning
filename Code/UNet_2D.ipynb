{
 "cells": [
  {
   "cell_type": "code",
   "execution_count": null,
   "metadata": {},
   "outputs": [],
   "source": [
    "import os\n",
    "\n",
    "import matplotlib.pyplot as plt\n",
    "import numpy as np\n",
    "import pandas as pd\n",
    "import torch\n",
    "import torch.nn as nn\n",
    "import torch.nn.functional as F\n",
    "import torchio as tio\n",
    "from torchsummary import summary\n",
    "import torchvision\n",
    "import torchvision.transforms as transforms\n",
    "\n",
    "\n",
    "from modules.Dataset import FeTADataSet\n",
    "from modules.LossFunctions import GDiceLossV2\n",
    "from modules.UNet import UNet2Dv2\n",
    "from modules.Utils import create_onehot_mask\n",
    "\n",
    "import segmentation_models_pytorch as smp"
   ]
  },
  {
   "cell_type": "code",
   "execution_count": null,
   "metadata": {},
   "outputs": [],
   "source": [
    "device = torch.device('cuda' if torch.cuda.is_available() else 'cpu')\n",
    "\n",
    "# Hyper-parameters \n",
    "num_epochs = 500\n",
    "batch_size_ = 1\n",
    "learning_rate = 0.1\n",
    "weight_path = \"weights/UNet2D\"\n",
    "shape = (256, 256, 256)"
   ]
  },
  {
   "cell_type": "code",
   "execution_count": null,
   "metadata": {},
   "outputs": [],
   "source": [
    "labels = pd.read_csv(\"feta_2.1/dseg.tsv\", sep='\\t', index_col=\"index\")\n",
    "\n",
    "transform_ = transforms.Compose([tio.ZNormalization(masking_method=tio.ZNormalization.mean)])\n",
    "\n",
    "train = FeTADataSet(train=True, transform=transform_)\n",
    "test = FeTADataSet(train=False, transform=transform_)\n",
    "\n",
    "train_loader = torch.utils.data.DataLoader(dataset=train, batch_size=batch_size_)\n",
    "test_loader = torch.utils.data.DataLoader(dataset=test, batch_size=batch_size_)"
   ]
  },
  {
   "cell_type": "code",
   "execution_count": null,
   "metadata": {},
   "outputs": [],
   "source": [
    "model = UNet2Dv2().to(device)\n",
    "#print(summary(model, input_size=(1, 64, 64)))\n",
    "\n",
    "criterion = GDiceLossV2()\n",
    "optimizer = torch.optim.SGD(model.parameters(), lr=learning_rate)\n",
    "\n",
    "n_total_steps = len(train_loader)"
   ]
  },
  {
   "cell_type": "code",
   "execution_count": null,
   "metadata": {},
   "outputs": [],
   "source": [
    "for epoch in range(num_epochs):\n",
    "    for i, (image, mask) in enumerate(train_loader):\n",
    "        image = image.to(device) #[bs,x,y,z]        \n",
    "        mask = mask.to(device) #[x,y,z]\n",
    "                \n",
    "        for slice_ix in range(image.shape[1]):\n",
    "            slice_image = image[0, :, :, slice_ix].view(1, 1, 256, 256) #to get axial slice [:, :, index]\n",
    "            slice_mask = mask[0, :, :, slice_ix].view(1, 1, 256, 256)\n",
    "            \n",
    "            unique, counts = torch.unique(slice_mask, return_counts=True) \n",
    "\n",
    "            # if the label count below the 16 pixel don't train with it.            \n",
    "            if torch.any(counts[1:]>16):                \n",
    "                outputs = model(slice_image.float())\n",
    "\n",
    "                one_hot_mask = create_onehot_mask(outputs.shape, slice_mask, device)\n",
    "                loss = criterion(outputs, one_hot_mask)\n",
    "                \n",
    "                optimizer.zero_grad()\n",
    "                loss.backward()\n",
    "                optimizer.step()\n",
    "                \n",
    "        print(f'Epoch [{epoch+1}/{num_epochs}], Step [{i+1}/{n_total_steps}], Loss: {loss.item()}')\n",
    "        \n",
    "        if (i+1) % 5 == 0:            \n",
    "            torch.save(model.state_dict(), os.path.join(weight_path, \"model.pth\"))\n",
    "\n",
    "print('Finished Training')"
   ]
  },
  {
   "cell_type": "code",
   "execution_count": null,
   "metadata": {},
   "outputs": [],
   "source": []
  },
  {
   "cell_type": "code",
   "execution_count": null,
   "metadata": {},
   "outputs": [],
   "source": []
  },
  {
   "cell_type": "code",
   "execution_count": null,
   "metadata": {},
   "outputs": [],
   "source": []
  }
 ],
 "metadata": {
  "kernelspec": {
   "display_name": "cv4py3",
   "language": "python",
   "name": "cv4py3"
  },
  "language_info": {
   "codemirror_mode": {
    "name": "ipython",
    "version": 3
   },
   "file_extension": ".py",
   "mimetype": "text/x-python",
   "name": "python",
   "nbconvert_exporter": "python",
   "pygments_lexer": "ipython3",
   "version": "3.8.10"
  },
  "toc": {
   "base_numbering": 1,
   "nav_menu": {},
   "number_sections": true,
   "sideBar": true,
   "skip_h1_title": false,
   "title_cell": "Table of Contents",
   "title_sidebar": "Contents",
   "toc_cell": false,
   "toc_position": {},
   "toc_section_display": true,
   "toc_window_display": false
  },
  "varInspector": {
   "cols": {
    "lenName": 16,
    "lenType": 16,
    "lenVar": 40
   },
   "kernels_config": {
    "python": {
     "delete_cmd_postfix": "",
     "delete_cmd_prefix": "del ",
     "library": "var_list.py",
     "varRefreshCmd": "print(var_dic_list())"
    },
    "r": {
     "delete_cmd_postfix": ") ",
     "delete_cmd_prefix": "rm(",
     "library": "var_list.r",
     "varRefreshCmd": "cat(var_dic_list()) "
    }
   },
   "types_to_exclude": [
    "module",
    "function",
    "builtin_function_or_method",
    "instance",
    "_Feature"
   ],
   "window_display": false
  }
 },
 "nbformat": 4,
 "nbformat_minor": 4
}
