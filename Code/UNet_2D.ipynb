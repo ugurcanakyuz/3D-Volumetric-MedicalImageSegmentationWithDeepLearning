{
 "cells": [
  {
   "cell_type": "code",
   "execution_count": 1,
   "metadata": {},
   "outputs": [
    {
     "ename": "RuntimeError",
     "evalue": "KeyboardInterrupt: ",
     "output_type": "error",
     "traceback": [
      "\u001b[0;31m---------------------------------------------------------------------------\u001b[0m",
      "\u001b[0;31mRuntimeError\u001b[0m                              Traceback (most recent call last)",
      "\u001b[0;32m/tmp/ipykernel_3075658/3154954664.py\u001b[0m in \u001b[0;36m<module>\u001b[0;34m\u001b[0m\n\u001b[1;32m      4\u001b[0m \u001b[0;32mimport\u001b[0m \u001b[0mnumpy\u001b[0m \u001b[0;32mas\u001b[0m \u001b[0mnp\u001b[0m\u001b[0;34m\u001b[0m\u001b[0;34m\u001b[0m\u001b[0m\n\u001b[1;32m      5\u001b[0m \u001b[0;32mimport\u001b[0m \u001b[0mpandas\u001b[0m \u001b[0;32mas\u001b[0m \u001b[0mpd\u001b[0m\u001b[0;34m\u001b[0m\u001b[0;34m\u001b[0m\u001b[0m\n\u001b[0;32m----> 6\u001b[0;31m \u001b[0;32mimport\u001b[0m \u001b[0mtorch\u001b[0m\u001b[0;34m\u001b[0m\u001b[0;34m\u001b[0m\u001b[0m\n\u001b[0m\u001b[1;32m      7\u001b[0m \u001b[0;32mimport\u001b[0m \u001b[0mtorch\u001b[0m\u001b[0;34m.\u001b[0m\u001b[0mnn\u001b[0m \u001b[0;32mas\u001b[0m \u001b[0mnn\u001b[0m\u001b[0;34m\u001b[0m\u001b[0;34m\u001b[0m\u001b[0m\n\u001b[1;32m      8\u001b[0m \u001b[0;32mimport\u001b[0m \u001b[0mtorch\u001b[0m\u001b[0;34m.\u001b[0m\u001b[0mnn\u001b[0m\u001b[0;34m.\u001b[0m\u001b[0mfunctional\u001b[0m \u001b[0;32mas\u001b[0m \u001b[0mF\u001b[0m\u001b[0;34m\u001b[0m\u001b[0;34m\u001b[0m\u001b[0m\n",
      "\u001b[0;32m~/Programming/Python/Envs/pytorch/lib/python3.8/site-packages/torch/__init__.py\u001b[0m in \u001b[0;36m<module>\u001b[0;34m\u001b[0m\n\u001b[1;32m    195\u001b[0m     \u001b[0;32mif\u001b[0m \u001b[0mUSE_GLOBAL_DEPS\u001b[0m\u001b[0;34m:\u001b[0m\u001b[0;34m\u001b[0m\u001b[0;34m\u001b[0m\u001b[0m\n\u001b[1;32m    196\u001b[0m         \u001b[0m_load_global_deps\u001b[0m\u001b[0;34m(\u001b[0m\u001b[0;34m)\u001b[0m\u001b[0;34m\u001b[0m\u001b[0;34m\u001b[0m\u001b[0m\n\u001b[0;32m--> 197\u001b[0;31m     \u001b[0;32mfrom\u001b[0m \u001b[0mtorch\u001b[0m\u001b[0;34m.\u001b[0m\u001b[0m_C\u001b[0m \u001b[0;32mimport\u001b[0m \u001b[0;34m*\u001b[0m  \u001b[0;31m# noqa: F403\u001b[0m\u001b[0;34m\u001b[0m\u001b[0;34m\u001b[0m\u001b[0m\n\u001b[0m\u001b[1;32m    198\u001b[0m \u001b[0;34m\u001b[0m\u001b[0m\n\u001b[1;32m    199\u001b[0m \u001b[0;31m# Appease the type checker; ordinarily this binding is inserted by the\u001b[0m\u001b[0;34m\u001b[0m\u001b[0;34m\u001b[0m\u001b[0;34m\u001b[0m\u001b[0m\n",
      "\u001b[0;31mRuntimeError\u001b[0m: KeyboardInterrupt: "
     ]
    }
   ],
   "source": [
    "import os\n",
    "\n",
    "import matplotlib.pyplot as plt\n",
    "import numpy as np\n",
    "import pandas as pd\n",
    "import torch\n",
    "import torch.nn as nn\n",
    "import torch.nn.functional as F\n",
    "import torchio as tio\n",
    "from torchsummary import summary\n",
    "import torchvision\n",
    "import torchvision.transforms as transforms\n",
    "\n",
    "\n",
    "from modules import Evaluator2D, Dataset, MRIDataset, MRIDatasets, Trainer2D, UNet2D\n",
    "from modules.LossFunctions import DC_and_CE_loss, GDiceLossV2\n",
    "from modules.Tensorboard import TensorboardModules\n",
    "from modules.Utils import *"
   ]
  },
  {
   "cell_type": "code",
   "execution_count": null,
   "metadata": {},
   "outputs": [],
   "source": [
    "device = torch.device('cuda' if torch.cuda.is_available() else 'cpu')\n",
    "\n",
    "# Hyper-parameters\n",
    "params = {\"total_epochs\": 100,\n",
    "          \"batch_size\": 1,\n",
    "          \"SGD\": {\"lr\": 1e-01, \"momentum\": 0.9, \"nesterov\": True},\n",
    "          #\"AdamW\": {\"lr\": 1e-01, \"betas\":(0.9, 0.999), \"eps\": 1e-8},       \n",
    "          \"ES\":{\"patience\": 20, \"min_delta\": 1e-03},\n",
    "          \"CLR\":{\"base\": 1e-05, \"max\": 1e-02, \"up\": 3, \"down\": 5, \"mode\": \"triangular2\"},\n",
    "          #\"SLR\":{'step_size': 13, \"gamma\": 1e-1}          \n",
    "         }\n",
    "\n",
    "output_path = \"output/UNet2D/Iteration1/run1\"\n",
    "weight_path = os.path.join(output_path, \"weights/\")"
   ]
  },
  {
   "cell_type": "code",
   "execution_count": null,
   "metadata": {},
   "outputs": [],
   "source": [
    "# There are multiple data folders belong to same dataset. Each of them processed in different ways.\n",
    "# Therefore, path of the data and its name explicitly are defined.\n",
    "dataset_train = MRIDatasets.FeTA_BalancedDistribution\n",
    "dataset_path_train = os.path.join('data', 'feta_2.1')\n",
    "dataset_val = MRIDatasets.FeTA_BalancedDistribution\n",
    "dataset_path_val = os.path.join('data', 'feta_2.1')\n",
    "\n",
    "#cv_ = \"cv3\" # 5-fold cross-validation. Folds [cv1-cv5]\n",
    "\n",
    "# Transformations.\n",
    "transform_train = transforms.Compose([tio.RandomMotion(), tio.RandomNoise(), \n",
    "                                      tio.RandomAffine(degrees=[15], isotropic=True)])\n",
    "\n",
    "transform_eval = None # transforms.Compose([Mask()])\n",
    "\n",
    "\n",
    "# Split dataset.\n",
    "train = MRIDataset(dataset_train, \"train\", dataset_path_train, transform=transform_train)\n",
    "val = MRIDataset(dataset_val, \"val\", dataset_path_val, transform=transform_eval)\n",
    "test = MRIDataset(dataset_val, \"test\", dataset_path_val, transform=transform_eval)\n",
    "\n",
    "torch.manual_seed(0)\n",
    "train_loader = torch.utils.data.DataLoader(dataset=train, batch_size=params[\"batch_size\"], num_workers=0, shuffle=True)\n",
    "val_loader = torch.utils.data.DataLoader(dataset=val, batch_size=params[\"batch_size\"])\n",
    "test_loader = torch.utils.data.DataLoader(dataset=test, batch_size=params[\"batch_size\"])\n",
    "\n",
    "# Add dataset configuration to parameters to save them as meta data.\n",
    "params[\"dataset_train\"] = dataset_train.name\n",
    "params[\"dataset_path_train\"] = dataset_path_train\n",
    "params[\"dataset_val\"] = dataset_val.name\n",
    "params[\"dataset_path_val\"] = dataset_path_val\n",
    "#params[\"cross_validation\"] = \"None\" if not cv_ else cv_\n",
    "params[\"transform_train\"] = \"None\" if not transform_train else str(transform_train.transforms)\n",
    "params[\"transform_eval\"] = \"None\" if not transform_eval else str(transform_eval.transforms)"
   ]
  },
  {
   "cell_type": "code",
   "execution_count": null,
   "metadata": {},
   "outputs": [],
   "source": [
    "model = UNet2D().to(device)\n",
    "criterion = DC_and_CE_loss({'batch_dice': True, 'smooth': 1e-5, 'do_bg': False, 'square': False}, {})\n",
    "pretrained = False\n",
    "\n",
    "# Initalize weights or load already trained model.\n",
    "if not pretrained:\n",
    "    model.apply(init_weights_kaiming)\n",
    "    params[\"initial_weights\"] = init_weights_kaiming.__name__\n",
    "else:\n",
    "    model_path = \"output/UNet3D/Iteration9/run8/weights/32_model.pth\"\n",
    "    model.load_state_dict(torch.load(model_path))\n",
    "    params[\"initial_weights\"] = model_path"
   ]
  },
  {
   "cell_type": "code",
   "execution_count": null,
   "metadata": {},
   "outputs": [],
   "source": [
    "#print(summary(model, input_size=(1, 128, 128, 128)))"
   ]
  },
  {
   "cell_type": "code",
   "execution_count": null,
   "metadata": {
    "scrolled": true
   },
   "outputs": [],
   "source": [
    "optimizer = torch.optim.SGD(model.parameters(), lr=params[\"SGD\"][\"lr\"], \n",
    "                            momentum=params[\"SGD\"][\"momentum\"], nesterov=params[\"SGD\"][\"nesterov\"])\n",
    "\n",
    "# optimizer = torch.optim.AdamW(model.parameters(), lr=params[\"AdamW\"][\"lr\"], \n",
    "#                              betas=params[\"AdamW\"][\"betas\"], eps=params[\"AdamW\"][\"eps\"])\n",
    "\n",
    "\n",
    "scheduler = torch.optim.lr_scheduler.CyclicLR(optimizer, base_lr=params[\"CLR\"][\"base\"], \n",
    "                                              max_lr=params[\"CLR\"][\"max\"],\n",
    "                                              step_size_up=params[\"CLR\"][\"up\"], \n",
    "                                              step_size_down=params[\"CLR\"][\"down\"],\n",
    "                                              mode=params[\"CLR\"][\"mode\"],\n",
    "                                              cycle_momentum=False)\n",
    "\n",
    "# scheduler = torch.optim.lr_scheduler.StepLR(optimizer, step_size=params[\"SLR\"][\"step_size\"], \n",
    "#                                            gamma=params[\"SLR\"][\"gamma\"])\n",
    "\n",
    "early_stopping = EarlyStopping(patience=params[\"ES\"][\"patience\"], min_delta=params[\"ES\"][\"min_delta\"])\n",
    "\n",
    "\n",
    "# Initalize trainer for training.\n",
    "trainer = Trainer2D(criterion, model, optimizer, params[\"total_epochs\"], train_loader, scheduler)\n",
    "\n",
    "# Initalize evaluator for validation.\n",
    "evaluator = Evaluator2D(criterion, model, val_loader)"
   ]
  },
  {
   "cell_type": "code",
   "execution_count": null,
   "metadata": {},
   "outputs": [],
   "source": [
    "# Create output and path if it is not exist.\n",
    "if not os.path.isdir(weight_path):\n",
    "    os.makedirs(weight_path)\n",
    "\n",
    "# Create Tensorboard object to save experiment outputs.    \n",
    "tb = TensorboardModules(output_path)\n",
    "\n",
    "# Save hyperparameters as note.\n",
    "(pd.DataFrame.from_dict(data=params, orient='index')\n",
    " .to_csv(os.path.join(output_path,\"details.txt\"), header=False, sep=\"=\"))\n",
    "\n",
    "# Add some images and corresponding masks into Tensorboard.\n",
    "mri_image, mri_mask = val[0]['mri']['data'].squeeze(0), val[0]['mask']['data'].squeeze(0)\n",
    "slices = (50, 100, 10)\n",
    "tb.add_image_mask(mri_image, mri_mask, slices)\n",
    "\n",
    "# Add model graph to Tensorboard.\n",
    "tb.add_graph(model, (256, 256), device)\n",
    "# print(summary(model, input_size=(1, 32, 128, 128)))"
   ]
  },
  {
   "cell_type": "code",
   "execution_count": null,
   "metadata": {
    "scrolled": true
   },
   "outputs": [],
   "source": [
    "prev_weights = \"\"\n",
    "prev_val_loss = 100\n",
    "\n",
    "for epoch in range(0, params[\"total_epochs\"]):\n",
    "    # One forward pass for all training data.\n",
    "    avg_train_loss = trainer.fit()\n",
    "    \n",
    "    # Evaluate current model on validation data.\n",
    "    avg_val_loss, dice_scores = evaluator.evaluate()\n",
    "    avg_scores = sum(dice_scores) / len(dice_scores)\n",
    "    \n",
    "    print(\"-------------------------------------------------------------\")\n",
    "    \n",
    "    # Add results to tensorboard.\n",
    "    tb.add_scalars(step=epoch+1, lr=scheduler.get_last_lr()[0], ds=avg_scores, \n",
    "                   train_loss=avg_train_loss, val_loss=avg_val_loss)\n",
    "    \n",
    "    model_name = \"_\".join([str(epoch), \"model.pth\"])\n",
    "    model_path = os.path.join(weight_path, model_name)\n",
    "    \n",
    "    if avg_val_loss < prev_val_loss:\n",
    "        # Save trained weights.\n",
    "        if os.path.isfile(prev_weights):\n",
    "            os.remove(prev_weights)        \n",
    "        torch.save(model.state_dict(), model_path)\n",
    "        \n",
    "    prev_weights = model_path        \n",
    "    prev_val_loss = avg_val_loss\n",
    "    \n",
    "    # If model is not learning stop the training.\n",
    "    early_stopping(avg_val_loss)\n",
    "    if early_stopping.early_stop:\n",
    "        break\n",
    "\n",
    "print('Finished Training')"
   ]
  },
  {
   "cell_type": "code",
   "execution_count": null,
   "metadata": {},
   "outputs": [],
   "source": []
  }
 ],
 "metadata": {
  "kernelspec": {
   "display_name": "pytorch",
   "language": "python",
   "name": "pytorch"
  },
  "language_info": {
   "codemirror_mode": {
    "name": "ipython",
    "version": 3
   },
   "file_extension": ".py",
   "mimetype": "text/x-python",
   "name": "python",
   "nbconvert_exporter": "python",
   "pygments_lexer": "ipython3",
   "version": "3.8.10"
  },
  "toc": {
   "base_numbering": 1,
   "nav_menu": {},
   "number_sections": true,
   "sideBar": true,
   "skip_h1_title": false,
   "title_cell": "Table of Contents",
   "title_sidebar": "Contents",
   "toc_cell": false,
   "toc_position": {},
   "toc_section_display": true,
   "toc_window_display": false
  },
  "varInspector": {
   "cols": {
    "lenName": 16,
    "lenType": 16,
    "lenVar": 40
   },
   "kernels_config": {
    "python": {
     "delete_cmd_postfix": "",
     "delete_cmd_prefix": "del ",
     "library": "var_list.py",
     "varRefreshCmd": "print(var_dic_list())"
    },
    "r": {
     "delete_cmd_postfix": ") ",
     "delete_cmd_prefix": "rm(",
     "library": "var_list.r",
     "varRefreshCmd": "cat(var_dic_list()) "
    }
   },
   "types_to_exclude": [
    "module",
    "function",
    "builtin_function_or_method",
    "instance",
    "_Feature"
   ],
   "window_display": false
  }
 },
 "nbformat": 4,
 "nbformat_minor": 4
}
