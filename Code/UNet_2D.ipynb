{
 "cells": [
  {
   "cell_type": "code",
   "execution_count": null,
   "metadata": {},
   "outputs": [],
   "source": [
    "import os\n",
    "\n",
    "import matplotlib.pyplot as plt\n",
    "import numpy as np\n",
    "import pandas as pd\n",
    "import torch\n",
    "import torch.nn as nn\n",
    "import torch.nn.functional as F\n",
    "import torchio as tio\n",
    "from torchsummary import summary\n",
    "import torchvision\n",
    "import torchvision.transforms as transforms\n",
    "\n",
    "\n",
    "from modules.Dataset import FeTADataSet\n",
    "from modules.LossFunctions import GDiceLossV2, DC_and_CE_loss\n",
    "from modules.UNet import UNet2Dv2\n",
    "from modules.Utils import calculate_dice_score, create_onehot_mask, init_weights_kaiming\n",
    "from modules.Utils import TensorboardModules "
   ]
  },
  {
   "cell_type": "code",
   "execution_count": null,
   "metadata": {},
   "outputs": [],
   "source": [
    "device = torch.device(\"cuda\" if torch.cuda.is_available() else \"cpu\")\n",
    "\n",
    "# Hyper-parameters \n",
    "num_epochs = 250\n",
    "batch_size_ = 1\n",
    "lr_ = 0.01\n",
    "momentum_ = 0.9\n",
    "nesterov_ = True\n",
    "weight_path = \"weights/UNet2D/run3\"\n",
    "shape = (256, 256, 256)\n",
    "\n",
    "tb = TensorboardModules(os.path.join(weight_path, \"events\"))"
   ]
  },
  {
   "cell_type": "code",
   "execution_count": null,
   "metadata": {},
   "outputs": [],
   "source": [
    "labels = pd.read_csv(\"feta_2.1/dseg.tsv\", sep='\\t', index_col=\"index\")\n",
    "\n",
    "transform_ = transforms.Compose([tio.ZNormalization(masking_method=tio.ZNormalization.mean)])\n",
    "\n",
    "train = FeTADataSet(train=True, transform=transform_)\n",
    "test = FeTADataSet(train=False, transform=transform_)\n",
    "\n",
    "train_loader = torch.utils.data.DataLoader(dataset=train, batch_size=batch_size_)\n",
    "test_loader = torch.utils.data.DataLoader(dataset=test, batch_size=batch_size_)"
   ]
  },
  {
   "cell_type": "code",
   "execution_count": null,
   "metadata": {},
   "outputs": [],
   "source": [
    "### Add some images and corresponding masks into Tensorboard.\n",
    "#mri_image, mri_mask = test[9]\n",
    "#slices = (50, 150, 10)\n",
    "#tb.add_images(\"Fetal Brain Images\", mri_image, slices)\n",
    "#tb.add_images(\"Fetal Brain Masks\", mri_mask, slices)"
   ]
  },
  {
   "cell_type": "code",
   "execution_count": null,
   "metadata": {},
   "outputs": [],
   "source": [
    "model = UNet2Dv2().to(device)\n",
    "model.apply(init_weights_kaiming)\n",
    "\n",
    "# Add model graph to Tensorboard.\n",
    "tb.add_graph(model, (256, 256), device)\n",
    "#print(summary(model, input_size=(1, 256, 256)))\n",
    "\n",
    "criterion = DC_and_CE_loss({'batch_dice': True, 'smooth': 1e-5, 'do_bg': False, 'square': False}, {})\n",
    "optimizer = torch.optim.SGD(model.parameters(), lr=lr_, momentum=momentum_, nesterov=nesterov_)"
   ]
  },
  {
   "cell_type": "code",
   "execution_count": null,
   "metadata": {},
   "outputs": [],
   "source": [
    "count_forward = 0\n",
    "n_total_steps = len(train_loader)\n",
    "running_loss = 0.0\n",
    "running_dice_scores = torch.zeros(8).to(device)\n",
    "bs_2d = 16\n",
    "\n",
    "for epoch in range(num_epochs):\n",
    "    for i, (image, mask) in enumerate(train_loader):\n",
    "        image = image.to(device) #[bs,x,y,z]        \n",
    "        mask = mask.to(device) #[x,y,z]\n",
    "                \n",
    "        for slice_ix in range(0, 255, bs_2d):\n",
    "            slice_image = image[0, :, :, slice_ix:slice_ix+bs_2d].permute(2, 0, 1) #to get axial slice [:, :, index]\n",
    "            slice_mask = mask[0, :, :, slice_ix:slice_ix+bs_2d].permute(2, 0, 1)\n",
    "            slice_image = slice_image.view(bs_2d, 1, 256, 256)\n",
    "            slice_mask = slice_mask.view(bs_2d, 1, 256, 256)\n",
    "            \n",
    "            unique, counts = torch.unique(slice_mask, return_counts=True) \n",
    "\n",
    "            # if the label count below the 16 pixel don't train with it.            \n",
    "            if torch.any(counts[1:]>50):                \n",
    "                outputs = model(slice_image.float())\n",
    "\n",
    "                one_hot_mask = create_onehot_mask(outputs.shape, slice_mask, device)\n",
    "                loss = criterion(outputs, slice_mask)\n",
    "\n",
    "                optimizer.zero_grad()\n",
    "                loss.backward()\n",
    "                optimizer.step()\n",
    "\n",
    "                # Sum losses and dice scores for all predicitions.\n",
    "                running_loss += loss.item()\n",
    "                scores = calculate_dice_score(F.softmax(outputs, dim=1), one_hot_mask)\n",
    "                running_dice_scores += scores\n",
    "                count_forward += 1\n",
    "        \n",
    "        \n",
    "        #if (i+1) % 10 == 0:\n",
    "    print(f\"Epoch [{epoch+1}/{num_epochs}], Step [{i+1}/{n_total_steps}], Loss: {loss.item()}\")\n",
    "    model_name = \"_\".join([str(epoch+1), str(lr_), str(nesterov_), \"model.pth\"])\n",
    "    torch.save(model.state_dict(), os.path.join(weight_path, model_name))\n",
    "                \n",
    "    step = epoch * n_total_steps + i\n",
    "    \n",
    "    #Add average loss per 10th step to Tensorboard.\n",
    "    avg_loss = running_loss / count_forward\n",
    "    tb.add_loss(avg_loss, step)\n",
    "    \n",
    "    #Add average dice score per 10th step to Tensorboard.\n",
    "    avg_scores = running_dice_scores / count_forward\n",
    "    tb.add_dice_score(avg_scores, step)\n",
    "    \n",
    "    #Set values to zero for new calculations.\n",
    "    count_forward = 0\n",
    "    running_loss = 0.0\n",
    "    running_dice_scores[:] = 0 \n",
    "\n",
    "print('Finished Training')"
   ]
  },
  {
   "cell_type": "code",
   "execution_count": null,
   "metadata": {},
   "outputs": [],
   "source": []
  },
  {
   "cell_type": "code",
   "execution_count": null,
   "metadata": {},
   "outputs": [],
   "source": [
    "# Show results.\n",
    "im_id = 8\n",
    "slice_id = 120\n",
    "class_index = 0\n",
    "\n",
    "image, mask = test[im_id]\n",
    "image = torch.Tensor(image)\n",
    "\n",
    "inp = image[:, :, slice_id].view(1, 1, 256, 256)\n",
    "inp = torch.Tensor(inp).to(device)\n",
    "out = model(inp.float())\n",
    "\n",
    "gt = torch.Tensor(mask[:, :, slice_id]).view(1, 1, 256, 256)\n",
    "gt = create_onehot_mask(out.shape, gt.to(device), device)\n",
    "\n",
    "fig, ax = plt.subplots(1, 3, figsize=(15, 15))\n",
    "ax[0].imshow(image[:, :, slice_id])\n",
    "ax[1].imshow(out[0, class_index].cpu().detach().numpy(), cmap=\"gray\")\n",
    "ax[2].imshow(gt[0, class_index].cpu(), cmap=\"gray\")\n",
    "plt.imshow()"
   ]
  },
  {
   "cell_type": "code",
   "execution_count": null,
   "metadata": {},
   "outputs": [],
   "source": []
  },
  {
   "cell_type": "code",
   "execution_count": null,
   "metadata": {},
   "outputs": [],
   "source": []
  }
 ],
 "metadata": {
  "kernelspec": {
   "display_name": "pytorch",
   "language": "python",
   "name": "pytorch"
  },
  "language_info": {
   "codemirror_mode": {
    "name": "ipython",
    "version": 3
   },
   "file_extension": ".py",
   "mimetype": "text/x-python",
   "name": "python",
   "nbconvert_exporter": "python",
   "pygments_lexer": "ipython3",
   "version": "3.8.10"
  },
  "toc": {
   "base_numbering": 1,
   "nav_menu": {},
   "number_sections": true,
   "sideBar": true,
   "skip_h1_title": false,
   "title_cell": "Table of Contents",
   "title_sidebar": "Contents",
   "toc_cell": false,
   "toc_position": {},
   "toc_section_display": true,
   "toc_window_display": false
  },
  "varInspector": {
   "cols": {
    "lenName": 16,
    "lenType": 16,
    "lenVar": 40
   },
   "kernels_config": {
    "python": {
     "delete_cmd_postfix": "",
     "delete_cmd_prefix": "del ",
     "library": "var_list.py",
     "varRefreshCmd": "print(var_dic_list())"
    },
    "r": {
     "delete_cmd_postfix": ") ",
     "delete_cmd_prefix": "rm(",
     "library": "var_list.r",
     "varRefreshCmd": "cat(var_dic_list()) "
    }
   },
   "types_to_exclude": [
    "module",
    "function",
    "builtin_function_or_method",
    "instance",
    "_Feature"
   ],
   "window_display": false
  }
 },
 "nbformat": 4,
 "nbformat_minor": 4
}
