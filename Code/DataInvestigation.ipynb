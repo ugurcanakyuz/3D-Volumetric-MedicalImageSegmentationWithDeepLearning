{
 "cells": [
  {
   "cell_type": "code",
   "execution_count": 71,
   "metadata": {
    "ExecuteTime": {
     "end_time": "2021-12-01T07:57:29.929850Z",
     "start_time": "2021-12-01T07:57:29.923373Z"
    }
   },
   "outputs": [],
   "source": [
    "import glob\n",
    "import json\n",
    "import os\n",
    "\n",
    "import cv2\n",
    "import matplotlib.pyplot as plt\n",
    "import nibabel as nib\n",
    "import numpy as np\n",
    "from ipywidgets import fixed, interactive"
   ]
  },
  {
   "cell_type": "code",
   "execution_count": 72,
   "metadata": {},
   "outputs": [],
   "source": [
    "def get_subjects(folder):\n",
    "    subjects = glob.glob(os.path.join(folder, 's*'))\n",
    "    subjects = [os.path.basename(x) for x in subjects]\n",
    "    subjects.sort()\n",
    "\n",
    "    return subjects"
   ]
  },
  {
   "cell_type": "code",
   "execution_count": 73,
   "metadata": {},
   "outputs": [],
   "source": [
    "def rotate_image(image, angle):\n",
    "    image_center = tuple(np.array(image.shape[1::-1]) / 2)\n",
    "    rot_mat = cv2.getRotationMatrix2D(image_center, angle, 1.0)\n",
    "    result = cv2.warpAffine(image, rot_mat, image.shape[1::-1], flags=cv2.INTER_LINEAR)\n",
    "    \n",
    "    return result"
   ]
  },
  {
   "cell_type": "code",
   "execution_count": 74,
   "metadata": {},
   "outputs": [],
   "source": [
    "def path_nii(subject, isMask):\n",
    "    suffix_image = \"_rec-mial_T2w.nii.gz\"\n",
    "    suffix_mask = \"_rec-mial_dseg.nii.gz\"\n",
    "    \n",
    "    if isMask == False:\n",
    "        return os.path.join(folder, \n",
    "                              subject, \n",
    "                              \"anat\", \n",
    "                              subject+suffix_image)\n",
    "    else:\n",
    "        return os.path.join(folder, \n",
    "                              subject, \n",
    "                              \"anat\", \n",
    "                              subject+suffix_mask)"
   ]
  },
  {
   "cell_type": "code",
   "execution_count": 96,
   "metadata": {},
   "outputs": [],
   "source": [
    "def draw_image(index, sub_name, isMask, orientation):\n",
    "    nii_im = nib.load(path_nii(sub_name, isMask))\n",
    "    im = nii_im.get_fdata()\n",
    "    \n",
    "    fig = plt.figure(figsize=(8, 8))\n",
    "    if orientation == \"coronal\":\n",
    "        im = im[:, index, :]\n",
    "        im = rotate_image(im, 90)\n",
    "        plt.imshow(im)\n",
    "    elif orientation == \"axial\":\n",
    "        im = im[:, :, index]\n",
    "        im = rotate_image(im, 90)\n",
    "        plt.imshow(im)\n",
    "    else:\n",
    "        im = im[index, :, :]\n",
    "        im = rotate_image(im, 90)\n",
    "        plt.imshow(im)\n",
    "    plt.show()\n",
    "    \n",
    "\n",
    "def show_image(subject, isMask):\n",
    "    interactive_plot = interactive(draw_image, index=(0, 255),\n",
    "                                   sub_name = fixed(subject),\n",
    "                                   isMask=fixed(isMask),\n",
    "                                   orientation=[\"axial\", \"coronal\", \"sagittal\"])\n",
    "    \n",
    "    output = interactive_plot.children[-1]\n",
    "    display(interactive_plot)"
   ]
  },
  {
   "cell_type": "code",
   "execution_count": 97,
   "metadata": {
    "ExecuteTime": {
     "end_time": "2021-12-01T07:59:53.610063Z",
     "start_time": "2021-12-01T07:59:53.606696Z"
    }
   },
   "outputs": [],
   "source": [
    "folder = 'feta_2.1/'\n",
    "\n",
    "subjects = get_subjects(folder)"
   ]
  },
  {
   "cell_type": "code",
   "execution_count": 99,
   "metadata": {},
   "outputs": [
    {
     "data": {
      "application/vnd.jupyter.widget-view+json": {
       "model_id": "b1334034d36543bba663b5ccc096a9f2",
       "version_major": 2,
       "version_minor": 0
      },
      "text/plain": [
       "interactive(children=(IntSlider(value=127, description='index', max=255), Dropdown(description='orientation', …"
      ]
     },
     "metadata": {},
     "output_type": "display_data"
    }
   ],
   "source": [
    "show_image(subjects[0], isMask = False)"
   ]
  },
  {
   "cell_type": "code",
   "execution_count": null,
   "metadata": {},
   "outputs": [],
   "source": []
  },
  {
   "cell_type": "code",
   "execution_count": null,
   "metadata": {},
   "outputs": [],
   "source": []
  },
  {
   "cell_type": "code",
   "execution_count": null,
   "metadata": {},
   "outputs": [],
   "source": []
  }
 ],
 "metadata": {
  "kernelspec": {
   "display_name": "cv",
   "language": "python",
   "name": "cv"
  },
  "language_info": {
   "codemirror_mode": {
    "name": "ipython",
    "version": 3
   },
   "file_extension": ".py",
   "mimetype": "text/x-python",
   "name": "python",
   "nbconvert_exporter": "python",
   "pygments_lexer": "ipython3",
   "version": "3.8.10"
  },
  "toc": {
   "base_numbering": 1,
   "nav_menu": {},
   "number_sections": true,
   "sideBar": true,
   "skip_h1_title": false,
   "title_cell": "Table of Contents",
   "title_sidebar": "Contents",
   "toc_cell": false,
   "toc_position": {},
   "toc_section_display": true,
   "toc_window_display": false
  },
  "varInspector": {
   "cols": {
    "lenName": 16,
    "lenType": 16,
    "lenVar": 40
   },
   "kernels_config": {
    "python": {
     "delete_cmd_postfix": "",
     "delete_cmd_prefix": "del ",
     "library": "var_list.py",
     "varRefreshCmd": "print(var_dic_list())"
    },
    "r": {
     "delete_cmd_postfix": ") ",
     "delete_cmd_prefix": "rm(",
     "library": "var_list.r",
     "varRefreshCmd": "cat(var_dic_list()) "
    }
   },
   "types_to_exclude": [
    "module",
    "function",
    "builtin_function_or_method",
    "instance",
    "_Feature"
   ],
   "window_display": false
  }
 },
 "nbformat": 4,
 "nbformat_minor": 4
}
