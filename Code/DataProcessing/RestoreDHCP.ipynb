{
 "cells": [
  {
   "cell_type": "markdown",
   "metadata": {},
   "source": [
    "# This enables to restore dHCP data from backup."
   ]
  },
  {
   "cell_type": "code",
   "execution_count": null,
   "metadata": {},
   "outputs": [],
   "source": [
    "import os\n",
    "\n",
    "import nibabel as nib\n",
    "import numpy as np\n",
    "import pandas as pd\n",
    "import shutil\n",
    "\n",
    "from modules.Utils import get_file_names"
   ]
  },
  {
   "cell_type": "code",
   "execution_count": null,
   "metadata": {},
   "outputs": [],
   "source": [
    "# Source folder of backup data.\n",
    "root = \"../../_Thesis/dHCP/\""
   ]
  },
  {
   "cell_type": "code",
   "execution_count": null,
   "metadata": {},
   "outputs": [],
   "source": [
    "# Get all subject files. {sub:[\"xxx-desc-restore_T2w.nii.gz\", \"xxx-drawem9_dseg.nii.gz\"]}\n",
    "files = get_file_names(\"data/rel3_dhcp_anat_pipeline/\")\n",
    "\n",
    "# Backup data are stored in session folders. So to create the correct path there is need to session ids. \n",
    "sess_ids = pd.read_csv(\"participants89.tsv\", sep=\"\\t\")"
   ]
  },
  {
   "cell_type": "code",
   "execution_count": null,
   "metadata": {},
   "outputs": [],
   "source": [
    "check_list = []\n",
    "\n",
    "for sub, paths in files.items():\n",
    "    sess = \"ses-\" + str(sess_id[sess_id[\"participant_id\"]==sub].session_id.item())\n",
    "    \n",
    "    # T2w and drawem9_dseg files.\n",
    "    tmp1 = paths[0].split('/')\n",
    "    src_1 = os.path.join(root, *tmp1[:3], sess, *tmp1[3:])\n",
    "    dst_1 = paths[0]\n",
    "\n",
    "    tmp2 = paths[1].split('/')\n",
    "    src_2 = os.path.join(root, *tmp2[:3], sess, *tmp2[3:])\n",
    "    dst_2 = paths[1]\n",
    "    \n",
    "    try:\n",
    "        shutil.copy(src_1, dst_1)\n",
    "        shutil.copy(src_2, dst_2)\n",
    "    except:\n",
    "        # Warn user to check wrongs files if can't copy the data.\n",
    "        check_list.append(src_1)\n",
    "        \n",
    "assert check_list==[], f\"Files are wrong. Files {check_list}\""
   ]
  },
  {
   "cell_type": "code",
   "execution_count": null,
   "metadata": {},
   "outputs": [],
   "source": []
  },
  {
   "cell_type": "code",
   "execution_count": null,
   "metadata": {},
   "outputs": [],
   "source": []
  },
  {
   "cell_type": "code",
   "execution_count": null,
   "metadata": {},
   "outputs": [],
   "source": []
  },
  {
   "cell_type": "code",
   "execution_count": null,
   "metadata": {},
   "outputs": [],
   "source": []
  }
 ],
 "metadata": {
  "kernelspec": {
   "display_name": "pytorch",
   "language": "python",
   "name": "pytorch"
  },
  "language_info": {
   "codemirror_mode": {
    "name": "ipython",
    "version": 3
   },
   "file_extension": ".py",
   "mimetype": "text/x-python",
   "name": "python",
   "nbconvert_exporter": "python",
   "pygments_lexer": "ipython3",
   "version": "3.8.10"
  },
  "varInspector": {
   "cols": {
    "lenName": 16,
    "lenType": 16,
    "lenVar": 40
   },
   "kernels_config": {
    "python": {
     "delete_cmd_postfix": "",
     "delete_cmd_prefix": "del ",
     "library": "var_list.py",
     "varRefreshCmd": "print(var_dic_list())"
    },
    "r": {
     "delete_cmd_postfix": ") ",
     "delete_cmd_prefix": "rm(",
     "library": "var_list.r",
     "varRefreshCmd": "cat(var_dic_list()) "
    }
   },
   "types_to_exclude": [
    "module",
    "function",
    "builtin_function_or_method",
    "instance",
    "_Feature"
   ],
   "window_display": false
  }
 },
 "nbformat": 4,
 "nbformat_minor": 4
}
